{
 "cells": [
  {
   "cell_type": "markdown",
   "metadata": {},
   "source": [
    "# Analyse results"
   ]
  },
  {
   "cell_type": "code",
   "execution_count": null,
   "metadata": {},
   "outputs": [],
   "source": [
    "# Get latent representation\n",
    "latent = model.get_latent_representation()\n",
    "adata.obsm[\"X_scVI\"] = latent\n",
    "\n",
    "# Run UMAP on latent space\n",
    "sc.pp.neighbors(adata, use_rep=\"X_scVI\")\n",
    "sc.tl.umap(adata)\n",
    "sc.tl.leiden(adata, key_added=\"scvi_leiden\")\n",
    "\n",
    "# Visualization\n",
    "sc.pl.umap(adata, color=[\"scvi_leiden\", \"sample_id\", \"cell_type\"])\n",
    "\n",
    "# Differential expression analysis\n",
    "de_df = model.differential_expression(\n",
    "    groupby=\"cell_type\",\n",
    "    group1=\"Excitatory\",  # Replace with your group of interest\n",
    "    group2=\"Inhibitory\",  # Replace with your comparison group\n",
    ")\n",
    "\n",
    "# Save results\n",
    "de_df.to_csv(\"differential_expression_results.csv\")"
   ]
  }
 ],
 "metadata": {
  "kernelspec": {
   "display_name": "scvi_project",
   "language": "python",
   "name": "python3"
  },
  "language_info": {
   "name": "python",
   "version": "3.11.11"
  }
 },
 "nbformat": 4,
 "nbformat_minor": 2
}

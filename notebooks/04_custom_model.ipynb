{
 "cells": [
  {
   "cell_type": "markdown",
   "metadata": {},
   "source": [
    "# Custom Model"
   ]
  },
  {
   "cell_type": "code",
   "execution_count": null,
   "metadata": {},
   "outputs": [],
   "source": [
    "# Setup AnnData with your custom model\n",
    "scvi.model.SCVI.setup_anndata(\n",
    "    adata,\n",
    "    batch_key=\"sample_id\",  # Replace with your batch column\n",
    "    labels_key=\"cell_type\"   # Replace with your cell type column\n",
    ")\n",
    "\n",
    "# Create and train custom model\n",
    "from custom_scvi import CustomSCVIModel\n",
    "\n",
    "custom_model = CustomSCVIModel(\n",
    "    adata,\n",
    "    n_hidden=256,\n",
    "    n_latent=20,\n",
    "    n_layers=4,\n",
    "    dropout_rate=0.2,\n",
    "    use_layer_norm=True,\n",
    "    regularization_strength=0.8\n",
    ")\n",
    "\n",
    "# Train the model\n",
    "custom_model.train(\n",
    "    max_epochs=500,\n",
    "    early_stopping=True,\n",
    "    early_stopping_patience=30\n",
    ")\n",
    "\n",
    "# Save the model\n",
    "custom_model.save(\"custom_scvi_model\")\n",
    "\n",
    "# Get latent representation\n",
    "latent_custom = custom_model.get_latent_representation()\n",
    "adata.obsm[\"X_custom_scVI\"] = latent_custom\n",
    "\n",
    "# Analyze as before\n",
    "sc.pp.neighbors(adata, use_rep=\"X_custom_scVI\")\n",
    "sc.tl.umap(adata)\n",
    "sc.tl.leiden(adata, key_added=\"custom_scvi_leiden\")\n",
    "sc.pl.umap(adata, color=[\"custom_scvi_leiden\", \"cell_type\"])"
   ]
  },
  {
   "cell_type": "markdown",
   "metadata": {},
   "source": [
    "# Compare Original vs Custom Model"
   ]
  },
  {
   "cell_type": "code",
   "execution_count": null,
   "metadata": {},
   "outputs": [],
   "source": [
    "# Load original model for comparison\n",
    "original_model = scvi.model.SCVI.load(\"scvi_model_allen\", adata)\n",
    "\n",
    "# Get latent representations from both models\n",
    "adata.obsm[\"X_original_scVI\"] = original_model.get_latent_representation()\n",
    "adata.obsm[\"X_custom_scVI\"] = custom_model.get_latent_representation()\n",
    "\n",
    "# Run UMAP on both latent spaces\n",
    "sc.pp.neighbors(adata, use_rep=\"X_original_scVI\", key_added=\"neighbors_original\")\n",
    "sc.pp.neighbors(adata, use_rep=\"X_custom_scVI\", key_added=\"neighbors_custom\")\n",
    "\n",
    "sc.tl.umap(adata, neighbors_key=\"neighbors_original\", key_added=\"umap_original\")\n",
    "sc.tl.umap(adata, neighbors_key=\"neighbors_custom\", key_added=\"umap_custom\")\n",
    "\n",
    "# Create comparison visualization\n",
    "fig, axes = plt.subplots(1, 2, figsize=(16, 7))\n",
    "sc.pl.umap(adata, color=\"cell_type\", use_rep=\"umap_original\", title=\"Original scVI\", ax=axes[0], show=False)\n",
    "sc.pl.umap(adata, color=\"cell_type\", use_rep=\"umap_custom\", title=\"Custom scVI\", ax=axes[1], show=False)\n",
    "plt.tight_layout()\n",
    "plt.savefig(\"model_comparison.png\", dpi=300)\n",
    "plt.show()\n",
    "\n",
    "# Compare cell type separation metrics\n",
    "from sklearn.metrics import silhouette_score\n",
    "\n",
    "silhouette_original = silhouette_score(\n",
    "    adata.obsm[\"X_original_scVI\"], \n",
    "    adata.obs[\"cell_type\"].cat.codes\n",
    ")\n",
    "\n",
    "silhouette_custom = silhouette_score(\n",
    "    adata.obsm[\"X_custom_scVI\"], \n",
    "    adata.obs[\"cell_type\"].cat.codes\n",
    ")\n",
    "\n",
    "print(f\"Original model silhouette score: {silhouette_original:.4f}\")\n",
    "print(f\"Custom model silhouette score: {silhouette_custom:.4f}\")"
   ]
  }
 ],
 "metadata": {
  "kernelspec": {
   "display_name": "scvi_project",
   "language": "python",
   "name": "python3"
  },
  "language_info": {
   "name": "python",
   "version": "3.11.11"
  }
 },
 "nbformat": 4,
 "nbformat_minor": 2
}

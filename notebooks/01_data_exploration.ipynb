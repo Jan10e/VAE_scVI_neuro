{
 "cells": [
  {
   "cell_type": "markdown",
   "metadata": {},
   "source": [
    "# Data Exploration\n",
    "Data Source: [Allen Brain Atlas](https://portal.brain-map.org/)\n",
    "\n",
    "Instructions for downloading the data can be found here: https://alleninstitute.github.io/abc_atlas_access/notebooks/getting_started.html"
   ]
  },
  {
   "cell_type": "code",
   "execution_count": 1,
   "metadata": {},
   "outputs": [
    {
     "name": "stderr",
     "output_type": "stream",
     "text": [
      "/home/jantine/miniconda3/envs/scvi_project/lib/python3.11/site-packages/tqdm/auto.py:21: TqdmWarning: IProgress not found. Please update jupyter and ipywidgets. See https://ipywidgets.readthedocs.io/en/stable/user_install.html\n",
      "  from .autonotebook import tqdm as notebook_tqdm\n",
      "/home/jantine/miniconda3/envs/scvi_project/lib/python3.11/site-packages/docrep/decorators.py:43: SyntaxWarning: 'param_categorical_covariate_keys' is not a valid key!\n",
      "  doc = func(self, args[0].__doc__, *args[1:], **kwargs)\n",
      "/home/jantine/miniconda3/envs/scvi_project/lib/python3.11/site-packages/docrep/decorators.py:43: SyntaxWarning: 'param_continuous_covariate_keys' is not a valid key!\n",
      "  doc = func(self, args[0].__doc__, *args[1:], **kwargs)\n"
     ]
    }
   ],
   "source": [
    "import scanpy as sc\n",
    "import scvi\n",
    "import matplotlib.pyplot as plt\n",
    "import seaborn as sns\n",
    "import numpy as np\n",
    "import pandas as pd\n",
    "\n",
    "from pathlib import Path\n",
    "from abc_atlas_access.abc_atlas_cache.abc_project_cache import AbcProjectCache"
   ]
  },
  {
   "cell_type": "code",
   "execution_count": 2,
   "metadata": {},
   "outputs": [
    {
     "data": {
      "text/plain": [
       "'releases/20250331/manifest.json'"
      ]
     },
     "execution_count": 2,
     "metadata": {},
     "output_type": "execute_result"
    }
   ],
   "source": [
    "download_base = Path(\"/home/jantine/Data/AllenBrain/abc_atlas\")\n",
    "abc_cache = AbcProjectCache.from_cache_dir(download_base)\n",
    "\n",
    "abc_cache.current_manifest"
   ]
  },
  {
   "cell_type": "code",
   "execution_count": 3,
   "metadata": {},
   "outputs": [
    {
     "data": {
      "text/plain": [
       "['releases/20230630/manifest.json',\n",
       " 'releases/20230830/manifest.json',\n",
       " 'releases/20231215/manifest.json',\n",
       " 'releases/20240330/manifest.json',\n",
       " 'releases/20240831/manifest.json',\n",
       " 'releases/20241115/manifest.json',\n",
       " 'releases/20241130/manifest.json',\n",
       " 'releases/20250131/manifest.json',\n",
       " 'releases/20250331/manifest.json']"
      ]
     },
     "execution_count": 3,
     "metadata": {},
     "output_type": "execute_result"
    }
   ],
   "source": [
    "abc_cache.list_manifest_file_names"
   ]
  },
  {
   "cell_type": "code",
   "execution_count": 4,
   "metadata": {},
   "outputs": [
    {
     "name": "stdout",
     "output_type": "stream",
     "text": [
      "after latest manifest loaded: releases/20250331/manifest.json\n"
     ]
    }
   ],
   "source": [
    "# Return to the latest manifest\n",
    "abc_cache.load_latest_manifest()\n",
    "print(\"after latest manifest loaded:\", abc_cache.current_manifest)"
   ]
  },
  {
   "cell_type": "code",
   "execution_count": null,
   "metadata": {},
   "outputs": [
    {
     "data": {
      "text/plain": [
       "['ASAP-PMDBS-10X',\n",
       " 'ASAP-PMDBS-taxonomy',\n",
       " 'Allen-CCF-2020',\n",
       " 'MERFISH-C57BL6J-638850',\n",
       " 'MERFISH-C57BL6J-638850-CCF',\n",
       " 'MERFISH-C57BL6J-638850-imputed',\n",
       " 'MERFISH-C57BL6J-638850-sections',\n",
       " 'SEAAD',\n",
       " 'SEAAD-taxonomy',\n",
       " 'WHB-10Xv3',\n",
       " 'WHB-taxonomy',\n",
       " 'WMB-10X',\n",
       " 'WMB-10XMulti',\n",
       " 'WMB-10Xv2',\n",
       " 'WMB-10Xv3',\n",
       " 'WMB-neighborhoods',\n",
       " 'WMB-taxonomy',\n",
       " 'Zeng-Aging-Mouse-10Xv3',\n",
       " 'Zeng-Aging-Mouse-WMB-taxonomy',\n",
       " 'Zhuang-ABCA-1',\n",
       " 'Zhuang-ABCA-1-CCF',\n",
       " 'Zhuang-ABCA-2',\n",
       " 'Zhuang-ABCA-2-CCF',\n",
       " 'Zhuang-ABCA-3',\n",
       " 'Zhuang-ABCA-3-CCF',\n",
       " 'Zhuang-ABCA-4',\n",
       " 'Zhuang-ABCA-4-CCF']"
      ]
     },
     "execution_count": 5,
     "metadata": {},
     "output_type": "execute_result"
    }
   ],
   "source": [
    "abc_cache.list_directories  # I need WMB-10Xv3"
   ]
  },
  {
   "cell_type": "code",
   "execution_count": 6,
   "metadata": {},
   "outputs": [
    {
     "data": {
      "text/plain": [
       "['WMB-10Xv3-CB/log2',\n",
       " 'WMB-10Xv3-CB/raw',\n",
       " 'WMB-10Xv3-CTXsp/log2',\n",
       " 'WMB-10Xv3-CTXsp/raw',\n",
       " 'WMB-10Xv3-HPF/log2',\n",
       " 'WMB-10Xv3-HPF/raw',\n",
       " 'WMB-10Xv3-HY/log2',\n",
       " 'WMB-10Xv3-HY/raw',\n",
       " 'WMB-10Xv3-Isocortex-1/log2',\n",
       " 'WMB-10Xv3-Isocortex-1/raw',\n",
       " 'WMB-10Xv3-Isocortex-2/log2',\n",
       " 'WMB-10Xv3-Isocortex-2/raw',\n",
       " 'WMB-10Xv3-MB/log2',\n",
       " 'WMB-10Xv3-MB/raw',\n",
       " 'WMB-10Xv3-MY/log2',\n",
       " 'WMB-10Xv3-MY/raw',\n",
       " 'WMB-10Xv3-OLF/log2',\n",
       " 'WMB-10Xv3-OLF/raw',\n",
       " 'WMB-10Xv3-P/log2',\n",
       " 'WMB-10Xv3-P/raw',\n",
       " 'WMB-10Xv3-PAL/log2',\n",
       " 'WMB-10Xv3-PAL/raw',\n",
       " 'WMB-10Xv3-STR/log2',\n",
       " 'WMB-10Xv3-STR/raw',\n",
       " 'WMB-10Xv3-TH/log2',\n",
       " 'WMB-10Xv3-TH/raw']"
      ]
     },
     "execution_count": 6,
     "metadata": {},
     "output_type": "execute_result"
    }
   ],
   "source": [
    "abc_cache.list_data_files('WMB-10Xv3')"
   ]
  },
  {
   "cell_type": "code",
   "execution_count": 8,
   "metadata": {},
   "outputs": [
    {
     "data": {
      "text/plain": [
       "'176.41 GB'"
      ]
     },
     "execution_count": 8,
     "metadata": {},
     "output_type": "execute_result"
    }
   ],
   "source": [
    "# Check amount of total data \n",
    "abc_cache.get_directory_data_size('WMB-10Xv3')"
   ]
  },
  {
   "cell_type": "markdown",
   "metadata": {},
   "source": [
    "## Download the files"
   ]
  },
  {
   "cell_type": "code",
   "execution_count": 9,
   "metadata": {},
   "outputs": [
    {
     "name": "stderr",
     "output_type": "stream",
     "text": [
      "/home/jantine/miniconda3/envs/scvi_project/lib/python3.11/site-packages/abc_atlas_access/abc_atlas_cache/abc_project_cache.py:385: LargeDataSizeWarning: WMB-10Xv3 contains a significant amount of data.Continue this download only if you are sure you have enough space on your system.\n",
      "\n",
      "\tTotal directory size = 176.41 GB\n",
      "\n",
      "\n",
      "  warnings.warn(\n",
      "WMB-10Xv3-CB-log2.h5ad: 100%|██████████| 5.61G/5.61G [06:41<00:00, 14.0MMB/s]    \n",
      "WMB-10Xv3-CB-raw.h5ad: 100%|██████████| 5.61G/5.61G [05:44<00:00, 16.3MMB/s]    \n",
      "WMB-10Xv3-CTXsp-log2.h5ad: 100%|██████████| 3.28G/3.28G [03:22<00:00, 16.2MMB/s]    \n",
      "WMB-10Xv3-CTXsp-raw.h5ad: 100%|██████████| 3.28G/3.28G [03:22<00:00, 16.2MMB/s]    \n",
      "WMB-10Xv3-HPF-log2.h5ad: 100%|██████████| 7.41G/7.41G [07:39<00:00, 16.1MMB/s]    \n",
      "WMB-10Xv3-HPF-raw.h5ad: 100%|██████████| 7.41G/7.41G [07:44<00:00, 16.0MMB/s]    \n",
      "WMB-10Xv3-HY-log2.h5ad: 100%|██████████| 7.25G/7.25G [07:30<00:00, 16.1MMB/s]    \n",
      "WMB-10Xv3-HY-raw.h5ad: 100%|██████████| 7.25G/7.25G [07:28<00:00, 16.2MMB/s]    \n",
      "WMB-10Xv3-Isocortex-1-log2.h5ad: 100%|██████████| 11.8G/11.8G [12:03<00:00, 16.3MMB/s]     \n",
      "WMB-10Xv3-Isocortex-1-raw.h5ad: 100%|██████████| 11.8G/11.8G [13:16<00:00, 14.8MMB/s]    \n",
      "WMB-10Xv3-Isocortex-2-log2.h5ad: 100%|██████████| 8.36G/8.36G [08:36<00:00, 16.2MMB/s]    \n",
      "WMB-10Xv3-Isocortex-2-raw.h5ad: 100%|██████████| 8.36G/8.36G [08:36<00:00, 16.2MMB/s]    \n",
      "WMB-10Xv3-MB-log2.h5ad: 100%|██████████| 13.7G/13.7G [14:04<00:00, 16.3MMB/s]     \n",
      "WMB-10Xv3-MB-raw.h5ad: 100%|██████████| 13.7G/13.7G [14:14<00:00, 16.1MMB/s]     \n",
      "WMB-10Xv3-MY-log2.h5ad: 100%|██████████| 7.21G/7.21G [07:23<00:00, 16.3MMB/s]    \n",
      "WMB-10Xv3-MY-raw.h5ad: 100%|██████████| 7.21G/7.21G [07:29<00:00, 16.0MMB/s]    \n",
      "WMB-10Xv3-OLF-log2.h5ad: 100%|██████████| 3.11G/3.11G [03:21<00:00, 15.4MMB/s]    \n",
      "WMB-10Xv3-OLF-raw.h5ad: 100%|██████████| 3.11G/3.11G [03:14<00:00, 16.0MMB/s]    \n",
      "WMB-10Xv3-P-log2.h5ad: 100%|██████████| 5.20G/5.20G [05:27<00:00, 15.9MMB/s]    \n",
      "WMB-10Xv3-P-raw.h5ad: 100%|██████████| 5.20G/5.20G [05:24<00:00, 16.0MMB/s]    \n",
      "WMB-10Xv3-PAL-log2.h5ad: 100%|██████████| 4.07G/4.07G [04:14<00:00, 16.0MMB/s]    \n",
      "WMB-10Xv3-PAL-raw.h5ad: 100%|██████████| 4.07G/4.07G [04:15<00:00, 15.9MMB/s]    \n",
      "WMB-10Xv3-STR-log2.h5ad: 100%|██████████| 11.9G/11.9G [12:23<00:00, 16.0MMB/s]     \n",
      "WMB-10Xv3-STR-raw.h5ad: 100%|██████████| 11.9G/11.9G [12:25<00:00, 16.0MMB/s]     \n",
      "WMB-10Xv3-TH-log2.h5ad: 100%|██████████| 5.81G/5.81G [06:03<00:00, 16.0MMB/s]    \n",
      "WMB-10Xv3-TH-raw.h5ad: 100%|██████████| 5.81G/5.81G [06:08<00:00, 15.8MMB/s]    "
     ]
    },
    {
     "name": "stdout",
     "output_type": "stream",
     "text": [
      "WMB-10Xv3 data files:\n",
      "\t [PosixPath('/home/jantine/Data/AllenBrain/abc_atlas/expression_matrices/WMB-10Xv3/20230630/WMB-10Xv3-CB-log2.h5ad'), PosixPath('/home/jantine/Data/AllenBrain/abc_atlas/expression_matrices/WMB-10Xv3/20230630/WMB-10Xv3-CB-raw.h5ad'), PosixPath('/home/jantine/Data/AllenBrain/abc_atlas/expression_matrices/WMB-10Xv3/20230630/WMB-10Xv3-CTXsp-log2.h5ad'), PosixPath('/home/jantine/Data/AllenBrain/abc_atlas/expression_matrices/WMB-10Xv3/20230630/WMB-10Xv3-CTXsp-raw.h5ad'), PosixPath('/home/jantine/Data/AllenBrain/abc_atlas/expression_matrices/WMB-10Xv3/20230630/WMB-10Xv3-HPF-log2.h5ad'), PosixPath('/home/jantine/Data/AllenBrain/abc_atlas/expression_matrices/WMB-10Xv3/20230630/WMB-10Xv3-HPF-raw.h5ad'), PosixPath('/home/jantine/Data/AllenBrain/abc_atlas/expression_matrices/WMB-10Xv3/20230630/WMB-10Xv3-HY-log2.h5ad'), PosixPath('/home/jantine/Data/AllenBrain/abc_atlas/expression_matrices/WMB-10Xv3/20230630/WMB-10Xv3-HY-raw.h5ad'), PosixPath('/home/jantine/Data/AllenBrain/abc_atlas/expression_matrices/WMB-10Xv3/20230630/WMB-10Xv3-Isocortex-1-log2.h5ad'), PosixPath('/home/jantine/Data/AllenBrain/abc_atlas/expression_matrices/WMB-10Xv3/20230630/WMB-10Xv3-Isocortex-1-raw.h5ad'), PosixPath('/home/jantine/Data/AllenBrain/abc_atlas/expression_matrices/WMB-10Xv3/20230630/WMB-10Xv3-Isocortex-2-log2.h5ad'), PosixPath('/home/jantine/Data/AllenBrain/abc_atlas/expression_matrices/WMB-10Xv3/20230630/WMB-10Xv3-Isocortex-2-raw.h5ad'), PosixPath('/home/jantine/Data/AllenBrain/abc_atlas/expression_matrices/WMB-10Xv3/20230630/WMB-10Xv3-MB-log2.h5ad'), PosixPath('/home/jantine/Data/AllenBrain/abc_atlas/expression_matrices/WMB-10Xv3/20230630/WMB-10Xv3-MB-raw.h5ad'), PosixPath('/home/jantine/Data/AllenBrain/abc_atlas/expression_matrices/WMB-10Xv3/20230630/WMB-10Xv3-MY-log2.h5ad'), PosixPath('/home/jantine/Data/AllenBrain/abc_atlas/expression_matrices/WMB-10Xv3/20230630/WMB-10Xv3-MY-raw.h5ad'), PosixPath('/home/jantine/Data/AllenBrain/abc_atlas/expression_matrices/WMB-10Xv3/20230630/WMB-10Xv3-OLF-log2.h5ad'), PosixPath('/home/jantine/Data/AllenBrain/abc_atlas/expression_matrices/WMB-10Xv3/20230630/WMB-10Xv3-OLF-raw.h5ad'), PosixPath('/home/jantine/Data/AllenBrain/abc_atlas/expression_matrices/WMB-10Xv3/20230630/WMB-10Xv3-P-log2.h5ad'), PosixPath('/home/jantine/Data/AllenBrain/abc_atlas/expression_matrices/WMB-10Xv3/20230630/WMB-10Xv3-P-raw.h5ad'), PosixPath('/home/jantine/Data/AllenBrain/abc_atlas/expression_matrices/WMB-10Xv3/20230630/WMB-10Xv3-PAL-log2.h5ad'), PosixPath('/home/jantine/Data/AllenBrain/abc_atlas/expression_matrices/WMB-10Xv3/20230630/WMB-10Xv3-PAL-raw.h5ad'), PosixPath('/home/jantine/Data/AllenBrain/abc_atlas/expression_matrices/WMB-10Xv3/20230630/WMB-10Xv3-STR-log2.h5ad'), PosixPath('/home/jantine/Data/AllenBrain/abc_atlas/expression_matrices/WMB-10Xv3/20230630/WMB-10Xv3-STR-raw.h5ad'), PosixPath('/home/jantine/Data/AllenBrain/abc_atlas/expression_matrices/WMB-10Xv3/20230630/WMB-10Xv3-TH-log2.h5ad'), PosixPath('/home/jantine/Data/AllenBrain/abc_atlas/expression_matrices/WMB-10Xv3/20230630/WMB-10Xv3-TH-raw.h5ad')]\n"
     ]
    },
    {
     "name": "stderr",
     "output_type": "stream",
     "text": [
      "\n"
     ]
    }
   ],
   "source": [
    "allen_wmb_data = abc_cache.get_directory_data('WMB-10Xv3')\n",
    "print(\"WMB-10Xv3 data files:\\n\\t\", allen_wmb_data)"
   ]
  },
  {
   "cell_type": "code",
   "execution_count": 3,
   "metadata": {},
   "outputs": [
    {
     "ename": "FileNotFoundError",
     "evalue": "[Errno 2] Unable to synchronously open file (unable to open file: name = 'https:/storage.googleapis.com/allen-brain-cell-atlas/ata_2022/raw/mouse_v1_alm.h5ad', errno = 2, error message = 'No such file or directory', flags = 0, o_flags = 0)",
     "output_type": "error",
     "traceback": [
      "\u001b[31m---------------------------------------------------------------------------\u001b[39m",
      "\u001b[31mFileNotFoundError\u001b[39m                         Traceback (most recent call last)",
      "\u001b[36mCell\u001b[39m\u001b[36m \u001b[39m\u001b[32mIn[3]\u001b[39m\u001b[32m, line 7\u001b[39m\n\u001b[32m      4\u001b[39m \u001b[38;5;66;03m# Download and load your dataset (example with Allen Brain data)\u001b[39;00m\n\u001b[32m      5\u001b[39m \u001b[38;5;66;03m# Replace this URL with the specific dataset you want to use\u001b[39;00m\n\u001b[32m      6\u001b[39m url = \u001b[33m\"\u001b[39m\u001b[33mhttps://storage.googleapis.com/allen-brain-cell-atlas/ata_2022/raw/mouse_v1_alm.h5ad\u001b[39m\u001b[33m\"\u001b[39m\n\u001b[32m----> \u001b[39m\u001b[32m7\u001b[39m adata = \u001b[43msc\u001b[49m\u001b[43m.\u001b[49m\u001b[43mread\u001b[49m\u001b[43m(\u001b[49m\u001b[43murl\u001b[49m\u001b[43m)\u001b[49m\n\u001b[32m      9\u001b[39m \u001b[38;5;66;03m# Alternatively, load local data\u001b[39;00m\n\u001b[32m     10\u001b[39m \u001b[38;5;66;03m# adata = sc.read_h5ad(\"path/to/your/data.h5ad\")\u001b[39;00m\n",
      "\u001b[36mFile \u001b[39m\u001b[32m~/miniconda3/envs/scvi_project/lib/python3.11/site-packages/legacy_api_wrap/__init__.py:82\u001b[39m, in \u001b[36mlegacy_api.<locals>.wrapper.<locals>.fn_compatible\u001b[39m\u001b[34m(*args_all, **kw)\u001b[39m\n\u001b[32m     79\u001b[39m \u001b[38;5;129m@wraps\u001b[39m(fn)\n\u001b[32m     80\u001b[39m \u001b[38;5;28;01mdef\u001b[39;00m\u001b[38;5;250m \u001b[39m\u001b[34mfn_compatible\u001b[39m(*args_all: P.args, **kw: P.kwargs) -> R:\n\u001b[32m     81\u001b[39m     \u001b[38;5;28;01mif\u001b[39;00m \u001b[38;5;28mlen\u001b[39m(args_all) <= n_positional:\n\u001b[32m---> \u001b[39m\u001b[32m82\u001b[39m         \u001b[38;5;28;01mreturn\u001b[39;00m \u001b[43mfn\u001b[49m\u001b[43m(\u001b[49m\u001b[43m*\u001b[49m\u001b[43margs_all\u001b[49m\u001b[43m,\u001b[49m\u001b[43m \u001b[49m\u001b[43m*\u001b[49m\u001b[43m*\u001b[49m\u001b[43mkw\u001b[49m\u001b[43m)\u001b[49m\n\u001b[32m     84\u001b[39m     args_pos: P.args\n\u001b[32m     85\u001b[39m     args_pos, args_rest = args_all[:n_positional], args_all[n_positional:]\n",
      "\u001b[36mFile \u001b[39m\u001b[32m~/miniconda3/envs/scvi_project/lib/python3.11/site-packages/scanpy/readwrite.py:143\u001b[39m, in \u001b[36mread\u001b[39m\u001b[34m(filename, backed, sheet, ext, delimiter, first_column_names, backup_url, cache, cache_compression, **kwargs)\u001b[39m\n\u001b[32m    141\u001b[39m filename = Path(filename)  \u001b[38;5;66;03m# allow passing strings\u001b[39;00m\n\u001b[32m    142\u001b[39m \u001b[38;5;28;01mif\u001b[39;00m is_valid_filename(filename):\n\u001b[32m--> \u001b[39m\u001b[32m143\u001b[39m     \u001b[38;5;28;01mreturn\u001b[39;00m \u001b[43m_read\u001b[49m\u001b[43m(\u001b[49m\n\u001b[32m    144\u001b[39m \u001b[43m        \u001b[49m\u001b[43mfilename\u001b[49m\u001b[43m,\u001b[49m\n\u001b[32m    145\u001b[39m \u001b[43m        \u001b[49m\u001b[43mbacked\u001b[49m\u001b[43m=\u001b[49m\u001b[43mbacked\u001b[49m\u001b[43m,\u001b[49m\n\u001b[32m    146\u001b[39m \u001b[43m        \u001b[49m\u001b[43msheet\u001b[49m\u001b[43m=\u001b[49m\u001b[43msheet\u001b[49m\u001b[43m,\u001b[49m\n\u001b[32m    147\u001b[39m \u001b[43m        \u001b[49m\u001b[43mext\u001b[49m\u001b[43m=\u001b[49m\u001b[43mext\u001b[49m\u001b[43m,\u001b[49m\n\u001b[32m    148\u001b[39m \u001b[43m        \u001b[49m\u001b[43mdelimiter\u001b[49m\u001b[43m=\u001b[49m\u001b[43mdelimiter\u001b[49m\u001b[43m,\u001b[49m\n\u001b[32m    149\u001b[39m \u001b[43m        \u001b[49m\u001b[43mfirst_column_names\u001b[49m\u001b[43m=\u001b[49m\u001b[43mfirst_column_names\u001b[49m\u001b[43m,\u001b[49m\n\u001b[32m    150\u001b[39m \u001b[43m        \u001b[49m\u001b[43mbackup_url\u001b[49m\u001b[43m=\u001b[49m\u001b[43mbackup_url\u001b[49m\u001b[43m,\u001b[49m\n\u001b[32m    151\u001b[39m \u001b[43m        \u001b[49m\u001b[43mcache\u001b[49m\u001b[43m=\u001b[49m\u001b[43mcache\u001b[49m\u001b[43m,\u001b[49m\n\u001b[32m    152\u001b[39m \u001b[43m        \u001b[49m\u001b[43mcache_compression\u001b[49m\u001b[43m=\u001b[49m\u001b[43mcache_compression\u001b[49m\u001b[43m,\u001b[49m\n\u001b[32m    153\u001b[39m \u001b[43m        \u001b[49m\u001b[43m*\u001b[49m\u001b[43m*\u001b[49m\u001b[43mkwargs\u001b[49m\u001b[43m,\u001b[49m\n\u001b[32m    154\u001b[39m \u001b[43m    \u001b[49m\u001b[43m)\u001b[49m\n\u001b[32m    155\u001b[39m \u001b[38;5;66;03m# generate filename and read to dict\u001b[39;00m\n\u001b[32m    156\u001b[39m filekey = \u001b[38;5;28mstr\u001b[39m(filename)\n",
      "\u001b[36mFile \u001b[39m\u001b[32m~/miniconda3/envs/scvi_project/lib/python3.11/site-packages/scanpy/readwrite.py:787\u001b[39m, in \u001b[36m_read\u001b[39m\u001b[34m(filename, backed, sheet, ext, delimiter, first_column_names, backup_url, cache, cache_compression, suppress_cache_warning, **kwargs)\u001b[39m\n\u001b[32m    785\u001b[39m \u001b[38;5;28;01mif\u001b[39;00m ext \u001b[38;5;129;01min\u001b[39;00m {\u001b[33m\"\u001b[39m\u001b[33mh5\u001b[39m\u001b[33m\"\u001b[39m, \u001b[33m\"\u001b[39m\u001b[33mh5ad\u001b[39m\u001b[33m\"\u001b[39m}:\n\u001b[32m    786\u001b[39m     \u001b[38;5;28;01mif\u001b[39;00m sheet \u001b[38;5;129;01mis\u001b[39;00m \u001b[38;5;28;01mNone\u001b[39;00m:\n\u001b[32m--> \u001b[39m\u001b[32m787\u001b[39m         \u001b[38;5;28;01mreturn\u001b[39;00m \u001b[43mread_h5ad\u001b[49m\u001b[43m(\u001b[49m\u001b[43mfilename\u001b[49m\u001b[43m,\u001b[49m\u001b[43m \u001b[49m\u001b[43mbacked\u001b[49m\u001b[43m=\u001b[49m\u001b[43mbacked\u001b[49m\u001b[43m)\u001b[49m\n\u001b[32m    788\u001b[39m     \u001b[38;5;28;01melse\u001b[39;00m:\n\u001b[32m    789\u001b[39m         logg.debug(\u001b[33mf\u001b[39m\u001b[33m\"\u001b[39m\u001b[33mreading sheet \u001b[39m\u001b[38;5;132;01m{\u001b[39;00msheet\u001b[38;5;132;01m}\u001b[39;00m\u001b[33m from file \u001b[39m\u001b[38;5;132;01m{\u001b[39;00mfilename\u001b[38;5;132;01m}\u001b[39;00m\u001b[33m\"\u001b[39m)\n",
      "\u001b[36mFile \u001b[39m\u001b[32m~/miniconda3/envs/scvi_project/lib/python3.11/site-packages/anndata/_io/h5ad.py:239\u001b[39m, in \u001b[36mread_h5ad\u001b[39m\u001b[34m(filename, backed, as_sparse, as_sparse_fmt, chunk_size)\u001b[39m\n\u001b[32m    233\u001b[39m         \u001b[38;5;28;01mraise\u001b[39;00m \u001b[38;5;167;01mNotImplementedError\u001b[39;00m(msg)\n\u001b[32m    235\u001b[39m rdasp = partial(\n\u001b[32m    236\u001b[39m     read_dense_as_sparse, sparse_format=as_sparse_fmt, axis_chunk=chunk_size\n\u001b[32m    237\u001b[39m )\n\u001b[32m--> \u001b[39m\u001b[32m239\u001b[39m \u001b[38;5;28;01mwith\u001b[39;00m \u001b[43mh5py\u001b[49m\u001b[43m.\u001b[49m\u001b[43mFile\u001b[49m\u001b[43m(\u001b[49m\u001b[43mfilename\u001b[49m\u001b[43m,\u001b[49m\u001b[43m \u001b[49m\u001b[33;43m\"\u001b[39;49m\u001b[33;43mr\u001b[39;49m\u001b[33;43m\"\u001b[39;49m\u001b[43m)\u001b[49m \u001b[38;5;28;01mas\u001b[39;00m f:\n\u001b[32m    241\u001b[39m     \u001b[38;5;28;01mdef\u001b[39;00m\u001b[38;5;250m \u001b[39m\u001b[34mcallback\u001b[39m(func, elem_name: \u001b[38;5;28mstr\u001b[39m, elem, iospec):\n\u001b[32m    242\u001b[39m         \u001b[38;5;28;01mif\u001b[39;00m iospec.encoding_type == \u001b[33m\"\u001b[39m\u001b[33manndata\u001b[39m\u001b[33m\"\u001b[39m \u001b[38;5;129;01mor\u001b[39;00m elem_name.endswith(\u001b[33m\"\u001b[39m\u001b[33m/\u001b[39m\u001b[33m\"\u001b[39m):\n",
      "\u001b[36mFile \u001b[39m\u001b[32m~/miniconda3/envs/scvi_project/lib/python3.11/site-packages/h5py/_hl/files.py:564\u001b[39m, in \u001b[36mFile.__init__\u001b[39m\u001b[34m(self, name, mode, driver, libver, userblock_size, swmr, rdcc_nslots, rdcc_nbytes, rdcc_w0, track_order, fs_strategy, fs_persist, fs_threshold, fs_page_size, page_buf_size, min_meta_keep, min_raw_keep, locking, alignment_threshold, alignment_interval, meta_block_size, **kwds)\u001b[39m\n\u001b[32m    555\u001b[39m     fapl = make_fapl(driver, libver, rdcc_nslots, rdcc_nbytes, rdcc_w0,\n\u001b[32m    556\u001b[39m                      locking, page_buf_size, min_meta_keep, min_raw_keep,\n\u001b[32m    557\u001b[39m                      alignment_threshold=alignment_threshold,\n\u001b[32m    558\u001b[39m                      alignment_interval=alignment_interval,\n\u001b[32m    559\u001b[39m                      meta_block_size=meta_block_size,\n\u001b[32m    560\u001b[39m                      **kwds)\n\u001b[32m    561\u001b[39m     fcpl = make_fcpl(track_order=track_order, fs_strategy=fs_strategy,\n\u001b[32m    562\u001b[39m                      fs_persist=fs_persist, fs_threshold=fs_threshold,\n\u001b[32m    563\u001b[39m                      fs_page_size=fs_page_size)\n\u001b[32m--> \u001b[39m\u001b[32m564\u001b[39m     fid = \u001b[43mmake_fid\u001b[49m\u001b[43m(\u001b[49m\u001b[43mname\u001b[49m\u001b[43m,\u001b[49m\u001b[43m \u001b[49m\u001b[43mmode\u001b[49m\u001b[43m,\u001b[49m\u001b[43m \u001b[49m\u001b[43muserblock_size\u001b[49m\u001b[43m,\u001b[49m\u001b[43m \u001b[49m\u001b[43mfapl\u001b[49m\u001b[43m,\u001b[49m\u001b[43m \u001b[49m\u001b[43mfcpl\u001b[49m\u001b[43m,\u001b[49m\u001b[43m \u001b[49m\u001b[43mswmr\u001b[49m\u001b[43m=\u001b[49m\u001b[43mswmr\u001b[49m\u001b[43m)\u001b[49m\n\u001b[32m    566\u001b[39m \u001b[38;5;28;01mif\u001b[39;00m \u001b[38;5;28misinstance\u001b[39m(libver, \u001b[38;5;28mtuple\u001b[39m):\n\u001b[32m    567\u001b[39m     \u001b[38;5;28mself\u001b[39m._libver = libver\n",
      "\u001b[36mFile \u001b[39m\u001b[32m~/miniconda3/envs/scvi_project/lib/python3.11/site-packages/h5py/_hl/files.py:238\u001b[39m, in \u001b[36mmake_fid\u001b[39m\u001b[34m(name, mode, userblock_size, fapl, fcpl, swmr)\u001b[39m\n\u001b[32m    236\u001b[39m     \u001b[38;5;28;01mif\u001b[39;00m swmr \u001b[38;5;129;01mand\u001b[39;00m swmr_support:\n\u001b[32m    237\u001b[39m         flags |= h5f.ACC_SWMR_READ\n\u001b[32m--> \u001b[39m\u001b[32m238\u001b[39m     fid = \u001b[43mh5f\u001b[49m\u001b[43m.\u001b[49m\u001b[43mopen\u001b[49m\u001b[43m(\u001b[49m\u001b[43mname\u001b[49m\u001b[43m,\u001b[49m\u001b[43m \u001b[49m\u001b[43mflags\u001b[49m\u001b[43m,\u001b[49m\u001b[43m \u001b[49m\u001b[43mfapl\u001b[49m\u001b[43m=\u001b[49m\u001b[43mfapl\u001b[49m\u001b[43m)\u001b[49m\n\u001b[32m    239\u001b[39m \u001b[38;5;28;01melif\u001b[39;00m mode == \u001b[33m'\u001b[39m\u001b[33mr+\u001b[39m\u001b[33m'\u001b[39m:\n\u001b[32m    240\u001b[39m     fid = h5f.open(name, h5f.ACC_RDWR, fapl=fapl)\n",
      "\u001b[36mFile \u001b[39m\u001b[32mh5py/_objects.pyx:54\u001b[39m, in \u001b[36mh5py._objects.with_phil.wrapper\u001b[39m\u001b[34m()\u001b[39m\n",
      "\u001b[36mFile \u001b[39m\u001b[32mh5py/_objects.pyx:55\u001b[39m, in \u001b[36mh5py._objects.with_phil.wrapper\u001b[39m\u001b[34m()\u001b[39m\n",
      "\u001b[36mFile \u001b[39m\u001b[32mh5py/h5f.pyx:102\u001b[39m, in \u001b[36mh5py.h5f.open\u001b[39m\u001b[34m()\u001b[39m\n",
      "\u001b[31mFileNotFoundError\u001b[39m: [Errno 2] Unable to synchronously open file (unable to open file: name = 'https:/storage.googleapis.com/allen-brain-cell-atlas/ata_2022/raw/mouse_v1_alm.h5ad', errno = 2, error message = 'No such file or directory', flags = 0, o_flags = 0)"
     ]
    }
   ],
   "source": [
    "# Set random seed for reproducibility\n",
    "np.random.seed(42)\n",
    "\n",
    "# Download and load your dataset (example with Allen Brain data)\n",
    "# Replace this URL with the specific dataset you want to use\n",
    "url = \"https://storage.googleapis.com/allen-brain-cell-atlas/ata_2022/raw/mouse_v1_alm.h5ad\"\n",
    "adata = sc.read(url)\n",
    "\n",
    "# Alternatively, load local data\n",
    "# adata = sc.read_h5ad(\"path/to/your/data.h5ad\")\n"
   ]
  },
  {
   "cell_type": "code",
   "execution_count": null,
   "metadata": {},
   "outputs": [],
   "source": [
    "# Basic preprocessing\n",
    "sc.pp.filter_cells(adata, min_genes=200)\n",
    "sc.pp.filter_genes(adata, min_cells=3)\n",
    "\n",
    "# Calculate quality metrics\n",
    "adata.var[\"mt\"] = adata.var_names.str.startswith(\"mt-\")\n",
    "sc.pp.calculate_qc_metrics(adata, qc_vars=[\"mt\"], inplace=True)\n",
    "\n",
    "# Filter cells based on QC metrics\n",
    "adata = adata[adata.obs.n_genes_by_counts < 5000, :]\n",
    "adata = adata[adata.obs.pct_counts_mt < 20, :]\n",
    "\n",
    "# Normalize and find highly variable genes\n",
    "sc.pp.normalize_total(adata, target_sum=1e4)\n",
    "sc.pp.log1p(adata)\n",
    "sc.pp.highly_variable_genes(adata, n_top_genes=2000)\n",
    "\n",
    "# Keep only highly variable genes for the model\n",
    "adata = adata[:, adata.var.highly_variable]\n",
    "\n",
    "# Save the preprocessed data\n",
    "adata.write(\"preprocessed_data.h5ad\")"
   ]
  }
 ],
 "metadata": {
  "kernelspec": {
   "display_name": "scvi_project",
   "language": "python",
   "name": "python3"
  },
  "language_info": {
   "codemirror_mode": {
    "name": "ipython",
    "version": 3
   },
   "file_extension": ".py",
   "mimetype": "text/x-python",
   "name": "python",
   "nbconvert_exporter": "python",
   "pygments_lexer": "ipython3",
   "version": "3.11.11"
  }
 },
 "nbformat": 4,
 "nbformat_minor": 2
}

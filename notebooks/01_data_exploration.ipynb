{
 "cells": [
  {
   "cell_type": "markdown",
   "metadata": {},
   "source": [
    "# Data Exploration\n",
    "Data Source: [Allen Brain Atlas](https://portal.brain-map.org/)\n",
    "\n",
    "Instructions for downloading the data can be found here: https://alleninstitute.github.io/abc_atlas_access/notebooks/getting_started.html"
   ]
  },
  {
   "cell_type": "code",
   "execution_count": 1,
   "metadata": {},
   "outputs": [
    {
     "name": "stderr",
     "output_type": "stream",
     "text": [
      "/home/jantine/miniconda3/envs/scvi_project/lib/python3.11/site-packages/tqdm/auto.py:21: TqdmWarning: IProgress not found. Please update jupyter and ipywidgets. See https://ipywidgets.readthedocs.io/en/stable/user_install.html\n",
      "  from .autonotebook import tqdm as notebook_tqdm\n",
      "/home/jantine/miniconda3/envs/scvi_project/lib/python3.11/site-packages/docrep/decorators.py:43: SyntaxWarning: 'param_categorical_covariate_keys' is not a valid key!\n",
      "  doc = func(self, args[0].__doc__, *args[1:], **kwargs)\n",
      "/home/jantine/miniconda3/envs/scvi_project/lib/python3.11/site-packages/docrep/decorators.py:43: SyntaxWarning: 'param_continuous_covariate_keys' is not a valid key!\n",
      "  doc = func(self, args[0].__doc__, *args[1:], **kwargs)\n"
     ]
    }
   ],
   "source": [
    "import scanpy as sc\n",
    "import scvi\n",
    "import matplotlib.pyplot as plt\n",
    "import seaborn as sns\n",
    "import numpy as np\n",
    "import pandas as pd\n",
    "\n",
    "from pathlib import Path\n",
    "from abc_atlas_access.abc_atlas_cache.abc_project_cache import AbcProjectCache"
   ]
  },
  {
   "cell_type": "code",
   "execution_count": 2,
   "metadata": {},
   "outputs": [],
   "source": [
    "download_base = Path(\"/home/jantine/Data/AllenBrain/abc_atlas\")\n",
    "abc_cache = AbcProjectCache.from_cache_dir(download_base)\n",
    "\n",
    "abc_cache.current_manifest"
   ]
  },
  {
   "cell_type": "code",
   "execution_count": 3,
   "metadata": {},
   "outputs": [
    {
     "data": {
      "text/plain": [
       "['releases/20230630/manifest.json',\n",
       " 'releases/20230830/manifest.json',\n",
       " 'releases/20231215/manifest.json',\n",
       " 'releases/20240330/manifest.json',\n",
       " 'releases/20240831/manifest.json',\n",
       " 'releases/20241115/manifest.json',\n",
       " 'releases/20241130/manifest.json',\n",
       " 'releases/20250131/manifest.json',\n",
       " 'releases/20250331/manifest.json']"
      ]
     },
     "execution_count": 3,
     "metadata": {},
     "output_type": "execute_result"
    }
   ],
   "source": [
    "abc_cache.list_manifest_file_names"
   ]
  },
  {
   "cell_type": "code",
   "execution_count": 4,
   "metadata": {},
   "outputs": [
    {
     "name": "stdout",
     "output_type": "stream",
     "text": [
      "after latest manifest loaded: releases/20250331/manifest.json\n"
     ]
    }
   ],
   "source": [
    "# Return to the latest manifest\n",
    "abc_cache.load_latest_manifest()\n",
    "print(\"after latest manifest loaded:\", abc_cache.current_manifest)"
   ]
  },
  {
   "cell_type": "code",
   "execution_count": 5,
   "metadata": {},
   "outputs": [
    {
     "data": {
      "text/plain": [
       "['ASAP-PMDBS-10X',\n",
       " 'ASAP-PMDBS-taxonomy',\n",
       " 'Allen-CCF-2020',\n",
       " 'MERFISH-C57BL6J-638850',\n",
       " 'MERFISH-C57BL6J-638850-CCF',\n",
       " 'MERFISH-C57BL6J-638850-imputed',\n",
       " 'MERFISH-C57BL6J-638850-sections',\n",
       " 'SEAAD',\n",
       " 'SEAAD-taxonomy',\n",
       " 'WHB-10Xv3',\n",
       " 'WHB-taxonomy',\n",
       " 'WMB-10X',\n",
       " 'WMB-10XMulti',\n",
       " 'WMB-10Xv2',\n",
       " 'WMB-10Xv3',\n",
       " 'WMB-neighborhoods',\n",
       " 'WMB-taxonomy',\n",
       " 'Zeng-Aging-Mouse-10Xv3',\n",
       " 'Zeng-Aging-Mouse-WMB-taxonomy',\n",
       " 'Zhuang-ABCA-1',\n",
       " 'Zhuang-ABCA-1-CCF',\n",
       " 'Zhuang-ABCA-2',\n",
       " 'Zhuang-ABCA-2-CCF',\n",
       " 'Zhuang-ABCA-3',\n",
       " 'Zhuang-ABCA-3-CCF',\n",
       " 'Zhuang-ABCA-4',\n",
       " 'Zhuang-ABCA-4-CCF']"
      ]
     },
     "execution_count": 5,
     "metadata": {},
     "output_type": "execute_result"
    }
   ],
   "source": [
    "abc_cache.list_directories  # I need WMB-10Xv3"
   ]
  },
  {
   "cell_type": "code",
   "execution_count": 6,
   "metadata": {},
   "outputs": [
    {
     "data": {
      "text/plain": [
       "['WMB-10Xv3-CB/log2',\n",
       " 'WMB-10Xv3-CB/raw',\n",
       " 'WMB-10Xv3-CTXsp/log2',\n",
       " 'WMB-10Xv3-CTXsp/raw',\n",
       " 'WMB-10Xv3-HPF/log2',\n",
       " 'WMB-10Xv3-HPF/raw',\n",
       " 'WMB-10Xv3-HY/log2',\n",
       " 'WMB-10Xv3-HY/raw',\n",
       " 'WMB-10Xv3-Isocortex-1/log2',\n",
       " 'WMB-10Xv3-Isocortex-1/raw',\n",
       " 'WMB-10Xv3-Isocortex-2/log2',\n",
       " 'WMB-10Xv3-Isocortex-2/raw',\n",
       " 'WMB-10Xv3-MB/log2',\n",
       " 'WMB-10Xv3-MB/raw',\n",
       " 'WMB-10Xv3-MY/log2',\n",
       " 'WMB-10Xv3-MY/raw',\n",
       " 'WMB-10Xv3-OLF/log2',\n",
       " 'WMB-10Xv3-OLF/raw',\n",
       " 'WMB-10Xv3-P/log2',\n",
       " 'WMB-10Xv3-P/raw',\n",
       " 'WMB-10Xv3-PAL/log2',\n",
       " 'WMB-10Xv3-PAL/raw',\n",
       " 'WMB-10Xv3-STR/log2',\n",
       " 'WMB-10Xv3-STR/raw',\n",
       " 'WMB-10Xv3-TH/log2',\n",
       " 'WMB-10Xv3-TH/raw']"
      ]
     },
     "execution_count": 6,
     "metadata": {},
     "output_type": "execute_result"
    }
   ],
   "source": [
    "abc_cache.list_data_files('WMB-10Xv3')"
   ]
  },
  {
   "cell_type": "code",
   "execution_count": 7,
   "metadata": {},
   "outputs": [
    {
     "data": {
      "text/plain": [
       "'176.41 GB'"
      ]
     },
     "execution_count": 7,
     "metadata": {},
     "output_type": "execute_result"
    }
   ],
   "source": [
    "# Check amount of total data \n",
    "abc_cache.get_directory_data_size('WMB-10Xv3')"
   ]
  },
  {
   "cell_type": "code",
   "execution_count": 9,
   "metadata": {},
   "outputs": [
    {
     "data": {
      "text/plain": [
       "['cluster',\n",
       " 'cluster_annotation_term',\n",
       " 'cluster_annotation_term_set',\n",
       " 'cluster_annotation_term_with_counts',\n",
       " 'cluster_to_cluster_annotation_membership',\n",
       " 'cluster_to_cluster_annotation_membership_color',\n",
       " 'cluster_to_cluster_annotation_membership_pivoted']"
      ]
     },
     "execution_count": 9,
     "metadata": {},
     "output_type": "execute_result"
    }
   ],
   "source": [
    "# List metadata files\n",
    "abc_cache.list_metadata_files(\"WMB-taxonomy\")"
   ]
  },
  {
   "cell_type": "code",
   "execution_count": 10,
   "metadata": {},
   "outputs": [
    {
     "data": {
      "text/plain": [
       "'4.65 MB'"
      ]
     },
     "execution_count": 10,
     "metadata": {},
     "output_type": "execute_result"
    }
   ],
   "source": [
    "# Size of metadata\n",
    "abc_cache.get_directory_metadata_size(\"WMB-taxonomy\")"
   ]
  },
  {
   "cell_type": "markdown",
   "metadata": {},
   "source": [
    "## Download the files"
   ]
  },
  {
   "cell_type": "code",
   "execution_count": 8,
   "metadata": {},
   "outputs": [
    {
     "name": "stdout",
     "output_type": "stream",
     "text": [
      "WMB-10Xv3 data files:\n",
      "\t [PosixPath('/home/jantine/Data/AllenBrain/abc_atlas/expression_matrices/WMB-10Xv3/20230630/WMB-10Xv3-CB-log2.h5ad'), PosixPath('/home/jantine/Data/AllenBrain/abc_atlas/expression_matrices/WMB-10Xv3/20230630/WMB-10Xv3-CB-raw.h5ad'), PosixPath('/home/jantine/Data/AllenBrain/abc_atlas/expression_matrices/WMB-10Xv3/20230630/WMB-10Xv3-CTXsp-log2.h5ad'), PosixPath('/home/jantine/Data/AllenBrain/abc_atlas/expression_matrices/WMB-10Xv3/20230630/WMB-10Xv3-CTXsp-raw.h5ad'), PosixPath('/home/jantine/Data/AllenBrain/abc_atlas/expression_matrices/WMB-10Xv3/20230630/WMB-10Xv3-HPF-log2.h5ad'), PosixPath('/home/jantine/Data/AllenBrain/abc_atlas/expression_matrices/WMB-10Xv3/20230630/WMB-10Xv3-HPF-raw.h5ad'), PosixPath('/home/jantine/Data/AllenBrain/abc_atlas/expression_matrices/WMB-10Xv3/20230630/WMB-10Xv3-HY-log2.h5ad'), PosixPath('/home/jantine/Data/AllenBrain/abc_atlas/expression_matrices/WMB-10Xv3/20230630/WMB-10Xv3-HY-raw.h5ad'), PosixPath('/home/jantine/Data/AllenBrain/abc_atlas/expression_matrices/WMB-10Xv3/20230630/WMB-10Xv3-Isocortex-1-log2.h5ad'), PosixPath('/home/jantine/Data/AllenBrain/abc_atlas/expression_matrices/WMB-10Xv3/20230630/WMB-10Xv3-Isocortex-1-raw.h5ad'), PosixPath('/home/jantine/Data/AllenBrain/abc_atlas/expression_matrices/WMB-10Xv3/20230630/WMB-10Xv3-Isocortex-2-log2.h5ad'), PosixPath('/home/jantine/Data/AllenBrain/abc_atlas/expression_matrices/WMB-10Xv3/20230630/WMB-10Xv3-Isocortex-2-raw.h5ad'), PosixPath('/home/jantine/Data/AllenBrain/abc_atlas/expression_matrices/WMB-10Xv3/20230630/WMB-10Xv3-MB-log2.h5ad'), PosixPath('/home/jantine/Data/AllenBrain/abc_atlas/expression_matrices/WMB-10Xv3/20230630/WMB-10Xv3-MB-raw.h5ad'), PosixPath('/home/jantine/Data/AllenBrain/abc_atlas/expression_matrices/WMB-10Xv3/20230630/WMB-10Xv3-MY-log2.h5ad'), PosixPath('/home/jantine/Data/AllenBrain/abc_atlas/expression_matrices/WMB-10Xv3/20230630/WMB-10Xv3-MY-raw.h5ad'), PosixPath('/home/jantine/Data/AllenBrain/abc_atlas/expression_matrices/WMB-10Xv3/20230630/WMB-10Xv3-OLF-log2.h5ad'), PosixPath('/home/jantine/Data/AllenBrain/abc_atlas/expression_matrices/WMB-10Xv3/20230630/WMB-10Xv3-OLF-raw.h5ad'), PosixPath('/home/jantine/Data/AllenBrain/abc_atlas/expression_matrices/WMB-10Xv3/20230630/WMB-10Xv3-P-log2.h5ad'), PosixPath('/home/jantine/Data/AllenBrain/abc_atlas/expression_matrices/WMB-10Xv3/20230630/WMB-10Xv3-P-raw.h5ad'), PosixPath('/home/jantine/Data/AllenBrain/abc_atlas/expression_matrices/WMB-10Xv3/20230630/WMB-10Xv3-PAL-log2.h5ad'), PosixPath('/home/jantine/Data/AllenBrain/abc_atlas/expression_matrices/WMB-10Xv3/20230630/WMB-10Xv3-PAL-raw.h5ad'), PosixPath('/home/jantine/Data/AllenBrain/abc_atlas/expression_matrices/WMB-10Xv3/20230630/WMB-10Xv3-STR-log2.h5ad'), PosixPath('/home/jantine/Data/AllenBrain/abc_atlas/expression_matrices/WMB-10Xv3/20230630/WMB-10Xv3-STR-raw.h5ad'), PosixPath('/home/jantine/Data/AllenBrain/abc_atlas/expression_matrices/WMB-10Xv3/20230630/WMB-10Xv3-TH-log2.h5ad'), PosixPath('/home/jantine/Data/AllenBrain/abc_atlas/expression_matrices/WMB-10Xv3/20230630/WMB-10Xv3-TH-raw.h5ad')]\n"
     ]
    },
    {
     "name": "stderr",
     "output_type": "stream",
     "text": [
      "/home/jantine/miniconda3/envs/scvi_project/lib/python3.11/site-packages/abc_atlas_access/abc_atlas_cache/abc_project_cache.py:385: LargeDataSizeWarning: WMB-10Xv3 contains a significant amount of data.Continue this download only if you are sure you have enough space on your system.\n",
      "\n",
      "\tTotal directory size = 176.41 GB\n",
      "\n",
      "\n",
      "  warnings.warn(\n"
     ]
    }
   ],
   "source": [
    "allen_wmb_data = abc_cache.get_directory_data('WMB-10Xv3')\n",
    "print(\"WMB-10Xv3 data files:\\n\\t\", allen_wmb_data)"
   ]
  },
  {
   "cell_type": "code",
   "execution_count": 14,
   "metadata": {},
   "outputs": [
    {
     "ename": "EndpointConnectionError",
     "evalue": "Could not connect to the endpoint URL: \"https://allen-brain-cell-atlas.s3.amazonaws.com/?list-type=2&prefix=metadata%2FWMB-taxonomy%2F20231215%2Fcluster.csv&encoding-type=url\"",
     "output_type": "error",
     "traceback": [
      "\u001b[31m---------------------------------------------------------------------------\u001b[39m",
      "\u001b[31mgaierror\u001b[39m                                  Traceback (most recent call last)",
      "\u001b[36mFile \u001b[39m\u001b[32m~/miniconda3/envs/scvi_project/lib/python3.11/site-packages/urllib3/connection.py:198\u001b[39m, in \u001b[36mHTTPConnection._new_conn\u001b[39m\u001b[34m(self)\u001b[39m\n\u001b[32m    197\u001b[39m \u001b[38;5;28;01mtry\u001b[39;00m:\n\u001b[32m--> \u001b[39m\u001b[32m198\u001b[39m     sock = \u001b[43mconnection\u001b[49m\u001b[43m.\u001b[49m\u001b[43mcreate_connection\u001b[49m\u001b[43m(\u001b[49m\n\u001b[32m    199\u001b[39m \u001b[43m        \u001b[49m\u001b[43m(\u001b[49m\u001b[38;5;28;43mself\u001b[39;49m\u001b[43m.\u001b[49m\u001b[43m_dns_host\u001b[49m\u001b[43m,\u001b[49m\u001b[43m \u001b[49m\u001b[38;5;28;43mself\u001b[39;49m\u001b[43m.\u001b[49m\u001b[43mport\u001b[49m\u001b[43m)\u001b[49m\u001b[43m,\u001b[49m\n\u001b[32m    200\u001b[39m \u001b[43m        \u001b[49m\u001b[38;5;28;43mself\u001b[39;49m\u001b[43m.\u001b[49m\u001b[43mtimeout\u001b[49m\u001b[43m,\u001b[49m\n\u001b[32m    201\u001b[39m \u001b[43m        \u001b[49m\u001b[43msource_address\u001b[49m\u001b[43m=\u001b[49m\u001b[38;5;28;43mself\u001b[39;49m\u001b[43m.\u001b[49m\u001b[43msource_address\u001b[49m\u001b[43m,\u001b[49m\n\u001b[32m    202\u001b[39m \u001b[43m        \u001b[49m\u001b[43msocket_options\u001b[49m\u001b[43m=\u001b[49m\u001b[38;5;28;43mself\u001b[39;49m\u001b[43m.\u001b[49m\u001b[43msocket_options\u001b[49m\u001b[43m,\u001b[49m\n\u001b[32m    203\u001b[39m \u001b[43m    \u001b[49m\u001b[43m)\u001b[49m\n\u001b[32m    204\u001b[39m \u001b[38;5;28;01mexcept\u001b[39;00m socket.gaierror \u001b[38;5;28;01mas\u001b[39;00m e:\n",
      "\u001b[36mFile \u001b[39m\u001b[32m~/miniconda3/envs/scvi_project/lib/python3.11/site-packages/urllib3/util/connection.py:60\u001b[39m, in \u001b[36mcreate_connection\u001b[39m\u001b[34m(address, timeout, source_address, socket_options)\u001b[39m\n\u001b[32m     58\u001b[39m     \u001b[38;5;28;01mraise\u001b[39;00m LocationParseError(\u001b[33mf\u001b[39m\u001b[33m\"\u001b[39m\u001b[33m'\u001b[39m\u001b[38;5;132;01m{\u001b[39;00mhost\u001b[38;5;132;01m}\u001b[39;00m\u001b[33m'\u001b[39m\u001b[33m, label empty or too long\u001b[39m\u001b[33m\"\u001b[39m) \u001b[38;5;28;01mfrom\u001b[39;00m\u001b[38;5;250m \u001b[39m\u001b[38;5;28;01mNone\u001b[39;00m\n\u001b[32m---> \u001b[39m\u001b[32m60\u001b[39m \u001b[38;5;28;01mfor\u001b[39;00m res \u001b[38;5;129;01min\u001b[39;00m \u001b[43msocket\u001b[49m\u001b[43m.\u001b[49m\u001b[43mgetaddrinfo\u001b[49m\u001b[43m(\u001b[49m\u001b[43mhost\u001b[49m\u001b[43m,\u001b[49m\u001b[43m \u001b[49m\u001b[43mport\u001b[49m\u001b[43m,\u001b[49m\u001b[43m \u001b[49m\u001b[43mfamily\u001b[49m\u001b[43m,\u001b[49m\u001b[43m \u001b[49m\u001b[43msocket\u001b[49m\u001b[43m.\u001b[49m\u001b[43mSOCK_STREAM\u001b[49m\u001b[43m)\u001b[49m:\n\u001b[32m     61\u001b[39m     af, socktype, proto, canonname, sa = res\n",
      "\u001b[36mFile \u001b[39m\u001b[32m~/miniconda3/envs/scvi_project/lib/python3.11/socket.py:974\u001b[39m, in \u001b[36mgetaddrinfo\u001b[39m\u001b[34m(host, port, family, type, proto, flags)\u001b[39m\n\u001b[32m    973\u001b[39m addrlist = []\n\u001b[32m--> \u001b[39m\u001b[32m974\u001b[39m \u001b[38;5;28;01mfor\u001b[39;00m res \u001b[38;5;129;01min\u001b[39;00m \u001b[43m_socket\u001b[49m\u001b[43m.\u001b[49m\u001b[43mgetaddrinfo\u001b[49m\u001b[43m(\u001b[49m\u001b[43mhost\u001b[49m\u001b[43m,\u001b[49m\u001b[43m \u001b[49m\u001b[43mport\u001b[49m\u001b[43m,\u001b[49m\u001b[43m \u001b[49m\u001b[43mfamily\u001b[49m\u001b[43m,\u001b[49m\u001b[43m \u001b[49m\u001b[38;5;28;43mtype\u001b[39;49m\u001b[43m,\u001b[49m\u001b[43m \u001b[49m\u001b[43mproto\u001b[49m\u001b[43m,\u001b[49m\u001b[43m \u001b[49m\u001b[43mflags\u001b[49m\u001b[43m)\u001b[49m:\n\u001b[32m    975\u001b[39m     af, socktype, proto, canonname, sa = res\n",
      "\u001b[31mgaierror\u001b[39m: [Errno -3] Temporary failure in name resolution",
      "\nThe above exception was the direct cause of the following exception:\n",
      "\u001b[31mNameResolutionError\u001b[39m                       Traceback (most recent call last)",
      "\u001b[36mFile \u001b[39m\u001b[32m~/miniconda3/envs/scvi_project/lib/python3.11/site-packages/botocore/httpsession.py:464\u001b[39m, in \u001b[36mURLLib3Session.send\u001b[39m\u001b[34m(self, request)\u001b[39m\n\u001b[32m    463\u001b[39m request_target = \u001b[38;5;28mself\u001b[39m._get_request_target(request.url, proxy_url)\n\u001b[32m--> \u001b[39m\u001b[32m464\u001b[39m urllib_response = \u001b[43mconn\u001b[49m\u001b[43m.\u001b[49m\u001b[43murlopen\u001b[49m\u001b[43m(\u001b[49m\n\u001b[32m    465\u001b[39m \u001b[43m    \u001b[49m\u001b[43mmethod\u001b[49m\u001b[43m=\u001b[49m\u001b[43mrequest\u001b[49m\u001b[43m.\u001b[49m\u001b[43mmethod\u001b[49m\u001b[43m,\u001b[49m\n\u001b[32m    466\u001b[39m \u001b[43m    \u001b[49m\u001b[43murl\u001b[49m\u001b[43m=\u001b[49m\u001b[43mrequest_target\u001b[49m\u001b[43m,\u001b[49m\n\u001b[32m    467\u001b[39m \u001b[43m    \u001b[49m\u001b[43mbody\u001b[49m\u001b[43m=\u001b[49m\u001b[43mrequest\u001b[49m\u001b[43m.\u001b[49m\u001b[43mbody\u001b[49m\u001b[43m,\u001b[49m\n\u001b[32m    468\u001b[39m \u001b[43m    \u001b[49m\u001b[43mheaders\u001b[49m\u001b[43m=\u001b[49m\u001b[43mrequest\u001b[49m\u001b[43m.\u001b[49m\u001b[43mheaders\u001b[49m\u001b[43m,\u001b[49m\n\u001b[32m    469\u001b[39m \u001b[43m    \u001b[49m\u001b[43mretries\u001b[49m\u001b[43m=\u001b[49m\u001b[43mRetry\u001b[49m\u001b[43m(\u001b[49m\u001b[38;5;28;43;01mFalse\u001b[39;49;00m\u001b[43m)\u001b[49m\u001b[43m,\u001b[49m\n\u001b[32m    470\u001b[39m \u001b[43m    \u001b[49m\u001b[43massert_same_host\u001b[49m\u001b[43m=\u001b[49m\u001b[38;5;28;43;01mFalse\u001b[39;49;00m\u001b[43m,\u001b[49m\n\u001b[32m    471\u001b[39m \u001b[43m    \u001b[49m\u001b[43mpreload_content\u001b[49m\u001b[43m=\u001b[49m\u001b[38;5;28;43;01mFalse\u001b[39;49;00m\u001b[43m,\u001b[49m\n\u001b[32m    472\u001b[39m \u001b[43m    \u001b[49m\u001b[43mdecode_content\u001b[49m\u001b[43m=\u001b[49m\u001b[38;5;28;43;01mFalse\u001b[39;49;00m\u001b[43m,\u001b[49m\n\u001b[32m    473\u001b[39m \u001b[43m    \u001b[49m\u001b[43mchunked\u001b[49m\u001b[43m=\u001b[49m\u001b[38;5;28;43mself\u001b[39;49m\u001b[43m.\u001b[49m\u001b[43m_chunked\u001b[49m\u001b[43m(\u001b[49m\u001b[43mrequest\u001b[49m\u001b[43m.\u001b[49m\u001b[43mheaders\u001b[49m\u001b[43m)\u001b[49m\u001b[43m,\u001b[49m\n\u001b[32m    474\u001b[39m \u001b[43m\u001b[49m\u001b[43m)\u001b[49m\n\u001b[32m    476\u001b[39m http_response = botocore.awsrequest.AWSResponse(\n\u001b[32m    477\u001b[39m     request.url,\n\u001b[32m    478\u001b[39m     urllib_response.status,\n\u001b[32m    479\u001b[39m     urllib_response.headers,\n\u001b[32m    480\u001b[39m     urllib_response,\n\u001b[32m    481\u001b[39m )\n",
      "\u001b[36mFile \u001b[39m\u001b[32m~/miniconda3/envs/scvi_project/lib/python3.11/site-packages/urllib3/connectionpool.py:841\u001b[39m, in \u001b[36mHTTPConnectionPool.urlopen\u001b[39m\u001b[34m(self, method, url, body, headers, retries, redirect, assert_same_host, timeout, pool_timeout, release_conn, chunked, body_pos, preload_content, decode_content, **response_kw)\u001b[39m\n\u001b[32m    839\u001b[39m     new_e = ProtocolError(\u001b[33m\"\u001b[39m\u001b[33mConnection aborted.\u001b[39m\u001b[33m\"\u001b[39m, new_e)\n\u001b[32m--> \u001b[39m\u001b[32m841\u001b[39m retries = \u001b[43mretries\u001b[49m\u001b[43m.\u001b[49m\u001b[43mincrement\u001b[49m\u001b[43m(\u001b[49m\n\u001b[32m    842\u001b[39m \u001b[43m    \u001b[49m\u001b[43mmethod\u001b[49m\u001b[43m,\u001b[49m\u001b[43m \u001b[49m\u001b[43murl\u001b[49m\u001b[43m,\u001b[49m\u001b[43m \u001b[49m\u001b[43merror\u001b[49m\u001b[43m=\u001b[49m\u001b[43mnew_e\u001b[49m\u001b[43m,\u001b[49m\u001b[43m \u001b[49m\u001b[43m_pool\u001b[49m\u001b[43m=\u001b[49m\u001b[38;5;28;43mself\u001b[39;49m\u001b[43m,\u001b[49m\u001b[43m \u001b[49m\u001b[43m_stacktrace\u001b[49m\u001b[43m=\u001b[49m\u001b[43msys\u001b[49m\u001b[43m.\u001b[49m\u001b[43mexc_info\u001b[49m\u001b[43m(\u001b[49m\u001b[43m)\u001b[49m\u001b[43m[\u001b[49m\u001b[32;43m2\u001b[39;49m\u001b[43m]\u001b[49m\n\u001b[32m    843\u001b[39m \u001b[43m\u001b[49m\u001b[43m)\u001b[49m\n\u001b[32m    844\u001b[39m retries.sleep()\n",
      "\u001b[36mFile \u001b[39m\u001b[32m~/miniconda3/envs/scvi_project/lib/python3.11/site-packages/urllib3/util/retry.py:449\u001b[39m, in \u001b[36mRetry.increment\u001b[39m\u001b[34m(self, method, url, response, error, _pool, _stacktrace)\u001b[39m\n\u001b[32m    447\u001b[39m \u001b[38;5;28;01mif\u001b[39;00m \u001b[38;5;28mself\u001b[39m.total \u001b[38;5;129;01mis\u001b[39;00m \u001b[38;5;28;01mFalse\u001b[39;00m \u001b[38;5;129;01mand\u001b[39;00m error:\n\u001b[32m    448\u001b[39m     \u001b[38;5;66;03m# Disabled, indicate to re-raise the error.\u001b[39;00m\n\u001b[32m--> \u001b[39m\u001b[32m449\u001b[39m     \u001b[38;5;28;01mraise\u001b[39;00m \u001b[43mreraise\u001b[49m\u001b[43m(\u001b[49m\u001b[38;5;28;43mtype\u001b[39;49m\u001b[43m(\u001b[49m\u001b[43merror\u001b[49m\u001b[43m)\u001b[49m\u001b[43m,\u001b[49m\u001b[43m \u001b[49m\u001b[43merror\u001b[49m\u001b[43m,\u001b[49m\u001b[43m \u001b[49m\u001b[43m_stacktrace\u001b[49m\u001b[43m)\u001b[49m\n\u001b[32m    451\u001b[39m total = \u001b[38;5;28mself\u001b[39m.total\n",
      "\u001b[36mFile \u001b[39m\u001b[32m~/miniconda3/envs/scvi_project/lib/python3.11/site-packages/urllib3/util/util.py:39\u001b[39m, in \u001b[36mreraise\u001b[39m\u001b[34m(tp, value, tb)\u001b[39m\n\u001b[32m     38\u001b[39m         \u001b[38;5;28;01mraise\u001b[39;00m value.with_traceback(tb)\n\u001b[32m---> \u001b[39m\u001b[32m39\u001b[39m     \u001b[38;5;28;01mraise\u001b[39;00m value\n\u001b[32m     40\u001b[39m \u001b[38;5;28;01mfinally\u001b[39;00m:\n",
      "\u001b[36mFile \u001b[39m\u001b[32m~/miniconda3/envs/scvi_project/lib/python3.11/site-packages/urllib3/connectionpool.py:787\u001b[39m, in \u001b[36mHTTPConnectionPool.urlopen\u001b[39m\u001b[34m(self, method, url, body, headers, retries, redirect, assert_same_host, timeout, pool_timeout, release_conn, chunked, body_pos, preload_content, decode_content, **response_kw)\u001b[39m\n\u001b[32m    786\u001b[39m \u001b[38;5;66;03m# Make the request on the HTTPConnection object\u001b[39;00m\n\u001b[32m--> \u001b[39m\u001b[32m787\u001b[39m response = \u001b[38;5;28;43mself\u001b[39;49m\u001b[43m.\u001b[49m\u001b[43m_make_request\u001b[49m\u001b[43m(\u001b[49m\n\u001b[32m    788\u001b[39m \u001b[43m    \u001b[49m\u001b[43mconn\u001b[49m\u001b[43m,\u001b[49m\n\u001b[32m    789\u001b[39m \u001b[43m    \u001b[49m\u001b[43mmethod\u001b[49m\u001b[43m,\u001b[49m\n\u001b[32m    790\u001b[39m \u001b[43m    \u001b[49m\u001b[43murl\u001b[49m\u001b[43m,\u001b[49m\n\u001b[32m    791\u001b[39m \u001b[43m    \u001b[49m\u001b[43mtimeout\u001b[49m\u001b[43m=\u001b[49m\u001b[43mtimeout_obj\u001b[49m\u001b[43m,\u001b[49m\n\u001b[32m    792\u001b[39m \u001b[43m    \u001b[49m\u001b[43mbody\u001b[49m\u001b[43m=\u001b[49m\u001b[43mbody\u001b[49m\u001b[43m,\u001b[49m\n\u001b[32m    793\u001b[39m \u001b[43m    \u001b[49m\u001b[43mheaders\u001b[49m\u001b[43m=\u001b[49m\u001b[43mheaders\u001b[49m\u001b[43m,\u001b[49m\n\u001b[32m    794\u001b[39m \u001b[43m    \u001b[49m\u001b[43mchunked\u001b[49m\u001b[43m=\u001b[49m\u001b[43mchunked\u001b[49m\u001b[43m,\u001b[49m\n\u001b[32m    795\u001b[39m \u001b[43m    \u001b[49m\u001b[43mretries\u001b[49m\u001b[43m=\u001b[49m\u001b[43mretries\u001b[49m\u001b[43m,\u001b[49m\n\u001b[32m    796\u001b[39m \u001b[43m    \u001b[49m\u001b[43mresponse_conn\u001b[49m\u001b[43m=\u001b[49m\u001b[43mresponse_conn\u001b[49m\u001b[43m,\u001b[49m\n\u001b[32m    797\u001b[39m \u001b[43m    \u001b[49m\u001b[43mpreload_content\u001b[49m\u001b[43m=\u001b[49m\u001b[43mpreload_content\u001b[49m\u001b[43m,\u001b[49m\n\u001b[32m    798\u001b[39m \u001b[43m    \u001b[49m\u001b[43mdecode_content\u001b[49m\u001b[43m=\u001b[49m\u001b[43mdecode_content\u001b[49m\u001b[43m,\u001b[49m\n\u001b[32m    799\u001b[39m \u001b[43m    \u001b[49m\u001b[43m*\u001b[49m\u001b[43m*\u001b[49m\u001b[43mresponse_kw\u001b[49m\u001b[43m,\u001b[49m\n\u001b[32m    800\u001b[39m \u001b[43m\u001b[49m\u001b[43m)\u001b[49m\n\u001b[32m    802\u001b[39m \u001b[38;5;66;03m# Everything went great!\u001b[39;00m\n",
      "\u001b[36mFile \u001b[39m\u001b[32m~/miniconda3/envs/scvi_project/lib/python3.11/site-packages/urllib3/connectionpool.py:488\u001b[39m, in \u001b[36mHTTPConnectionPool._make_request\u001b[39m\u001b[34m(self, conn, method, url, body, headers, retries, timeout, chunked, response_conn, preload_content, decode_content, enforce_content_length)\u001b[39m\n\u001b[32m    487\u001b[39m         new_e = _wrap_proxy_error(new_e, conn.proxy.scheme)\n\u001b[32m--> \u001b[39m\u001b[32m488\u001b[39m     \u001b[38;5;28;01mraise\u001b[39;00m new_e\n\u001b[32m    490\u001b[39m \u001b[38;5;66;03m# conn.request() calls http.client.*.request, not the method in\u001b[39;00m\n\u001b[32m    491\u001b[39m \u001b[38;5;66;03m# urllib3.request. It also calls makefile (recv) on the socket.\u001b[39;00m\n",
      "\u001b[36mFile \u001b[39m\u001b[32m~/miniconda3/envs/scvi_project/lib/python3.11/site-packages/urllib3/connectionpool.py:464\u001b[39m, in \u001b[36mHTTPConnectionPool._make_request\u001b[39m\u001b[34m(self, conn, method, url, body, headers, retries, timeout, chunked, response_conn, preload_content, decode_content, enforce_content_length)\u001b[39m\n\u001b[32m    463\u001b[39m \u001b[38;5;28;01mtry\u001b[39;00m:\n\u001b[32m--> \u001b[39m\u001b[32m464\u001b[39m     \u001b[38;5;28;43mself\u001b[39;49m\u001b[43m.\u001b[49m\u001b[43m_validate_conn\u001b[49m\u001b[43m(\u001b[49m\u001b[43mconn\u001b[49m\u001b[43m)\u001b[49m\n\u001b[32m    465\u001b[39m \u001b[38;5;28;01mexcept\u001b[39;00m (SocketTimeout, BaseSSLError) \u001b[38;5;28;01mas\u001b[39;00m e:\n",
      "\u001b[36mFile \u001b[39m\u001b[32m~/miniconda3/envs/scvi_project/lib/python3.11/site-packages/urllib3/connectionpool.py:1093\u001b[39m, in \u001b[36mHTTPSConnectionPool._validate_conn\u001b[39m\u001b[34m(self, conn)\u001b[39m\n\u001b[32m   1092\u001b[39m \u001b[38;5;28;01mif\u001b[39;00m conn.is_closed:\n\u001b[32m-> \u001b[39m\u001b[32m1093\u001b[39m     \u001b[43mconn\u001b[49m\u001b[43m.\u001b[49m\u001b[43mconnect\u001b[49m\u001b[43m(\u001b[49m\u001b[43m)\u001b[49m\n\u001b[32m   1095\u001b[39m \u001b[38;5;66;03m# TODO revise this, see https://github.com/urllib3/urllib3/issues/2791\u001b[39;00m\n",
      "\u001b[36mFile \u001b[39m\u001b[32m~/miniconda3/envs/scvi_project/lib/python3.11/site-packages/urllib3/connection.py:704\u001b[39m, in \u001b[36mHTTPSConnection.connect\u001b[39m\u001b[34m(self)\u001b[39m\n\u001b[32m    703\u001b[39m sock: socket.socket | ssl.SSLSocket\n\u001b[32m--> \u001b[39m\u001b[32m704\u001b[39m \u001b[38;5;28mself\u001b[39m.sock = sock = \u001b[38;5;28;43mself\u001b[39;49m\u001b[43m.\u001b[49m\u001b[43m_new_conn\u001b[49m\u001b[43m(\u001b[49m\u001b[43m)\u001b[49m\n\u001b[32m    705\u001b[39m server_hostname: \u001b[38;5;28mstr\u001b[39m = \u001b[38;5;28mself\u001b[39m.host\n",
      "\u001b[36mFile \u001b[39m\u001b[32m~/miniconda3/envs/scvi_project/lib/python3.11/site-packages/urllib3/connection.py:205\u001b[39m, in \u001b[36mHTTPConnection._new_conn\u001b[39m\u001b[34m(self)\u001b[39m\n\u001b[32m    204\u001b[39m \u001b[38;5;28;01mexcept\u001b[39;00m socket.gaierror \u001b[38;5;28;01mas\u001b[39;00m e:\n\u001b[32m--> \u001b[39m\u001b[32m205\u001b[39m     \u001b[38;5;28;01mraise\u001b[39;00m NameResolutionError(\u001b[38;5;28mself\u001b[39m.host, \u001b[38;5;28mself\u001b[39m, e) \u001b[38;5;28;01mfrom\u001b[39;00m\u001b[38;5;250m \u001b[39m\u001b[34;01me\u001b[39;00m\n\u001b[32m    206\u001b[39m \u001b[38;5;28;01mexcept\u001b[39;00m SocketTimeout \u001b[38;5;28;01mas\u001b[39;00m e:\n",
      "\u001b[31mNameResolutionError\u001b[39m: <botocore.awsrequest.AWSHTTPSConnection object at 0x7dfb98eb6450>: Failed to resolve 'allen-brain-cell-atlas.s3.amazonaws.com' ([Errno -3] Temporary failure in name resolution)",
      "\nDuring handling of the above exception, another exception occurred:\n",
      "\u001b[31mEndpointConnectionError\u001b[39m                   Traceback (most recent call last)",
      "\u001b[36mCell\u001b[39m\u001b[36m \u001b[39m\u001b[32mIn[14]\u001b[39m\u001b[32m, line 2\u001b[39m\n\u001b[32m      1\u001b[39m \u001b[38;5;66;03m# TODO\u001b[39;00m\n\u001b[32m----> \u001b[39m\u001b[32m2\u001b[39m allen_wmb_metadata = \u001b[43mabc_cache\u001b[49m\u001b[43m.\u001b[49m\u001b[43mget_directory_metadata\u001b[49m\u001b[43m(\u001b[49m\u001b[33;43m'\u001b[39;49m\u001b[33;43mWMB-taxonomy\u001b[39;49m\u001b[33;43m'\u001b[39;49m\u001b[43m)\u001b[49m\n\u001b[32m      3\u001b[39m \u001b[38;5;28mprint\u001b[39m(\u001b[33m\"\u001b[39m\u001b[33mWMB metadata files:\u001b[39m\u001b[38;5;130;01m\\n\u001b[39;00m\u001b[38;5;130;01m\\t\u001b[39;00m\u001b[33m\"\u001b[39m, allen_wmb_metadata)\n",
      "\u001b[36mFile \u001b[39m\u001b[32m~/miniconda3/envs/scvi_project/lib/python3.11/site-packages/abc_atlas_access/abc_atlas_cache/abc_project_cache.py:307\u001b[39m, in \u001b[36mAbcProjectCache.get_directory_metadata\u001b[39m\u001b[34m(self, directory, force_download, skip_hash_check)\u001b[39m\n\u001b[32m    304\u001b[39m \u001b[38;5;28;01melse\u001b[39;00m:\n\u001b[32m    305\u001b[39m     \u001b[38;5;28mself\u001b[39m._warn_directory_size(directory=directory,\n\u001b[32m    306\u001b[39m                               is_metadata=\u001b[38;5;28;01mTrue\u001b[39;00m)\n\u001b[32m--> \u001b[39m\u001b[32m307\u001b[39m     \u001b[38;5;28;01mreturn\u001b[39;00m \u001b[38;5;28;43mself\u001b[39;49m\u001b[43m.\u001b[49m\u001b[43mcache\u001b[49m\u001b[43m.\u001b[49m\u001b[43mdownload_directory_metadata\u001b[49m\u001b[43m(\u001b[49m\n\u001b[32m    308\u001b[39m \u001b[43m        \u001b[49m\u001b[43mdirectory\u001b[49m\u001b[43m=\u001b[49m\u001b[43mdirectory\u001b[49m\u001b[43m,\u001b[49m\n\u001b[32m    309\u001b[39m \u001b[43m        \u001b[49m\u001b[43mforce_download\u001b[49m\u001b[43m=\u001b[49m\u001b[43mforce_download\u001b[49m\u001b[43m,\u001b[49m\n\u001b[32m    310\u001b[39m \u001b[43m        \u001b[49m\u001b[43mskip_hash_check\u001b[49m\u001b[43m=\u001b[49m\u001b[43mskip_hash_check\u001b[49m\n\u001b[32m    311\u001b[39m \u001b[43m    \u001b[49m\u001b[43m)\u001b[49m\n",
      "\u001b[36mFile \u001b[39m\u001b[32m~/miniconda3/envs/scvi_project/lib/python3.11/site-packages/abc_atlas_access/abc_atlas_cache/cloud_cache.py:926\u001b[39m, in \u001b[36mCloudCacheBase.download_directory_metadata\u001b[39m\u001b[34m(self, directory, force_download, skip_hash_check)\u001b[39m\n\u001b[32m    923\u001b[39m output_metadata = []\n\u001b[32m    924\u001b[39m \u001b[38;5;28;01mfor\u001b[39;00m file_name \u001b[38;5;129;01min\u001b[39;00m metadata_list:\n\u001b[32m    925\u001b[39m     output_metadata.append(\n\u001b[32m--> \u001b[39m\u001b[32m926\u001b[39m         \u001b[38;5;28;43mself\u001b[39;49m\u001b[43m.\u001b[49m\u001b[43mdownload_metadata\u001b[49m\u001b[43m(\u001b[49m\n\u001b[32m    927\u001b[39m \u001b[43m            \u001b[49m\u001b[43mdirectory\u001b[49m\u001b[43m=\u001b[49m\u001b[43mdirectory\u001b[49m\u001b[43m,\u001b[49m\n\u001b[32m    928\u001b[39m \u001b[43m            \u001b[49m\u001b[43mfile_name\u001b[49m\u001b[43m=\u001b[49m\u001b[43mfile_name\u001b[49m\u001b[43m,\u001b[49m\n\u001b[32m    929\u001b[39m \u001b[43m            \u001b[49m\u001b[43mforce_download\u001b[49m\u001b[43m=\u001b[49m\u001b[43mforce_download\u001b[49m\u001b[43m,\u001b[49m\n\u001b[32m    930\u001b[39m \u001b[43m            \u001b[49m\u001b[43mskip_hash_check\u001b[49m\u001b[43m=\u001b[49m\u001b[43mskip_hash_check\u001b[49m\n\u001b[32m    931\u001b[39m \u001b[43m        \u001b[49m\u001b[43m)\u001b[49m\n\u001b[32m    932\u001b[39m     )\n\u001b[32m    933\u001b[39m \u001b[38;5;28;01mreturn\u001b[39;00m output_metadata\n",
      "\u001b[36mFile \u001b[39m\u001b[32m~/miniconda3/envs/scvi_project/lib/python3.11/site-packages/abc_atlas_access/abc_atlas_cache/cloud_cache.py:891\u001b[39m, in \u001b[36mCloudCacheBase.download_metadata\u001b[39m\u001b[34m(self, directory, file_name, force_download, skip_hash_check)\u001b[39m\n\u001b[32m    889\u001b[39m     force_download = \u001b[38;5;28;01mTrue\u001b[39;00m\n\u001b[32m    890\u001b[39m file_attributes = super_attributes[\u001b[33m'\u001b[39m\u001b[33mfile_attributes\u001b[39m\u001b[33m'\u001b[39m]\n\u001b[32m--> \u001b[39m\u001b[32m891\u001b[39m \u001b[38;5;28;43mself\u001b[39;49m\u001b[43m.\u001b[49m\u001b[43m_download_file\u001b[49m\u001b[43m(\u001b[49m\n\u001b[32m    892\u001b[39m \u001b[43m    \u001b[49m\u001b[43mfile_attributes\u001b[49m\u001b[43m=\u001b[49m\u001b[43mfile_attributes\u001b[49m\u001b[43m,\u001b[49m\n\u001b[32m    893\u001b[39m \u001b[43m    \u001b[49m\u001b[43mforce_download\u001b[49m\u001b[43m=\u001b[49m\u001b[43mforce_download\u001b[49m\u001b[43m,\u001b[49m\n\u001b[32m    894\u001b[39m \u001b[43m    \u001b[49m\u001b[43mskip_hash_check\u001b[49m\u001b[43m=\u001b[49m\u001b[43mskip_hash_check\u001b[49m\n\u001b[32m    895\u001b[39m \u001b[43m\u001b[49m\u001b[43m)\u001b[49m\n\u001b[32m    896\u001b[39m \u001b[38;5;28;01mreturn\u001b[39;00m file_attributes.local_path\n",
      "\u001b[36mFile \u001b[39m\u001b[32m~/miniconda3/envs/scvi_project/lib/python3.11/site-packages/abc_atlas_access/abc_atlas_cache/cloud_cache.py:1295\u001b[39m, in \u001b[36mS3CloudCache._download_file\u001b[39m\u001b[34m(self, file_attributes, force_download, skip_hash_check)\u001b[39m\n\u001b[32m   1293\u001b[39m pbar = \u001b[38;5;28;01mNone\u001b[39;00m\n\u001b[32m   1294\u001b[39m \u001b[38;5;28;01mif\u001b[39;00m \u001b[38;5;129;01mnot\u001b[39;00m \u001b[38;5;28mself\u001b[39m._file_exists(file_attributes):\n\u001b[32m-> \u001b[39m\u001b[32m1295\u001b[39m     response = \u001b[38;5;28;43mself\u001b[39;49m\u001b[43m.\u001b[49m\u001b[43ms3_client\u001b[49m\u001b[43m.\u001b[49m\u001b[43mlist_objects_v2\u001b[49m\u001b[43m(\u001b[49m\u001b[43mBucket\u001b[49m\u001b[43m=\u001b[49m\u001b[38;5;28;43mself\u001b[39;49m\u001b[43m.\u001b[49m\u001b[43m_bucket_name\u001b[49m\u001b[43m,\u001b[49m\n\u001b[32m   1296\u001b[39m \u001b[43m                                              \u001b[49m\u001b[43mPrefix\u001b[49m\u001b[43m=\u001b[49m\u001b[38;5;28;43mstr\u001b[39;49m\u001b[43m(\u001b[49m\u001b[43mobj_key\u001b[49m\u001b[43m)\u001b[49m\u001b[43m)\u001b[49m\n\u001b[32m   1297\u001b[39m     object_info = response[\u001b[33m'\u001b[39m\u001b[33mContents\u001b[39m\u001b[33m'\u001b[39m][\u001b[32m0\u001b[39m]\n\u001b[32m   1298\u001b[39m     pbar = tqdm.tqdm(desc=object_info[\u001b[33m\"\u001b[39m\u001b[33mKey\u001b[39m\u001b[33m\"\u001b[39m].split(\u001b[33m\"\u001b[39m\u001b[33m/\u001b[39m\u001b[33m\"\u001b[39m)[-\u001b[32m1\u001b[39m],\n\u001b[32m   1299\u001b[39m                      total=object_info[\u001b[33m\"\u001b[39m\u001b[33mSize\u001b[39m\u001b[33m\"\u001b[39m],\n\u001b[32m   1300\u001b[39m                      unit_scale=\u001b[38;5;28;01mTrue\u001b[39;00m,\n\u001b[32m   1301\u001b[39m                      unit_divisor=\u001b[32m1000.\u001b[39m,\n\u001b[32m   1302\u001b[39m                      unit=\u001b[33m\"\u001b[39m\u001b[33mMB\u001b[39m\u001b[33m\"\u001b[39m)\n",
      "\u001b[36mFile \u001b[39m\u001b[32m~/miniconda3/envs/scvi_project/lib/python3.11/site-packages/botocore/client.py:570\u001b[39m, in \u001b[36mClientCreator._create_api_method.<locals>._api_call\u001b[39m\u001b[34m(self, *args, **kwargs)\u001b[39m\n\u001b[32m    566\u001b[39m     \u001b[38;5;28;01mraise\u001b[39;00m \u001b[38;5;167;01mTypeError\u001b[39;00m(\n\u001b[32m    567\u001b[39m         \u001b[33mf\u001b[39m\u001b[33m\"\u001b[39m\u001b[38;5;132;01m{\u001b[39;00mpy_operation_name\u001b[38;5;132;01m}\u001b[39;00m\u001b[33m() only accepts keyword arguments.\u001b[39m\u001b[33m\"\u001b[39m\n\u001b[32m    568\u001b[39m     )\n\u001b[32m    569\u001b[39m \u001b[38;5;66;03m# The \"self\" in this scope is referring to the BaseClient.\u001b[39;00m\n\u001b[32m--> \u001b[39m\u001b[32m570\u001b[39m \u001b[38;5;28;01mreturn\u001b[39;00m \u001b[38;5;28;43mself\u001b[39;49m\u001b[43m.\u001b[49m\u001b[43m_make_api_call\u001b[49m\u001b[43m(\u001b[49m\u001b[43moperation_name\u001b[49m\u001b[43m,\u001b[49m\u001b[43m \u001b[49m\u001b[43mkwargs\u001b[49m\u001b[43m)\u001b[49m\n",
      "\u001b[36mFile \u001b[39m\u001b[32m~/miniconda3/envs/scvi_project/lib/python3.11/site-packages/botocore/context.py:124\u001b[39m, in \u001b[36mwith_current_context.<locals>.decorator.<locals>.wrapper\u001b[39m\u001b[34m(*args, **kwargs)\u001b[39m\n\u001b[32m    122\u001b[39m \u001b[38;5;28;01mif\u001b[39;00m hook:\n\u001b[32m    123\u001b[39m     hook()\n\u001b[32m--> \u001b[39m\u001b[32m124\u001b[39m \u001b[38;5;28;01mreturn\u001b[39;00m \u001b[43mfunc\u001b[49m\u001b[43m(\u001b[49m\u001b[43m*\u001b[49m\u001b[43margs\u001b[49m\u001b[43m,\u001b[49m\u001b[43m \u001b[49m\u001b[43m*\u001b[49m\u001b[43m*\u001b[49m\u001b[43mkwargs\u001b[49m\u001b[43m)\u001b[49m\n",
      "\u001b[36mFile \u001b[39m\u001b[32m~/miniconda3/envs/scvi_project/lib/python3.11/site-packages/botocore/client.py:1013\u001b[39m, in \u001b[36mBaseClient._make_api_call\u001b[39m\u001b[34m(self, operation_name, api_params)\u001b[39m\n\u001b[32m   1009\u001b[39m     maybe_compress_request(\n\u001b[32m   1010\u001b[39m         \u001b[38;5;28mself\u001b[39m.meta.config, request_dict, operation_model\n\u001b[32m   1011\u001b[39m     )\n\u001b[32m   1012\u001b[39m     apply_request_checksum(request_dict)\n\u001b[32m-> \u001b[39m\u001b[32m1013\u001b[39m     http, parsed_response = \u001b[38;5;28;43mself\u001b[39;49m\u001b[43m.\u001b[49m\u001b[43m_make_request\u001b[49m\u001b[43m(\u001b[49m\n\u001b[32m   1014\u001b[39m \u001b[43m        \u001b[49m\u001b[43moperation_model\u001b[49m\u001b[43m,\u001b[49m\u001b[43m \u001b[49m\u001b[43mrequest_dict\u001b[49m\u001b[43m,\u001b[49m\u001b[43m \u001b[49m\u001b[43mrequest_context\u001b[49m\n\u001b[32m   1015\u001b[39m \u001b[43m    \u001b[49m\u001b[43m)\u001b[49m\n\u001b[32m   1017\u001b[39m \u001b[38;5;28mself\u001b[39m.meta.events.emit(\n\u001b[32m   1018\u001b[39m     \u001b[33mf\u001b[39m\u001b[33m'\u001b[39m\u001b[33mafter-call.\u001b[39m\u001b[38;5;132;01m{\u001b[39;00mservice_id\u001b[38;5;132;01m}\u001b[39;00m\u001b[33m.\u001b[39m\u001b[38;5;132;01m{\u001b[39;00moperation_name\u001b[38;5;132;01m}\u001b[39;00m\u001b[33m'\u001b[39m,\n\u001b[32m   1019\u001b[39m     http_response=http,\n\u001b[32m   (...)\u001b[39m\u001b[32m   1022\u001b[39m     context=request_context,\n\u001b[32m   1023\u001b[39m )\n\u001b[32m   1025\u001b[39m \u001b[38;5;28;01mif\u001b[39;00m http.status_code >= \u001b[32m300\u001b[39m:\n",
      "\u001b[36mFile \u001b[39m\u001b[32m~/miniconda3/envs/scvi_project/lib/python3.11/site-packages/botocore/client.py:1037\u001b[39m, in \u001b[36mBaseClient._make_request\u001b[39m\u001b[34m(self, operation_model, request_dict, request_context)\u001b[39m\n\u001b[32m   1035\u001b[39m \u001b[38;5;28;01mdef\u001b[39;00m\u001b[38;5;250m \u001b[39m\u001b[34m_make_request\u001b[39m(\u001b[38;5;28mself\u001b[39m, operation_model, request_dict, request_context):\n\u001b[32m   1036\u001b[39m     \u001b[38;5;28;01mtry\u001b[39;00m:\n\u001b[32m-> \u001b[39m\u001b[32m1037\u001b[39m         \u001b[38;5;28;01mreturn\u001b[39;00m \u001b[38;5;28;43mself\u001b[39;49m\u001b[43m.\u001b[49m\u001b[43m_endpoint\u001b[49m\u001b[43m.\u001b[49m\u001b[43mmake_request\u001b[49m\u001b[43m(\u001b[49m\u001b[43moperation_model\u001b[49m\u001b[43m,\u001b[49m\u001b[43m \u001b[49m\u001b[43mrequest_dict\u001b[49m\u001b[43m)\u001b[49m\n\u001b[32m   1038\u001b[39m     \u001b[38;5;28;01mexcept\u001b[39;00m \u001b[38;5;167;01mException\u001b[39;00m \u001b[38;5;28;01mas\u001b[39;00m e:\n\u001b[32m   1039\u001b[39m         \u001b[38;5;28mself\u001b[39m.meta.events.emit(\n\u001b[32m   1040\u001b[39m             \u001b[33mf\u001b[39m\u001b[33m'\u001b[39m\u001b[33mafter-call-error.\u001b[39m\u001b[38;5;132;01m{\u001b[39;00m\u001b[38;5;28mself\u001b[39m._service_model.service_id.hyphenize()\u001b[38;5;132;01m}\u001b[39;00m\u001b[33m.\u001b[39m\u001b[38;5;132;01m{\u001b[39;00moperation_model.name\u001b[38;5;132;01m}\u001b[39;00m\u001b[33m'\u001b[39m,\n\u001b[32m   1041\u001b[39m             exception=e,\n\u001b[32m   1042\u001b[39m             context=request_context,\n\u001b[32m   1043\u001b[39m         )\n",
      "\u001b[36mFile \u001b[39m\u001b[32m~/miniconda3/envs/scvi_project/lib/python3.11/site-packages/botocore/endpoint.py:119\u001b[39m, in \u001b[36mEndpoint.make_request\u001b[39m\u001b[34m(self, operation_model, request_dict)\u001b[39m\n\u001b[32m    113\u001b[39m \u001b[38;5;28;01mdef\u001b[39;00m\u001b[38;5;250m \u001b[39m\u001b[34mmake_request\u001b[39m(\u001b[38;5;28mself\u001b[39m, operation_model, request_dict):\n\u001b[32m    114\u001b[39m     logger.debug(\n\u001b[32m    115\u001b[39m         \u001b[33m\"\u001b[39m\u001b[33mMaking request for \u001b[39m\u001b[38;5;132;01m%s\u001b[39;00m\u001b[33m with params: \u001b[39m\u001b[38;5;132;01m%s\u001b[39;00m\u001b[33m\"\u001b[39m,\n\u001b[32m    116\u001b[39m         operation_model,\n\u001b[32m    117\u001b[39m         request_dict,\n\u001b[32m    118\u001b[39m     )\n\u001b[32m--> \u001b[39m\u001b[32m119\u001b[39m     \u001b[38;5;28;01mreturn\u001b[39;00m \u001b[38;5;28;43mself\u001b[39;49m\u001b[43m.\u001b[49m\u001b[43m_send_request\u001b[49m\u001b[43m(\u001b[49m\u001b[43mrequest_dict\u001b[49m\u001b[43m,\u001b[49m\u001b[43m \u001b[49m\u001b[43moperation_model\u001b[49m\u001b[43m)\u001b[49m\n",
      "\u001b[36mFile \u001b[39m\u001b[32m~/miniconda3/envs/scvi_project/lib/python3.11/site-packages/botocore/endpoint.py:200\u001b[39m, in \u001b[36mEndpoint._send_request\u001b[39m\u001b[34m(self, request_dict, operation_model)\u001b[39m\n\u001b[32m    196\u001b[39m request = \u001b[38;5;28mself\u001b[39m.create_request(request_dict, operation_model)\n\u001b[32m    197\u001b[39m success_response, exception = \u001b[38;5;28mself\u001b[39m._get_response(\n\u001b[32m    198\u001b[39m     request, operation_model, context\n\u001b[32m    199\u001b[39m )\n\u001b[32m--> \u001b[39m\u001b[32m200\u001b[39m \u001b[38;5;28;01mwhile\u001b[39;00m \u001b[38;5;28;43mself\u001b[39;49m\u001b[43m.\u001b[49m\u001b[43m_needs_retry\u001b[49m\u001b[43m(\u001b[49m\n\u001b[32m    201\u001b[39m \u001b[43m    \u001b[49m\u001b[43mattempts\u001b[49m\u001b[43m,\u001b[49m\n\u001b[32m    202\u001b[39m \u001b[43m    \u001b[49m\u001b[43moperation_model\u001b[49m\u001b[43m,\u001b[49m\n\u001b[32m    203\u001b[39m \u001b[43m    \u001b[49m\u001b[43mrequest_dict\u001b[49m\u001b[43m,\u001b[49m\n\u001b[32m    204\u001b[39m \u001b[43m    \u001b[49m\u001b[43msuccess_response\u001b[49m\u001b[43m,\u001b[49m\n\u001b[32m    205\u001b[39m \u001b[43m    \u001b[49m\u001b[43mexception\u001b[49m\u001b[43m,\u001b[49m\n\u001b[32m    206\u001b[39m \u001b[43m\u001b[49m\u001b[43m)\u001b[49m:\n\u001b[32m    207\u001b[39m     attempts += \u001b[32m1\u001b[39m\n\u001b[32m    208\u001b[39m     \u001b[38;5;28mself\u001b[39m._update_retries_context(context, attempts, success_response)\n",
      "\u001b[36mFile \u001b[39m\u001b[32m~/miniconda3/envs/scvi_project/lib/python3.11/site-packages/botocore/endpoint.py:360\u001b[39m, in \u001b[36mEndpoint._needs_retry\u001b[39m\u001b[34m(self, attempts, operation_model, request_dict, response, caught_exception)\u001b[39m\n\u001b[32m    358\u001b[39m service_id = operation_model.service_model.service_id.hyphenize()\n\u001b[32m    359\u001b[39m event_name = \u001b[33mf\u001b[39m\u001b[33m\"\u001b[39m\u001b[33mneeds-retry.\u001b[39m\u001b[38;5;132;01m{\u001b[39;00mservice_id\u001b[38;5;132;01m}\u001b[39;00m\u001b[33m.\u001b[39m\u001b[38;5;132;01m{\u001b[39;00moperation_model.name\u001b[38;5;132;01m}\u001b[39;00m\u001b[33m\"\u001b[39m\n\u001b[32m--> \u001b[39m\u001b[32m360\u001b[39m responses = \u001b[38;5;28;43mself\u001b[39;49m\u001b[43m.\u001b[49m\u001b[43m_event_emitter\u001b[49m\u001b[43m.\u001b[49m\u001b[43memit\u001b[49m\u001b[43m(\u001b[49m\n\u001b[32m    361\u001b[39m \u001b[43m    \u001b[49m\u001b[43mevent_name\u001b[49m\u001b[43m,\u001b[49m\n\u001b[32m    362\u001b[39m \u001b[43m    \u001b[49m\u001b[43mresponse\u001b[49m\u001b[43m=\u001b[49m\u001b[43mresponse\u001b[49m\u001b[43m,\u001b[49m\n\u001b[32m    363\u001b[39m \u001b[43m    \u001b[49m\u001b[43mendpoint\u001b[49m\u001b[43m=\u001b[49m\u001b[38;5;28;43mself\u001b[39;49m\u001b[43m,\u001b[49m\n\u001b[32m    364\u001b[39m \u001b[43m    \u001b[49m\u001b[43moperation\u001b[49m\u001b[43m=\u001b[49m\u001b[43moperation_model\u001b[49m\u001b[43m,\u001b[49m\n\u001b[32m    365\u001b[39m \u001b[43m    \u001b[49m\u001b[43mattempts\u001b[49m\u001b[43m=\u001b[49m\u001b[43mattempts\u001b[49m\u001b[43m,\u001b[49m\n\u001b[32m    366\u001b[39m \u001b[43m    \u001b[49m\u001b[43mcaught_exception\u001b[49m\u001b[43m=\u001b[49m\u001b[43mcaught_exception\u001b[49m\u001b[43m,\u001b[49m\n\u001b[32m    367\u001b[39m \u001b[43m    \u001b[49m\u001b[43mrequest_dict\u001b[49m\u001b[43m=\u001b[49m\u001b[43mrequest_dict\u001b[49m\u001b[43m,\u001b[49m\n\u001b[32m    368\u001b[39m \u001b[43m\u001b[49m\u001b[43m)\u001b[49m\n\u001b[32m    369\u001b[39m handler_response = first_non_none_response(responses)\n\u001b[32m    370\u001b[39m \u001b[38;5;28;01mif\u001b[39;00m handler_response \u001b[38;5;129;01mis\u001b[39;00m \u001b[38;5;28;01mNone\u001b[39;00m:\n",
      "\u001b[36mFile \u001b[39m\u001b[32m~/miniconda3/envs/scvi_project/lib/python3.11/site-packages/botocore/hooks.py:412\u001b[39m, in \u001b[36mEventAliaser.emit\u001b[39m\u001b[34m(self, event_name, **kwargs)\u001b[39m\n\u001b[32m    410\u001b[39m \u001b[38;5;28;01mdef\u001b[39;00m\u001b[38;5;250m \u001b[39m\u001b[34memit\u001b[39m(\u001b[38;5;28mself\u001b[39m, event_name, **kwargs):\n\u001b[32m    411\u001b[39m     aliased_event_name = \u001b[38;5;28mself\u001b[39m._alias_event_name(event_name)\n\u001b[32m--> \u001b[39m\u001b[32m412\u001b[39m     \u001b[38;5;28;01mreturn\u001b[39;00m \u001b[38;5;28;43mself\u001b[39;49m\u001b[43m.\u001b[49m\u001b[43m_emitter\u001b[49m\u001b[43m.\u001b[49m\u001b[43memit\u001b[49m\u001b[43m(\u001b[49m\u001b[43maliased_event_name\u001b[49m\u001b[43m,\u001b[49m\u001b[43m \u001b[49m\u001b[43m*\u001b[49m\u001b[43m*\u001b[49m\u001b[43mkwargs\u001b[49m\u001b[43m)\u001b[49m\n",
      "\u001b[36mFile \u001b[39m\u001b[32m~/miniconda3/envs/scvi_project/lib/python3.11/site-packages/botocore/hooks.py:256\u001b[39m, in \u001b[36mHierarchicalEmitter.emit\u001b[39m\u001b[34m(self, event_name, **kwargs)\u001b[39m\n\u001b[32m    245\u001b[39m \u001b[38;5;28;01mdef\u001b[39;00m\u001b[38;5;250m \u001b[39m\u001b[34memit\u001b[39m(\u001b[38;5;28mself\u001b[39m, event_name, **kwargs):\n\u001b[32m    246\u001b[39m \u001b[38;5;250m    \u001b[39m\u001b[33;03m\"\"\"\u001b[39;00m\n\u001b[32m    247\u001b[39m \u001b[33;03m    Emit an event by name with arguments passed as keyword args.\u001b[39;00m\n\u001b[32m    248\u001b[39m \n\u001b[32m   (...)\u001b[39m\u001b[32m    254\u001b[39m \u001b[33;03m             handlers.\u001b[39;00m\n\u001b[32m    255\u001b[39m \u001b[33;03m    \"\"\"\u001b[39;00m\n\u001b[32m--> \u001b[39m\u001b[32m256\u001b[39m     \u001b[38;5;28;01mreturn\u001b[39;00m \u001b[38;5;28;43mself\u001b[39;49m\u001b[43m.\u001b[49m\u001b[43m_emit\u001b[49m\u001b[43m(\u001b[49m\u001b[43mevent_name\u001b[49m\u001b[43m,\u001b[49m\u001b[43m \u001b[49m\u001b[43mkwargs\u001b[49m\u001b[43m)\u001b[49m\n",
      "\u001b[36mFile \u001b[39m\u001b[32m~/miniconda3/envs/scvi_project/lib/python3.11/site-packages/botocore/hooks.py:239\u001b[39m, in \u001b[36mHierarchicalEmitter._emit\u001b[39m\u001b[34m(self, event_name, kwargs, stop_on_response)\u001b[39m\n\u001b[32m    237\u001b[39m \u001b[38;5;28;01mfor\u001b[39;00m handler \u001b[38;5;129;01min\u001b[39;00m handlers_to_call:\n\u001b[32m    238\u001b[39m     logger.debug(\u001b[33m'\u001b[39m\u001b[33mEvent \u001b[39m\u001b[38;5;132;01m%s\u001b[39;00m\u001b[33m: calling handler \u001b[39m\u001b[38;5;132;01m%s\u001b[39;00m\u001b[33m'\u001b[39m, event_name, handler)\n\u001b[32m--> \u001b[39m\u001b[32m239\u001b[39m     response = \u001b[43mhandler\u001b[49m\u001b[43m(\u001b[49m\u001b[43m*\u001b[49m\u001b[43m*\u001b[49m\u001b[43mkwargs\u001b[49m\u001b[43m)\u001b[49m\n\u001b[32m    240\u001b[39m     responses.append((handler, response))\n\u001b[32m    241\u001b[39m     \u001b[38;5;28;01mif\u001b[39;00m stop_on_response \u001b[38;5;129;01mand\u001b[39;00m response \u001b[38;5;129;01mis\u001b[39;00m \u001b[38;5;129;01mnot\u001b[39;00m \u001b[38;5;28;01mNone\u001b[39;00m:\n",
      "\u001b[36mFile \u001b[39m\u001b[32m~/miniconda3/envs/scvi_project/lib/python3.11/site-packages/botocore/retryhandler.py:207\u001b[39m, in \u001b[36mRetryHandler.__call__\u001b[39m\u001b[34m(self, attempts, response, caught_exception, **kwargs)\u001b[39m\n\u001b[32m    204\u001b[39m     retries_context = kwargs[\u001b[33m'\u001b[39m\u001b[33mrequest_dict\u001b[39m\u001b[33m'\u001b[39m][\u001b[33m'\u001b[39m\u001b[33mcontext\u001b[39m\u001b[33m'\u001b[39m].get(\u001b[33m'\u001b[39m\u001b[33mretries\u001b[39m\u001b[33m'\u001b[39m)\n\u001b[32m    205\u001b[39m     checker_kwargs.update({\u001b[33m'\u001b[39m\u001b[33mretries_context\u001b[39m\u001b[33m'\u001b[39m: retries_context})\n\u001b[32m--> \u001b[39m\u001b[32m207\u001b[39m \u001b[38;5;28;01mif\u001b[39;00m \u001b[38;5;28;43mself\u001b[39;49m\u001b[43m.\u001b[49m\u001b[43m_checker\u001b[49m\u001b[43m(\u001b[49m\u001b[43m*\u001b[49m\u001b[43m*\u001b[49m\u001b[43mchecker_kwargs\u001b[49m\u001b[43m)\u001b[49m:\n\u001b[32m    208\u001b[39m     result = \u001b[38;5;28mself\u001b[39m._action(attempts=attempts)\n\u001b[32m    209\u001b[39m     logger.debug(\u001b[33m\"\u001b[39m\u001b[33mRetry needed, action of: \u001b[39m\u001b[38;5;132;01m%s\u001b[39;00m\u001b[33m\"\u001b[39m, result)\n",
      "\u001b[36mFile \u001b[39m\u001b[32m~/miniconda3/envs/scvi_project/lib/python3.11/site-packages/botocore/retryhandler.py:284\u001b[39m, in \u001b[36mMaxAttemptsDecorator.__call__\u001b[39m\u001b[34m(self, attempt_number, response, caught_exception, retries_context)\u001b[39m\n\u001b[32m    279\u001b[39m \u001b[38;5;28;01mif\u001b[39;00m retries_context:\n\u001b[32m    280\u001b[39m     retries_context[\u001b[33m'\u001b[39m\u001b[33mmax\u001b[39m\u001b[33m'\u001b[39m] = \u001b[38;5;28mmax\u001b[39m(\n\u001b[32m    281\u001b[39m         retries_context.get(\u001b[33m'\u001b[39m\u001b[33mmax\u001b[39m\u001b[33m'\u001b[39m, \u001b[32m0\u001b[39m), \u001b[38;5;28mself\u001b[39m._max_attempts\n\u001b[32m    282\u001b[39m     )\n\u001b[32m--> \u001b[39m\u001b[32m284\u001b[39m should_retry = \u001b[38;5;28;43mself\u001b[39;49m\u001b[43m.\u001b[49m\u001b[43m_should_retry\u001b[49m\u001b[43m(\u001b[49m\n\u001b[32m    285\u001b[39m \u001b[43m    \u001b[49m\u001b[43mattempt_number\u001b[49m\u001b[43m,\u001b[49m\u001b[43m \u001b[49m\u001b[43mresponse\u001b[49m\u001b[43m,\u001b[49m\u001b[43m \u001b[49m\u001b[43mcaught_exception\u001b[49m\n\u001b[32m    286\u001b[39m \u001b[43m\u001b[49m\u001b[43m)\u001b[49m\n\u001b[32m    287\u001b[39m \u001b[38;5;28;01mif\u001b[39;00m should_retry:\n\u001b[32m    288\u001b[39m     \u001b[38;5;28;01mif\u001b[39;00m attempt_number >= \u001b[38;5;28mself\u001b[39m._max_attempts:\n\u001b[32m    289\u001b[39m         \u001b[38;5;66;03m# explicitly set MaxAttemptsReached\u001b[39;00m\n",
      "\u001b[36mFile \u001b[39m\u001b[32m~/miniconda3/envs/scvi_project/lib/python3.11/site-packages/botocore/retryhandler.py:320\u001b[39m, in \u001b[36mMaxAttemptsDecorator._should_retry\u001b[39m\u001b[34m(self, attempt_number, response, caught_exception)\u001b[39m\n\u001b[32m    316\u001b[39m         \u001b[38;5;28;01mreturn\u001b[39;00m \u001b[38;5;28;01mTrue\u001b[39;00m\n\u001b[32m    317\u001b[39m \u001b[38;5;28;01melse\u001b[39;00m:\n\u001b[32m    318\u001b[39m     \u001b[38;5;66;03m# If we've exceeded the max attempts we just let the exception\u001b[39;00m\n\u001b[32m    319\u001b[39m     \u001b[38;5;66;03m# propagate if one has occurred.\u001b[39;00m\n\u001b[32m--> \u001b[39m\u001b[32m320\u001b[39m     \u001b[38;5;28;01mreturn\u001b[39;00m \u001b[38;5;28;43mself\u001b[39;49m\u001b[43m.\u001b[49m\u001b[43m_checker\u001b[49m\u001b[43m(\u001b[49m\u001b[43mattempt_number\u001b[49m\u001b[43m,\u001b[49m\u001b[43m \u001b[49m\u001b[43mresponse\u001b[49m\u001b[43m,\u001b[49m\u001b[43m \u001b[49m\u001b[43mcaught_exception\u001b[49m\u001b[43m)\u001b[49m\n",
      "\u001b[36mFile \u001b[39m\u001b[32m~/miniconda3/envs/scvi_project/lib/python3.11/site-packages/botocore/retryhandler.py:363\u001b[39m, in \u001b[36mMultiChecker.__call__\u001b[39m\u001b[34m(self, attempt_number, response, caught_exception)\u001b[39m\n\u001b[32m    361\u001b[39m \u001b[38;5;28;01mdef\u001b[39;00m\u001b[38;5;250m \u001b[39m\u001b[34m__call__\u001b[39m(\u001b[38;5;28mself\u001b[39m, attempt_number, response, caught_exception):\n\u001b[32m    362\u001b[39m     \u001b[38;5;28;01mfor\u001b[39;00m checker \u001b[38;5;129;01min\u001b[39;00m \u001b[38;5;28mself\u001b[39m._checkers:\n\u001b[32m--> \u001b[39m\u001b[32m363\u001b[39m         checker_response = \u001b[43mchecker\u001b[49m\u001b[43m(\u001b[49m\n\u001b[32m    364\u001b[39m \u001b[43m            \u001b[49m\u001b[43mattempt_number\u001b[49m\u001b[43m,\u001b[49m\u001b[43m \u001b[49m\u001b[43mresponse\u001b[49m\u001b[43m,\u001b[49m\u001b[43m \u001b[49m\u001b[43mcaught_exception\u001b[49m\n\u001b[32m    365\u001b[39m \u001b[43m        \u001b[49m\u001b[43m)\u001b[49m\n\u001b[32m    366\u001b[39m         \u001b[38;5;28;01mif\u001b[39;00m checker_response:\n\u001b[32m    367\u001b[39m             \u001b[38;5;28;01mreturn\u001b[39;00m checker_response\n",
      "\u001b[36mFile \u001b[39m\u001b[32m~/miniconda3/envs/scvi_project/lib/python3.11/site-packages/botocore/retryhandler.py:247\u001b[39m, in \u001b[36mBaseChecker.__call__\u001b[39m\u001b[34m(self, attempt_number, response, caught_exception)\u001b[39m\n\u001b[32m    245\u001b[39m     \u001b[38;5;28;01mreturn\u001b[39;00m \u001b[38;5;28mself\u001b[39m._check_response(attempt_number, response)\n\u001b[32m    246\u001b[39m \u001b[38;5;28;01melif\u001b[39;00m caught_exception \u001b[38;5;129;01mis\u001b[39;00m \u001b[38;5;129;01mnot\u001b[39;00m \u001b[38;5;28;01mNone\u001b[39;00m:\n\u001b[32m--> \u001b[39m\u001b[32m247\u001b[39m     \u001b[38;5;28;01mreturn\u001b[39;00m \u001b[38;5;28;43mself\u001b[39;49m\u001b[43m.\u001b[49m\u001b[43m_check_caught_exception\u001b[49m\u001b[43m(\u001b[49m\n\u001b[32m    248\u001b[39m \u001b[43m        \u001b[49m\u001b[43mattempt_number\u001b[49m\u001b[43m,\u001b[49m\u001b[43m \u001b[49m\u001b[43mcaught_exception\u001b[49m\n\u001b[32m    249\u001b[39m \u001b[43m    \u001b[49m\u001b[43m)\u001b[49m\n\u001b[32m    250\u001b[39m \u001b[38;5;28;01melse\u001b[39;00m:\n\u001b[32m    251\u001b[39m     \u001b[38;5;28;01mraise\u001b[39;00m \u001b[38;5;167;01mValueError\u001b[39;00m(\u001b[33m\"\u001b[39m\u001b[33mBoth response and caught_exception are None.\u001b[39m\u001b[33m\"\u001b[39m)\n",
      "\u001b[36mFile \u001b[39m\u001b[32m~/miniconda3/envs/scvi_project/lib/python3.11/site-packages/botocore/retryhandler.py:416\u001b[39m, in \u001b[36mExceptionRaiser._check_caught_exception\u001b[39m\u001b[34m(self, attempt_number, caught_exception)\u001b[39m\n\u001b[32m    408\u001b[39m \u001b[38;5;28;01mdef\u001b[39;00m\u001b[38;5;250m \u001b[39m\u001b[34m_check_caught_exception\u001b[39m(\u001b[38;5;28mself\u001b[39m, attempt_number, caught_exception):\n\u001b[32m    409\u001b[39m     \u001b[38;5;66;03m# This is implementation specific, but this class is useful by\u001b[39;00m\n\u001b[32m    410\u001b[39m     \u001b[38;5;66;03m# coordinating with the MaxAttemptsDecorator.\u001b[39;00m\n\u001b[32m   (...)\u001b[39m\u001b[32m    414\u001b[39m     \u001b[38;5;66;03m# the MaxAttemptsDecorator is not interested in retrying the exception\u001b[39;00m\n\u001b[32m    415\u001b[39m     \u001b[38;5;66;03m# then this exception just propagates out past the retry code.\u001b[39;00m\n\u001b[32m--> \u001b[39m\u001b[32m416\u001b[39m     \u001b[38;5;28;01mraise\u001b[39;00m caught_exception\n",
      "\u001b[36mFile \u001b[39m\u001b[32m~/miniconda3/envs/scvi_project/lib/python3.11/site-packages/botocore/endpoint.py:279\u001b[39m, in \u001b[36mEndpoint._do_get_response\u001b[39m\u001b[34m(self, request, operation_model, context)\u001b[39m\n\u001b[32m    277\u001b[39m     http_response = first_non_none_response(responses)\n\u001b[32m    278\u001b[39m     \u001b[38;5;28;01mif\u001b[39;00m http_response \u001b[38;5;129;01mis\u001b[39;00m \u001b[38;5;28;01mNone\u001b[39;00m:\n\u001b[32m--> \u001b[39m\u001b[32m279\u001b[39m         http_response = \u001b[38;5;28;43mself\u001b[39;49m\u001b[43m.\u001b[49m\u001b[43m_send\u001b[49m\u001b[43m(\u001b[49m\u001b[43mrequest\u001b[49m\u001b[43m)\u001b[49m\n\u001b[32m    280\u001b[39m \u001b[38;5;28;01mexcept\u001b[39;00m HTTPClientError \u001b[38;5;28;01mas\u001b[39;00m e:\n\u001b[32m    281\u001b[39m     \u001b[38;5;28;01mreturn\u001b[39;00m (\u001b[38;5;28;01mNone\u001b[39;00m, e)\n",
      "\u001b[36mFile \u001b[39m\u001b[32m~/miniconda3/envs/scvi_project/lib/python3.11/site-packages/botocore/endpoint.py:383\u001b[39m, in \u001b[36mEndpoint._send\u001b[39m\u001b[34m(self, request)\u001b[39m\n\u001b[32m    382\u001b[39m \u001b[38;5;28;01mdef\u001b[39;00m\u001b[38;5;250m \u001b[39m\u001b[34m_send\u001b[39m(\u001b[38;5;28mself\u001b[39m, request):\n\u001b[32m--> \u001b[39m\u001b[32m383\u001b[39m     \u001b[38;5;28;01mreturn\u001b[39;00m \u001b[38;5;28;43mself\u001b[39;49m\u001b[43m.\u001b[49m\u001b[43mhttp_session\u001b[49m\u001b[43m.\u001b[49m\u001b[43msend\u001b[49m\u001b[43m(\u001b[49m\u001b[43mrequest\u001b[49m\u001b[43m)\u001b[49m\n",
      "\u001b[36mFile \u001b[39m\u001b[32m~/miniconda3/envs/scvi_project/lib/python3.11/site-packages/botocore/httpsession.py:493\u001b[39m, in \u001b[36mURLLib3Session.send\u001b[39m\u001b[34m(self, request)\u001b[39m\n\u001b[32m    491\u001b[39m     \u001b[38;5;28;01mraise\u001b[39;00m SSLError(endpoint_url=request.url, error=e)\n\u001b[32m    492\u001b[39m \u001b[38;5;28;01mexcept\u001b[39;00m (NewConnectionError, socket.gaierror) \u001b[38;5;28;01mas\u001b[39;00m e:\n\u001b[32m--> \u001b[39m\u001b[32m493\u001b[39m     \u001b[38;5;28;01mraise\u001b[39;00m EndpointConnectionError(endpoint_url=request.url, error=e)\n\u001b[32m    494\u001b[39m \u001b[38;5;28;01mexcept\u001b[39;00m ProxyError \u001b[38;5;28;01mas\u001b[39;00m e:\n\u001b[32m    495\u001b[39m     \u001b[38;5;28;01mraise\u001b[39;00m ProxyConnectionError(\n\u001b[32m    496\u001b[39m         proxy_url=mask_proxy_url(proxy_url), error=e\n\u001b[32m    497\u001b[39m     )\n",
      "\u001b[31mEndpointConnectionError\u001b[39m: Could not connect to the endpoint URL: \"https://allen-brain-cell-atlas.s3.amazonaws.com/?list-type=2&prefix=metadata%2FWMB-taxonomy%2F20231215%2Fcluster.csv&encoding-type=url\""
     ]
    }
   ],
   "source": [
    "# TODO\n",
    "allen_wmb_metadata = abc_cache.get_directory_metadata('WMB-taxonomy')\n",
    "print(\"WMB metadata files:\\n\\t\", allen_wmb_metadata)"
   ]
  },
  {
   "cell_type": "markdown",
   "metadata": {},
   "source": [
    "# Explor whole brain data through visualisation"
   ]
  },
  {
   "cell_type": "code",
   "execution_count": 13,
   "metadata": {},
   "outputs": [
    {
     "ename": "KeyError",
     "evalue": "'File cell_metadata not found in directory WMB-10Xv3.'",
     "output_type": "error",
     "traceback": [
      "\u001b[31m---------------------------------------------------------------------------\u001b[39m",
      "\u001b[31mKeyError\u001b[39m                                  Traceback (most recent call last)",
      "\u001b[36mCell\u001b[39m\u001b[36m \u001b[39m\u001b[32mIn[13]\u001b[39m\u001b[32m, line 1\u001b[39m\n\u001b[32m----> \u001b[39m\u001b[32m1\u001b[39m cell = \u001b[43mabc_cache\u001b[49m\u001b[43m.\u001b[49m\u001b[43mget_metadata_dataframe\u001b[49m\u001b[43m(\u001b[49m\u001b[43mdirectory\u001b[49m\u001b[43m=\u001b[49m\u001b[33;43m\"\u001b[39;49m\u001b[33;43mWMB-10Xv3\u001b[39;49m\u001b[33;43m\"\u001b[39;49m\u001b[43m,\u001b[49m\u001b[43m \u001b[49m\u001b[43mfile_name\u001b[49m\u001b[43m=\u001b[49m\u001b[33;43m\"\u001b[39;49m\u001b[33;43mcell_metadata\u001b[39;49m\u001b[33;43m\"\u001b[39;49m\u001b[43m)\u001b[49m\n\u001b[32m      2\u001b[39m cell.set_index(\u001b[33m\"\u001b[39m\u001b[33mcell_label\u001b[39m\u001b[33m\"\u001b[39m, inplace=\u001b[38;5;28;01mTrue\u001b[39;00m)\n",
      "\u001b[36mFile \u001b[39m\u001b[32m~/miniconda3/envs/scvi_project/lib/python3.11/site-packages/abc_atlas_access/abc_atlas_cache/abc_project_cache.py:423\u001b[39m, in \u001b[36mAbcProjectCache.get_metadata_dataframe\u001b[39m\u001b[34m(self, directory, file_name, force_download, skip_hash_check, **kwargs)\u001b[39m\n\u001b[32m    392\u001b[39m \u001b[38;5;28;01mdef\u001b[39;00m\u001b[38;5;250m \u001b[39m\u001b[34mget_metadata_dataframe\u001b[39m(\n\u001b[32m    393\u001b[39m         \u001b[38;5;28mself\u001b[39m,\n\u001b[32m    394\u001b[39m         directory: \u001b[38;5;28mstr\u001b[39m,\n\u001b[32m   (...)\u001b[39m\u001b[32m    398\u001b[39m         **kwargs\n\u001b[32m    399\u001b[39m ) -> pd.DataFrame:\n\u001b[32m    400\u001b[39m \u001b[38;5;250m    \u001b[39m\u001b[33;03m\"\"\"\u001b[39;00m\n\u001b[32m    401\u001b[39m \u001b[33;03m    Get the metadata table with the given file name. Download the file if\u001b[39;00m\n\u001b[32m    402\u001b[39m \u001b[33;03m    using a S3Cache and the file is not currently on disk.\u001b[39;00m\n\u001b[32m   (...)\u001b[39m\u001b[32m    421\u001b[39m \u001b[33;03m        Dataframe of the requested metadata file.\u001b[39;00m\n\u001b[32m    422\u001b[39m \u001b[33;03m    \"\"\"\u001b[39;00m\n\u001b[32m--> \u001b[39m\u001b[32m423\u001b[39m     path = \u001b[38;5;28;43mself\u001b[39;49m\u001b[43m.\u001b[49m\u001b[43mget_metadata_path\u001b[49m\u001b[43m(\u001b[49m\n\u001b[32m    424\u001b[39m \u001b[43m        \u001b[49m\u001b[43mdirectory\u001b[49m\u001b[43m=\u001b[49m\u001b[43mdirectory\u001b[49m\u001b[43m,\u001b[49m\n\u001b[32m    425\u001b[39m \u001b[43m        \u001b[49m\u001b[43mfile_name\u001b[49m\u001b[43m=\u001b[49m\u001b[43mfile_name\u001b[49m\u001b[43m,\u001b[49m\n\u001b[32m    426\u001b[39m \u001b[43m        \u001b[49m\u001b[43mforce_download\u001b[49m\u001b[43m=\u001b[49m\u001b[43mforce_download\u001b[49m\u001b[43m,\u001b[49m\n\u001b[32m    427\u001b[39m \u001b[43m        \u001b[49m\u001b[43mskip_hash_check\u001b[49m\u001b[43m=\u001b[49m\u001b[43mskip_hash_check\u001b[49m\n\u001b[32m    428\u001b[39m \u001b[43m    \u001b[49m\u001b[43m)\u001b[49m\n\u001b[32m    429\u001b[39m     \u001b[38;5;28;01mreturn\u001b[39;00m pd.read_csv(path, **kwargs)\n",
      "\u001b[36mFile \u001b[39m\u001b[32m~/miniconda3/envs/scvi_project/lib/python3.11/site-packages/abc_atlas_access/abc_atlas_cache/abc_project_cache.py:466\u001b[39m, in \u001b[36mAbcProjectCache.get_metadata_path\u001b[39m\u001b[34m(self, directory, file_name, force_download, skip_hash_check)\u001b[39m\n\u001b[32m    460\u001b[39m     path = \u001b[38;5;28mself\u001b[39m._get_local_path(\n\u001b[32m    461\u001b[39m         directory=directory,\n\u001b[32m    462\u001b[39m         file_name=file_name,\n\u001b[32m    463\u001b[39m         is_metadata=\u001b[38;5;28;01mTrue\u001b[39;00m\n\u001b[32m    464\u001b[39m     )\n\u001b[32m    465\u001b[39m \u001b[38;5;28;01melse\u001b[39;00m:\n\u001b[32m--> \u001b[39m\u001b[32m466\u001b[39m     path = \u001b[38;5;28;43mself\u001b[39;49m\u001b[43m.\u001b[49m\u001b[43mcache\u001b[49m\u001b[43m.\u001b[49m\u001b[43mdownload_metadata\u001b[49m\u001b[43m(\u001b[49m\n\u001b[32m    467\u001b[39m \u001b[43m        \u001b[49m\u001b[43mdirectory\u001b[49m\u001b[43m=\u001b[49m\u001b[43mdirectory\u001b[49m\u001b[43m,\u001b[49m\n\u001b[32m    468\u001b[39m \u001b[43m        \u001b[49m\u001b[43mfile_name\u001b[49m\u001b[43m=\u001b[49m\u001b[43mfile_name\u001b[49m\u001b[43m,\u001b[49m\n\u001b[32m    469\u001b[39m \u001b[43m        \u001b[49m\u001b[43mforce_download\u001b[49m\u001b[43m=\u001b[49m\u001b[43mforce_download\u001b[49m\u001b[43m,\u001b[49m\n\u001b[32m    470\u001b[39m \u001b[43m        \u001b[49m\u001b[43mskip_hash_check\u001b[49m\u001b[43m=\u001b[49m\u001b[43mskip_hash_check\u001b[49m\n\u001b[32m    471\u001b[39m \u001b[43m    \u001b[49m\u001b[43m)\u001b[49m\n\u001b[32m    472\u001b[39m \u001b[38;5;28;01mreturn\u001b[39;00m path\n",
      "\u001b[36mFile \u001b[39m\u001b[32m~/miniconda3/envs/scvi_project/lib/python3.11/site-packages/abc_atlas_access/abc_atlas_cache/cloud_cache.py:883\u001b[39m, in \u001b[36mCloudCacheBase.download_metadata\u001b[39m\u001b[34m(self, directory, file_name, force_download, skip_hash_check)\u001b[39m\n\u001b[32m    851\u001b[39m \u001b[38;5;28;01mdef\u001b[39;00m\u001b[38;5;250m \u001b[39m\u001b[34mdownload_metadata\u001b[39m(\u001b[38;5;28mself\u001b[39m,\n\u001b[32m    852\u001b[39m                       directory: \u001b[38;5;28mstr\u001b[39m,\n\u001b[32m    853\u001b[39m                       file_name: \u001b[38;5;28mstr\u001b[39m,\n\u001b[32m    854\u001b[39m                       force_download: \u001b[38;5;28mbool\u001b[39m = \u001b[38;5;28;01mFalse\u001b[39;00m,\n\u001b[32m    855\u001b[39m                       skip_hash_check: \u001b[38;5;28mbool\u001b[39m = \u001b[38;5;28;01mFalse\u001b[39;00m) -> Path:\n\u001b[32m    856\u001b[39m \u001b[38;5;250m    \u001b[39m\u001b[33;03m\"\"\"\u001b[39;00m\n\u001b[32m    857\u001b[39m \u001b[33;03m    Return the local path to a metadata file, downloading the\u001b[39;00m\n\u001b[32m    858\u001b[39m \u001b[33;03m    file if necessary\u001b[39;00m\n\u001b[32m   (...)\u001b[39m\u001b[32m    881\u001b[39m \u001b[33;03m        If the file cannot be downloaded\u001b[39;00m\n\u001b[32m    882\u001b[39m \u001b[33;03m    \"\"\"\u001b[39;00m\n\u001b[32m--> \u001b[39m\u001b[32m883\u001b[39m     super_attributes = \u001b[38;5;28;43mself\u001b[39;49m\u001b[43m.\u001b[49m\u001b[43mmetadata_path\u001b[49m\u001b[43m(\u001b[49m\n\u001b[32m    884\u001b[39m \u001b[43m        \u001b[49m\u001b[43mdirectory\u001b[49m\u001b[43m=\u001b[49m\u001b[43mdirectory\u001b[49m\u001b[43m,\u001b[49m\u001b[43m \u001b[49m\u001b[43mfile_name\u001b[49m\u001b[43m=\u001b[49m\u001b[43mfile_name\u001b[49m\u001b[43m)\u001b[49m\n\u001b[32m    885\u001b[39m     \u001b[38;5;66;03m# If the file exists, check that it was downloaded successfully.\u001b[39;00m\n\u001b[32m    886\u001b[39m     \u001b[38;5;28;01mif\u001b[39;00m super_attributes[\u001b[33m'\u001b[39m\u001b[33mexists\u001b[39m\u001b[33m'\u001b[39m] \\\n\u001b[32m    887\u001b[39m             \u001b[38;5;129;01mand\u001b[39;00m \u001b[38;5;129;01mnot\u001b[39;00m \u001b[38;5;28mself\u001b[39m._check_successful_download(\n\u001b[32m    888\u001b[39m                 file_attributes=super_attributes[\u001b[33m'\u001b[39m\u001b[33mfile_attributes\u001b[39m\u001b[33m'\u001b[39m]):\n",
      "\u001b[36mFile \u001b[39m\u001b[32m~/miniconda3/envs/scvi_project/lib/python3.11/site-packages/abc_atlas_access/abc_atlas_cache/cloud_cache.py:370\u001b[39m, in \u001b[36mBasicLocalCache.metadata_path\u001b[39m\u001b[34m(self, directory, file_name)\u001b[39m\n\u001b[32m    341\u001b[39m \u001b[38;5;28;01mdef\u001b[39;00m\u001b[38;5;250m \u001b[39m\u001b[34mmetadata_path\u001b[39m(\u001b[38;5;28mself\u001b[39m, directory: \u001b[38;5;28mstr\u001b[39m, file_name: \u001b[38;5;28mstr\u001b[39m) -> \u001b[38;5;28mdict\u001b[39m:\n\u001b[32m    342\u001b[39m \u001b[38;5;250m    \u001b[39m\u001b[33;03m\"\"\"\u001b[39;00m\n\u001b[32m    343\u001b[39m \u001b[33;03m    Return the local path to a metadata file, and test for the\u001b[39;00m\n\u001b[32m    344\u001b[39m \u001b[33;03m    file's existence\u001b[39;00m\n\u001b[32m   (...)\u001b[39m\u001b[32m    368\u001b[39m \u001b[33;03m        If the file cannot be downloaded\u001b[39;00m\n\u001b[32m    369\u001b[39m \u001b[33;03m    \"\"\"\u001b[39;00m\n\u001b[32m--> \u001b[39m\u001b[32m370\u001b[39m     output = \u001b[38;5;28;43mself\u001b[39;49m\u001b[43m.\u001b[49m\u001b[43m_get_file_path\u001b[49m\u001b[43m(\u001b[49m\u001b[43mdirectory\u001b[49m\u001b[43m=\u001b[49m\u001b[43mdirectory\u001b[49m\u001b[43m,\u001b[49m\u001b[43m \u001b[49m\u001b[43mfile_name\u001b[49m\u001b[43m=\u001b[49m\u001b[43mfile_name\u001b[49m\u001b[43m)\u001b[49m\n\u001b[32m    372\u001b[39m     \u001b[38;5;28;01mreturn\u001b[39;00m output\n",
      "\u001b[36mFile \u001b[39m\u001b[32m~/miniconda3/envs/scvi_project/lib/python3.11/site-packages/abc_atlas_access/abc_atlas_cache/cloud_cache.py:329\u001b[39m, in \u001b[36mBasicLocalCache._get_file_path\u001b[39m\u001b[34m(self, directory, file_name)\u001b[39m\n\u001b[32m    300\u001b[39m \u001b[38;5;28;01mdef\u001b[39;00m\u001b[38;5;250m \u001b[39m\u001b[34m_get_file_path\u001b[39m(\u001b[38;5;28mself\u001b[39m, directory: \u001b[38;5;28mstr\u001b[39m, file_name: \u001b[38;5;28mstr\u001b[39m) -> \u001b[38;5;28mdict\u001b[39m:\n\u001b[32m    301\u001b[39m \u001b[38;5;250m    \u001b[39m\u001b[33;03m\"\"\"\u001b[39;00m\n\u001b[32m    302\u001b[39m \u001b[33;03m    Return the local path to a data file, and test for the\u001b[39;00m\n\u001b[32m    303\u001b[39m \u001b[33;03m    file's existence.\u001b[39;00m\n\u001b[32m   (...)\u001b[39m\u001b[32m    327\u001b[39m \u001b[33;03m        If the file cannot be downloaded\u001b[39;00m\n\u001b[32m    328\u001b[39m \u001b[33;03m    \"\"\"\u001b[39;00m\n\u001b[32m--> \u001b[39m\u001b[32m329\u001b[39m     file_attributes = \u001b[38;5;28;43mself\u001b[39;49m\u001b[43m.\u001b[49m\u001b[43m_manifest\u001b[49m\u001b[43m.\u001b[49m\u001b[43mget_file_attributes\u001b[49m\u001b[43m(\u001b[49m\n\u001b[32m    330\u001b[39m \u001b[43m        \u001b[49m\u001b[43mdirectory\u001b[49m\u001b[43m=\u001b[49m\u001b[43mdirectory\u001b[49m\u001b[43m,\u001b[49m\n\u001b[32m    331\u001b[39m \u001b[43m        \u001b[49m\u001b[43mfile_name\u001b[49m\u001b[43m=\u001b[49m\u001b[43mfile_name\u001b[49m\n\u001b[32m    332\u001b[39m \u001b[43m    \u001b[49m\u001b[43m)\u001b[49m\n\u001b[32m    333\u001b[39m     exists = \u001b[38;5;28mself\u001b[39m._file_exists(file_attributes)\n\u001b[32m    334\u001b[39m     local_path = file_attributes.local_path\n",
      "\u001b[36mFile \u001b[39m\u001b[32m~/miniconda3/envs/scvi_project/lib/python3.11/site-packages/abc_atlas_access/abc_atlas_cache/manifest.py:245\u001b[39m, in \u001b[36mManifest.get_file_attributes\u001b[39m\u001b[34m(self, directory, file_name)\u001b[39m\n\u001b[32m    238\u001b[39m             \u001b[38;5;28;01mraise\u001b[39;00m \u001b[38;5;167;01mKeyError\u001b[39;00m(\n\u001b[32m    239\u001b[39m                 \u001b[33mf\u001b[39m\u001b[33m\"\u001b[39m\u001b[33mFile \u001b[39m\u001b[38;5;132;01m{\u001b[39;00mfile_name\u001b[38;5;132;01m}\u001b[39;00m\u001b[33m found in directory but multiple \u001b[39m\u001b[33m\"\u001b[39m\n\u001b[32m    240\u001b[39m                 \u001b[33mf\u001b[39m\u001b[33m\"\u001b[39m\u001b[33mfiles found: \u001b[39m\u001b[38;5;132;01m{\u001b[39;00m\u001b[38;5;28mlist\u001b[39m(files_data.keys())\u001b[38;5;132;01m}\u001b[39;00m\u001b[33m. Please \u001b[39m\u001b[33m\"\u001b[39m\n\u001b[32m    241\u001b[39m                 \u001b[33m\"\u001b[39m\u001b[33mspecify the file name as one of \u001b[39m\u001b[33m\"\u001b[39m\n\u001b[32m    242\u001b[39m                 \u001b[33mf\u001b[39m\u001b[33m\"\u001b[39m\u001b[38;5;132;01m{\u001b[39;00m[\u001b[33m'\u001b[39m\u001b[38;5;132;01m%s\u001b[39;00m\u001b[33m/\u001b[39m\u001b[38;5;132;01m%s\u001b[39;00m\u001b[33m'\u001b[39m\u001b[38;5;250m \u001b[39m%\u001b[38;5;250m \u001b[39m(file_name,\u001b[38;5;250m \u001b[39mkey)\u001b[38;5;250m \u001b[39m\u001b[38;5;28;01mfor\u001b[39;00m\u001b[38;5;250m \u001b[39mkey\u001b[38;5;250m \u001b[39m\u001b[38;5;129;01min\u001b[39;00m\u001b[38;5;250m \u001b[39mfiles_data.keys()]\u001b[38;5;132;01m}\u001b[39;00m\u001b[33m\"\u001b[39m  \u001b[38;5;66;03m# noqa: E501\u001b[39;00m\n\u001b[32m    243\u001b[39m             )\n\u001b[32m    244\u001b[39m \u001b[38;5;28;01mif\u001b[39;00m file_attributes \u001b[38;5;129;01mis\u001b[39;00m \u001b[38;5;28;01mNone\u001b[39;00m:\n\u001b[32m--> \u001b[39m\u001b[32m245\u001b[39m     \u001b[38;5;28;01mraise\u001b[39;00m \u001b[38;5;167;01mKeyError\u001b[39;00m(\n\u001b[32m    246\u001b[39m         \u001b[33mf\u001b[39m\u001b[33m\"\u001b[39m\u001b[33mFile \u001b[39m\u001b[38;5;132;01m{\u001b[39;00mfile_name\u001b[38;5;132;01m}\u001b[39;00m\u001b[33m not found in directory \u001b[39m\u001b[38;5;132;01m{\u001b[39;00mdirectory\u001b[38;5;132;01m}\u001b[39;00m\u001b[33m.\u001b[39m\u001b[33m\"\u001b[39m\n\u001b[32m    247\u001b[39m     )\n\u001b[32m    249\u001b[39m \u001b[38;5;28;01mreturn\u001b[39;00m file_attributes\n",
      "\u001b[31mKeyError\u001b[39m: 'File cell_metadata not found in directory WMB-10Xv3.'"
     ]
    }
   ],
   "source": [
    "cell = abc_cache.get_metadata_dataframe(directory=\"WMB-10Xv3\", file_name=\"cell_metadata\")\n",
    "cell.set_index(\"cell_label\", inplace=True)"
   ]
  },
  {
   "cell_type": "code",
   "execution_count": null,
   "metadata": {},
   "outputs": [],
   "source": []
  },
  {
   "cell_type": "code",
   "execution_count": null,
   "metadata": {},
   "outputs": [],
   "source": []
  },
  {
   "cell_type": "code",
   "execution_count": null,
   "metadata": {},
   "outputs": [],
   "source": []
  },
  {
   "cell_type": "code",
   "execution_count": null,
   "metadata": {},
   "outputs": [],
   "source": []
  },
  {
   "cell_type": "code",
   "execution_count": null,
   "metadata": {},
   "outputs": [],
   "source": []
  },
  {
   "cell_type": "code",
   "execution_count": null,
   "metadata": {},
   "outputs": [],
   "source": []
  },
  {
   "cell_type": "markdown",
   "metadata": {},
   "source": [
    "# Prepare Data"
   ]
  },
  {
   "cell_type": "code",
   "execution_count": 12,
   "metadata": {},
   "outputs": [],
   "source": [
    "# # Set random seed for reproducibility\n",
    "# np.random.seed(42)\n",
    "\n",
    "# # Download and load your dataset (example with Allen Brain data)\n",
    "# # Replace this URL with the specific dataset you want to use\n",
    "# url = \"https://storage.googleapis.com/allen-brain-cell-atlas/ata_2022/raw/mouse_v1_alm.h5ad\"\n",
    "# adata = sc.read(url)\n",
    "\n",
    "# # Alternatively, load local data\n",
    "# # adata = sc.read_h5ad(\"path/to/your/data.h5ad\")\n"
   ]
  },
  {
   "cell_type": "code",
   "execution_count": null,
   "metadata": {},
   "outputs": [],
   "source": [
    "# Basic preprocessing\n",
    "sc.pp.filter_cells(adata, min_genes=200)\n",
    "sc.pp.filter_genes(adata, min_cells=3)\n",
    "\n",
    "# Calculate quality metrics\n",
    "adata.var[\"mt\"] = adata.var_names.str.startswith(\"mt-\")\n",
    "sc.pp.calculate_qc_metrics(adata, qc_vars=[\"mt\"], inplace=True)\n",
    "\n",
    "# Filter cells based on QC metrics\n",
    "adata = adata[adata.obs.n_genes_by_counts < 5000, :]\n",
    "adata = adata[adata.obs.pct_counts_mt < 20, :]\n",
    "\n",
    "# Normalize and find highly variable genes\n",
    "sc.pp.normalize_total(adata, target_sum=1e4)\n",
    "sc.pp.log1p(adata)\n",
    "sc.pp.highly_variable_genes(adata, n_top_genes=2000)\n",
    "\n",
    "# Keep only highly variable genes for the model\n",
    "adata = adata[:, adata.var.highly_variable]\n",
    "\n",
    "# Save the preprocessed data\n",
    "adata.write(\"preprocessed_data.h5ad\")"
   ]
  }
 ],
 "metadata": {
  "kernelspec": {
   "display_name": "scvi_project",
   "language": "python",
   "name": "python3"
  },
  "language_info": {
   "codemirror_mode": {
    "name": "ipython",
    "version": 3
   },
   "file_extension": ".py",
   "mimetype": "text/x-python",
   "name": "python",
   "nbconvert_exporter": "python",
   "pygments_lexer": "ipython3",
   "version": "3.11.11"
  }
 },
 "nbformat": 4,
 "nbformat_minor": 2
}

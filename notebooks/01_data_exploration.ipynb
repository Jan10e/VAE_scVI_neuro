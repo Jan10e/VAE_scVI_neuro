{
 "cells": [
  {
   "cell_type": "markdown",
   "metadata": {},
   "source": [
    "# Data Exploration\n",
    "Data Source: [Allen Brain Atlas](https://portal.brain-map.org/)\n",
    "\n",
    "Instructions for downloading the data can be found here: https://alleninstitute.github.io/abc_atlas_access/notebooks/getting_started.html"
   ]
  },
  {
   "cell_type": "code",
   "execution_count": 3,
   "metadata": {},
   "outputs": [
    {
     "name": "stderr",
     "output_type": "stream",
     "text": [
      "/home/jantine/miniconda3/envs/scvi_project/lib/python3.11/site-packages/tqdm/auto.py:21: TqdmWarning: IProgress not found. Please update jupyter and ipywidgets. See https://ipywidgets.readthedocs.io/en/stable/user_install.html\n",
      "  from .autonotebook import tqdm as notebook_tqdm\n",
      "/home/jantine/miniconda3/envs/scvi_project/lib/python3.11/site-packages/docrep/decorators.py:43: SyntaxWarning: 'param_categorical_covariate_keys' is not a valid key!\n",
      "  doc = func(self, args[0].__doc__, *args[1:], **kwargs)\n",
      "/home/jantine/miniconda3/envs/scvi_project/lib/python3.11/site-packages/docrep/decorators.py:43: SyntaxWarning: 'param_continuous_covariate_keys' is not a valid key!\n",
      "  doc = func(self, args[0].__doc__, *args[1:], **kwargs)\n"
     ]
    }
   ],
   "source": [
    "import scanpy as sc\n",
    "import scvi\n",
    "import matplotlib.pyplot as plt\n",
    "import seaborn as sns\n",
    "import numpy as np\n",
    "import pandas as pd\n",
    "\n",
    "from pathlib import Path\n",
    "from abc_atlas_access.abc_atlas_cache.abc_project_cache import AbcProjectCache"
   ]
  },
  {
   "cell_type": "code",
   "execution_count": 4,
   "metadata": {},
   "outputs": [
    {
     "data": {
      "text/plain": [
       "'releases/20250331/manifest.json'"
      ]
     },
     "execution_count": 4,
     "metadata": {},
     "output_type": "execute_result"
    }
   ],
   "source": [
    "download_base = Path(\"/home/jantine/Data/AllenBrain/abc_atlas\")\n",
    "abc_cache = AbcProjectCache.from_cache_dir(download_base)\n",
    "\n",
    "abc_cache.current_manifest"
   ]
  },
  {
   "cell_type": "code",
   "execution_count": 5,
   "metadata": {},
   "outputs": [
    {
     "data": {
      "text/plain": [
       "['releases/20230630/manifest.json',\n",
       " 'releases/20230830/manifest.json',\n",
       " 'releases/20231215/manifest.json',\n",
       " 'releases/20240330/manifest.json',\n",
       " 'releases/20240831/manifest.json',\n",
       " 'releases/20241115/manifest.json',\n",
       " 'releases/20241130/manifest.json',\n",
       " 'releases/20250131/manifest.json',\n",
       " 'releases/20250331/manifest.json']"
      ]
     },
     "execution_count": 5,
     "metadata": {},
     "output_type": "execute_result"
    }
   ],
   "source": [
    "abc_cache.list_manifest_file_names"
   ]
  },
  {
   "cell_type": "code",
   "execution_count": 6,
   "metadata": {},
   "outputs": [
    {
     "name": "stdout",
     "output_type": "stream",
     "text": [
      "after latest manifest loaded: releases/20250331/manifest.json\n"
     ]
    }
   ],
   "source": [
    "# Return to the latest manifest\n",
    "abc_cache.load_latest_manifest()\n",
    "print(\"after latest manifest loaded:\", abc_cache.current_manifest)"
   ]
  },
  {
   "cell_type": "code",
   "execution_count": 7,
   "metadata": {},
   "outputs": [
    {
     "data": {
      "text/plain": [
       "['ASAP-PMDBS-10X',\n",
       " 'ASAP-PMDBS-taxonomy',\n",
       " 'Allen-CCF-2020',\n",
       " 'MERFISH-C57BL6J-638850',\n",
       " 'MERFISH-C57BL6J-638850-CCF',\n",
       " 'MERFISH-C57BL6J-638850-imputed',\n",
       " 'MERFISH-C57BL6J-638850-sections',\n",
       " 'SEAAD',\n",
       " 'SEAAD-taxonomy',\n",
       " 'WHB-10Xv3',\n",
       " 'WHB-taxonomy',\n",
       " 'WMB-10X',\n",
       " 'WMB-10XMulti',\n",
       " 'WMB-10Xv2',\n",
       " 'WMB-10Xv3',\n",
       " 'WMB-neighborhoods',\n",
       " 'WMB-taxonomy',\n",
       " 'Zeng-Aging-Mouse-10Xv3',\n",
       " 'Zeng-Aging-Mouse-WMB-taxonomy',\n",
       " 'Zhuang-ABCA-1',\n",
       " 'Zhuang-ABCA-1-CCF',\n",
       " 'Zhuang-ABCA-2',\n",
       " 'Zhuang-ABCA-2-CCF',\n",
       " 'Zhuang-ABCA-3',\n",
       " 'Zhuang-ABCA-3-CCF',\n",
       " 'Zhuang-ABCA-4',\n",
       " 'Zhuang-ABCA-4-CCF']"
      ]
     },
     "execution_count": 7,
     "metadata": {},
     "output_type": "execute_result"
    }
   ],
   "source": [
    "abc_cache.list_directories  # I need WMB-10Xv3"
   ]
  },
  {
   "cell_type": "code",
   "execution_count": 8,
   "metadata": {},
   "outputs": [
    {
     "data": {
      "text/plain": [
       "['WMB-10Xv3-CB/log2',\n",
       " 'WMB-10Xv3-CB/raw',\n",
       " 'WMB-10Xv3-CTXsp/log2',\n",
       " 'WMB-10Xv3-CTXsp/raw',\n",
       " 'WMB-10Xv3-HPF/log2',\n",
       " 'WMB-10Xv3-HPF/raw',\n",
       " 'WMB-10Xv3-HY/log2',\n",
       " 'WMB-10Xv3-HY/raw',\n",
       " 'WMB-10Xv3-Isocortex-1/log2',\n",
       " 'WMB-10Xv3-Isocortex-1/raw',\n",
       " 'WMB-10Xv3-Isocortex-2/log2',\n",
       " 'WMB-10Xv3-Isocortex-2/raw',\n",
       " 'WMB-10Xv3-MB/log2',\n",
       " 'WMB-10Xv3-MB/raw',\n",
       " 'WMB-10Xv3-MY/log2',\n",
       " 'WMB-10Xv3-MY/raw',\n",
       " 'WMB-10Xv3-OLF/log2',\n",
       " 'WMB-10Xv3-OLF/raw',\n",
       " 'WMB-10Xv3-P/log2',\n",
       " 'WMB-10Xv3-P/raw',\n",
       " 'WMB-10Xv3-PAL/log2',\n",
       " 'WMB-10Xv3-PAL/raw',\n",
       " 'WMB-10Xv3-STR/log2',\n",
       " 'WMB-10Xv3-STR/raw',\n",
       " 'WMB-10Xv3-TH/log2',\n",
       " 'WMB-10Xv3-TH/raw']"
      ]
     },
     "execution_count": 8,
     "metadata": {},
     "output_type": "execute_result"
    }
   ],
   "source": [
    "abc_cache.list_data_files('WMB-10Xv3')"
   ]
  },
  {
   "cell_type": "code",
   "execution_count": 9,
   "metadata": {},
   "outputs": [
    {
     "data": {
      "text/plain": [
       "'176.41 GB'"
      ]
     },
     "execution_count": 9,
     "metadata": {},
     "output_type": "execute_result"
    }
   ],
   "source": [
    "# Check amount of total data \n",
    "abc_cache.get_directory_data_size('WMB-10Xv3')"
   ]
  },
  {
   "cell_type": "code",
   "execution_count": 10,
   "metadata": {},
   "outputs": [
    {
     "data": {
      "text/plain": [
       "['cluster',\n",
       " 'cluster_annotation_term',\n",
       " 'cluster_annotation_term_set',\n",
       " 'cluster_annotation_term_with_counts',\n",
       " 'cluster_to_cluster_annotation_membership',\n",
       " 'cluster_to_cluster_annotation_membership_color',\n",
       " 'cluster_to_cluster_annotation_membership_pivoted']"
      ]
     },
     "execution_count": 10,
     "metadata": {},
     "output_type": "execute_result"
    }
   ],
   "source": [
    "# List metadata files\n",
    "abc_cache.list_metadata_files(\"WMB-taxonomy\")"
   ]
  },
  {
   "cell_type": "code",
   "execution_count": 11,
   "metadata": {},
   "outputs": [
    {
     "data": {
      "text/plain": [
       "'4.65 MB'"
      ]
     },
     "execution_count": 11,
     "metadata": {},
     "output_type": "execute_result"
    }
   ],
   "source": [
    "# Size of metadata\n",
    "abc_cache.get_directory_metadata_size(\"WMB-taxonomy\")"
   ]
  },
  {
   "cell_type": "markdown",
   "metadata": {},
   "source": [
    "## Download the files"
   ]
  },
  {
   "cell_type": "code",
   "execution_count": 12,
   "metadata": {},
   "outputs": [
    {
     "name": "stdout",
     "output_type": "stream",
     "text": [
      "WMB-10Xv3 data files:\n",
      "\t [PosixPath('/home/jantine/Data/AllenBrain/abc_atlas/expression_matrices/WMB-10Xv3/20230630/WMB-10Xv3-CB-log2.h5ad'), PosixPath('/home/jantine/Data/AllenBrain/abc_atlas/expression_matrices/WMB-10Xv3/20230630/WMB-10Xv3-CB-raw.h5ad'), PosixPath('/home/jantine/Data/AllenBrain/abc_atlas/expression_matrices/WMB-10Xv3/20230630/WMB-10Xv3-CTXsp-log2.h5ad'), PosixPath('/home/jantine/Data/AllenBrain/abc_atlas/expression_matrices/WMB-10Xv3/20230630/WMB-10Xv3-CTXsp-raw.h5ad'), PosixPath('/home/jantine/Data/AllenBrain/abc_atlas/expression_matrices/WMB-10Xv3/20230630/WMB-10Xv3-HPF-log2.h5ad'), PosixPath('/home/jantine/Data/AllenBrain/abc_atlas/expression_matrices/WMB-10Xv3/20230630/WMB-10Xv3-HPF-raw.h5ad'), PosixPath('/home/jantine/Data/AllenBrain/abc_atlas/expression_matrices/WMB-10Xv3/20230630/WMB-10Xv3-HY-log2.h5ad'), PosixPath('/home/jantine/Data/AllenBrain/abc_atlas/expression_matrices/WMB-10Xv3/20230630/WMB-10Xv3-HY-raw.h5ad'), PosixPath('/home/jantine/Data/AllenBrain/abc_atlas/expression_matrices/WMB-10Xv3/20230630/WMB-10Xv3-Isocortex-1-log2.h5ad'), PosixPath('/home/jantine/Data/AllenBrain/abc_atlas/expression_matrices/WMB-10Xv3/20230630/WMB-10Xv3-Isocortex-1-raw.h5ad'), PosixPath('/home/jantine/Data/AllenBrain/abc_atlas/expression_matrices/WMB-10Xv3/20230630/WMB-10Xv3-Isocortex-2-log2.h5ad'), PosixPath('/home/jantine/Data/AllenBrain/abc_atlas/expression_matrices/WMB-10Xv3/20230630/WMB-10Xv3-Isocortex-2-raw.h5ad'), PosixPath('/home/jantine/Data/AllenBrain/abc_atlas/expression_matrices/WMB-10Xv3/20230630/WMB-10Xv3-MB-log2.h5ad'), PosixPath('/home/jantine/Data/AllenBrain/abc_atlas/expression_matrices/WMB-10Xv3/20230630/WMB-10Xv3-MB-raw.h5ad'), PosixPath('/home/jantine/Data/AllenBrain/abc_atlas/expression_matrices/WMB-10Xv3/20230630/WMB-10Xv3-MY-log2.h5ad'), PosixPath('/home/jantine/Data/AllenBrain/abc_atlas/expression_matrices/WMB-10Xv3/20230630/WMB-10Xv3-MY-raw.h5ad'), PosixPath('/home/jantine/Data/AllenBrain/abc_atlas/expression_matrices/WMB-10Xv3/20230630/WMB-10Xv3-OLF-log2.h5ad'), PosixPath('/home/jantine/Data/AllenBrain/abc_atlas/expression_matrices/WMB-10Xv3/20230630/WMB-10Xv3-OLF-raw.h5ad'), PosixPath('/home/jantine/Data/AllenBrain/abc_atlas/expression_matrices/WMB-10Xv3/20230630/WMB-10Xv3-P-log2.h5ad'), PosixPath('/home/jantine/Data/AllenBrain/abc_atlas/expression_matrices/WMB-10Xv3/20230630/WMB-10Xv3-P-raw.h5ad'), PosixPath('/home/jantine/Data/AllenBrain/abc_atlas/expression_matrices/WMB-10Xv3/20230630/WMB-10Xv3-PAL-log2.h5ad'), PosixPath('/home/jantine/Data/AllenBrain/abc_atlas/expression_matrices/WMB-10Xv3/20230630/WMB-10Xv3-PAL-raw.h5ad'), PosixPath('/home/jantine/Data/AllenBrain/abc_atlas/expression_matrices/WMB-10Xv3/20230630/WMB-10Xv3-STR-log2.h5ad'), PosixPath('/home/jantine/Data/AllenBrain/abc_atlas/expression_matrices/WMB-10Xv3/20230630/WMB-10Xv3-STR-raw.h5ad'), PosixPath('/home/jantine/Data/AllenBrain/abc_atlas/expression_matrices/WMB-10Xv3/20230630/WMB-10Xv3-TH-log2.h5ad'), PosixPath('/home/jantine/Data/AllenBrain/abc_atlas/expression_matrices/WMB-10Xv3/20230630/WMB-10Xv3-TH-raw.h5ad')]\n"
     ]
    },
    {
     "name": "stderr",
     "output_type": "stream",
     "text": [
      "/home/jantine/miniconda3/envs/scvi_project/lib/python3.11/site-packages/abc_atlas_access/abc_atlas_cache/abc_project_cache.py:385: LargeDataSizeWarning: WMB-10Xv3 contains a significant amount of data.Continue this download only if you are sure you have enough space on your system.\n",
      "\n",
      "\tTotal directory size = 176.41 GB\n",
      "\n",
      "\n",
      "  warnings.warn(\n"
     ]
    }
   ],
   "source": [
    "allen_wmb_data = abc_cache.get_directory_data('WMB-10Xv3')\n",
    "print(\"WMB-10Xv3 data files:\\n\\t\", allen_wmb_data)"
   ]
  },
  {
   "cell_type": "code",
   "execution_count": null,
   "metadata": {},
   "outputs": [
    {
     "name": "stderr",
     "output_type": "stream",
     "text": [
      "cluster.csv: 100%|██████████| 131k/131k [00:00<00:00, 211kMB/s]  \n",
      "cluster_annotation_term.csv: 100%|██████████| 861k/861k [00:00<00:00, 1.44MMB/s] \n",
      "cluster_annotation_term_set.csv: 100%|██████████| 1.11k/1.11k [00:00<00:00, 5.69kMB/s]\n",
      "cluster_annotation_term_with_counts.csv: 100%|██████████| 902k/902k [00:00<00:00, 2.98MMB/s] \n",
      "cluster_to_cluster_annotation_membership.csv: 100%|██████████| 2.21M/2.21M [00:00<00:00, 4.49MMB/s]\n",
      "cluster_to_cluster_annotation_membership_color.csv: 100%|██████████| 239k/239k [00:00<00:00, 934kMB/s]  \n",
      "cluster_to_cluster_annotation_membership_pivoted.csv: 100%|██████████| 531k/531k [00:00<00:00, 1.97MMB/s] "
     ]
    },
    {
     "name": "stdout",
     "output_type": "stream",
     "text": [
      "WMB metadata files:\n",
      "\t [PosixPath('/home/jantine/Data/AllenBrain/abc_atlas/metadata/WMB-taxonomy/20231215/cluster.csv'), PosixPath('/home/jantine/Data/AllenBrain/abc_atlas/metadata/WMB-taxonomy/20231215/cluster_annotation_term.csv'), PosixPath('/home/jantine/Data/AllenBrain/abc_atlas/metadata/WMB-taxonomy/20231215/cluster_annotation_term_set.csv'), PosixPath('/home/jantine/Data/AllenBrain/abc_atlas/metadata/WMB-taxonomy/20231215/views/cluster_annotation_term_with_counts.csv'), PosixPath('/home/jantine/Data/AllenBrain/abc_atlas/metadata/WMB-taxonomy/20231215/cluster_to_cluster_annotation_membership.csv'), PosixPath('/home/jantine/Data/AllenBrain/abc_atlas/metadata/WMB-taxonomy/20231215/views/cluster_to_cluster_annotation_membership_color.csv'), PosixPath('/home/jantine/Data/AllenBrain/abc_atlas/metadata/WMB-taxonomy/20231215/views/cluster_to_cluster_annotation_membership_pivoted.csv')]\n"
     ]
    },
    {
     "name": "stderr",
     "output_type": "stream",
     "text": [
      "\n"
     ]
    }
   ],
   "source": [
    "allen_wmb_metadata = abc_cache.get_directory_metadata('WMB-taxonomy')\n",
    "print(\"WMB metadata files:\\n\\t\", allen_wmb_metadata)"
   ]
  },
  {
   "cell_type": "markdown",
   "metadata": {},
   "source": [
    "# RNA-seq clustering analysis and annotation\n",
    "source: https://alleninstitute.github.io/abc_atlas_access/notebooks/cluster_annotation_tutorial.html"
   ]
  },
  {
   "cell_type": "code",
   "execution_count": 15,
   "metadata": {},
   "outputs": [
    {
     "name": "stdout",
     "output_type": "stream",
     "text": [
      "5322\n"
     ]
    },
    {
     "data": {
      "text/html": [
       "<div>\n",
       "<style scoped>\n",
       "    .dataframe tbody tr th:only-of-type {\n",
       "        vertical-align: middle;\n",
       "    }\n",
       "\n",
       "    .dataframe tbody tr th {\n",
       "        vertical-align: top;\n",
       "    }\n",
       "\n",
       "    .dataframe thead th {\n",
       "        text-align: right;\n",
       "    }\n",
       "</style>\n",
       "<table border=\"1\" class=\"dataframe\">\n",
       "  <thead>\n",
       "    <tr style=\"text-align: right;\">\n",
       "      <th></th>\n",
       "      <th>cluster_alias</th>\n",
       "      <th>number_of_cells</th>\n",
       "      <th>label</th>\n",
       "    </tr>\n",
       "  </thead>\n",
       "  <tbody>\n",
       "    <tr>\n",
       "      <th>0</th>\n",
       "      <td>1</td>\n",
       "      <td>727</td>\n",
       "      <td>CS20230722_0001</td>\n",
       "    </tr>\n",
       "    <tr>\n",
       "      <th>1</th>\n",
       "      <td>10</td>\n",
       "      <td>740</td>\n",
       "      <td>CS20230722_0010</td>\n",
       "    </tr>\n",
       "    <tr>\n",
       "      <th>2</th>\n",
       "      <td>100</td>\n",
       "      <td>1053</td>\n",
       "      <td>CS20230722_0100</td>\n",
       "    </tr>\n",
       "    <tr>\n",
       "      <th>3</th>\n",
       "      <td>1000</td>\n",
       "      <td>59</td>\n",
       "      <td>CS20230722_1000</td>\n",
       "    </tr>\n",
       "    <tr>\n",
       "      <th>4</th>\n",
       "      <td>1001</td>\n",
       "      <td>96</td>\n",
       "      <td>CS20230722_1001</td>\n",
       "    </tr>\n",
       "  </tbody>\n",
       "</table>\n",
       "</div>"
      ],
      "text/plain": [
       "   cluster_alias  number_of_cells            label\n",
       "0              1              727  CS20230722_0001\n",
       "1             10              740  CS20230722_0010\n",
       "2            100             1053  CS20230722_0100\n",
       "3           1000               59  CS20230722_1000\n",
       "4           1001               96  CS20230722_1001"
      ]
     },
     "execution_count": 15,
     "metadata": {},
     "output_type": "execute_result"
    }
   ],
   "source": [
    "# Each row of the dataframe represents a cluster. Each cluster has a label, \n",
    "# cluster alias, and number of cells that have been grouped into the cluster\n",
    "cluster = abc_cache.get_metadata_dataframe(directory='WMB-taxonomy', file_name='cluster')\n",
    "print(len(cluster))\n",
    "cluster.head(5)"
   ]
  },
  {
   "cell_type": "code",
   "execution_count": 16,
   "metadata": {},
   "outputs": [
    {
     "data": {
      "text/html": [
       "<div>\n",
       "<style scoped>\n",
       "    .dataframe tbody tr th:only-of-type {\n",
       "        vertical-align: middle;\n",
       "    }\n",
       "\n",
       "    .dataframe tbody tr th {\n",
       "        vertical-align: top;\n",
       "    }\n",
       "\n",
       "    .dataframe thead th {\n",
       "        text-align: right;\n",
       "    }\n",
       "</style>\n",
       "<table border=\"1\" class=\"dataframe\">\n",
       "  <thead>\n",
       "    <tr style=\"text-align: right;\">\n",
       "      <th></th>\n",
       "      <th>label</th>\n",
       "      <th>name</th>\n",
       "      <th>description</th>\n",
       "      <th>order</th>\n",
       "    </tr>\n",
       "  </thead>\n",
       "  <tbody>\n",
       "    <tr>\n",
       "      <th>0</th>\n",
       "      <td>CCN20230722_NEUR</td>\n",
       "      <td>neurotransmitter</td>\n",
       "      <td>Clusters are assigned based on the average exp...</td>\n",
       "      <td>0</td>\n",
       "    </tr>\n",
       "    <tr>\n",
       "      <th>1</th>\n",
       "      <td>CCN20230722_CLAS</td>\n",
       "      <td>class</td>\n",
       "      <td>The top level of cell type definition in the m...</td>\n",
       "      <td>1</td>\n",
       "    </tr>\n",
       "    <tr>\n",
       "      <th>2</th>\n",
       "      <td>CCN20230722_SUBC</td>\n",
       "      <td>subclass</td>\n",
       "      <td>The coarse level of cell type definition in th...</td>\n",
       "      <td>2</td>\n",
       "    </tr>\n",
       "    <tr>\n",
       "      <th>3</th>\n",
       "      <td>CCN20230722_SUPT</td>\n",
       "      <td>supertype</td>\n",
       "      <td>The second finest level of cell type definitio...</td>\n",
       "      <td>3</td>\n",
       "    </tr>\n",
       "    <tr>\n",
       "      <th>4</th>\n",
       "      <td>CCN20230722_CLUS</td>\n",
       "      <td>cluster</td>\n",
       "      <td>The finest level of cell type definition in th...</td>\n",
       "      <td>4</td>\n",
       "    </tr>\n",
       "  </tbody>\n",
       "</table>\n",
       "</div>"
      ],
      "text/plain": [
       "              label              name  \\\n",
       "0  CCN20230722_NEUR  neurotransmitter   \n",
       "1  CCN20230722_CLAS             class   \n",
       "2  CCN20230722_SUBC          subclass   \n",
       "3  CCN20230722_SUPT         supertype   \n",
       "4  CCN20230722_CLUS           cluster   \n",
       "\n",
       "                                         description  order  \n",
       "0  Clusters are assigned based on the average exp...      0  \n",
       "1  The top level of cell type definition in the m...      1  \n",
       "2  The coarse level of cell type definition in th...      2  \n",
       "3  The second finest level of cell type definitio...      3  \n",
       "4  The finest level of cell type definition in th...      4  "
      ]
     },
     "execution_count": 16,
     "metadata": {},
     "output_type": "execute_result"
    }
   ],
   "source": [
    "# Cluster annotation term sets\n",
    "term_set = abc_cache.get_metadata_dataframe(directory='WMB-taxonomy', file_name='cluster_annotation_term_set')\n",
    "term_set"
   ]
  },
  {
   "cell_type": "code",
   "execution_count": 17,
   "metadata": {},
   "outputs": [
    {
     "name": "stdout",
     "output_type": "stream",
     "text": [
      "neurotransmitter:\n",
      "\n",
      "Clusters are assigned based on the average expression of both neurotransmitter transporter genes and key neurotransmitter synthesizing enzyme genes.\n",
      "\n",
      "class:\n",
      "\n",
      "The top level of cell type definition in the mouse whole brain taxonomy. It is primarily determined by broad brain region and neurotransmitter type. All cells within a subclass belong to the same class. Class provides a broader categorization of cell types.\n",
      "\n",
      "subclass:\n",
      "\n",
      "The coarse level of cell type definition in the mouse whole brain taxonomy. All cells within a supertype belong to the same subclass. Subclass groups together related supertypes.\n",
      "\n",
      "supertype:\n",
      "\n",
      "The second finest level of cell type definition in the mouse whole brain taxonomy. All cells within a cluster belong to the same supertype. Supertype groups together similar clusters.\n",
      "\n",
      "cluster:\n",
      "\n",
      "The finest level of cell type definition in the mouse whole brain taxonomy. Cells within a cluster share similar characteristics and belong to the same supertype.\n",
      "\n"
     ]
    }
   ],
   "source": [
    "# print out description for each term_set\n",
    "for tsindex, tsrow in term_set.iterrows() :\n",
    "    print(\"%s:\\n\" % tsrow['name'])\n",
    "    print(\"%s\\n\" % tsrow['description'])"
   ]
  },
  {
   "cell_type": "markdown",
   "metadata": {},
   "source": [
    "# Aggregating cluster and cells counts per term"
   ]
  },
  {
   "cell_type": "code",
   "execution_count": 18,
   "metadata": {},
   "outputs": [
    {
     "data": {
      "text/html": [
       "<div>\n",
       "<style scoped>\n",
       "    .dataframe tbody tr th:only-of-type {\n",
       "        vertical-align: middle;\n",
       "    }\n",
       "\n",
       "    .dataframe tbody tr th {\n",
       "        vertical-align: top;\n",
       "    }\n",
       "\n",
       "    .dataframe thead th {\n",
       "        text-align: right;\n",
       "    }\n",
       "</style>\n",
       "<table border=\"1\" class=\"dataframe\">\n",
       "  <thead>\n",
       "    <tr style=\"text-align: right;\">\n",
       "      <th></th>\n",
       "      <th>cluster_annotation_term_label</th>\n",
       "      <th>cluster_annotation_term_set_label</th>\n",
       "      <th>cluster_alias</th>\n",
       "      <th>cluster_annotation_term_name</th>\n",
       "      <th>cluster_annotation_term_set_name</th>\n",
       "      <th>number_of_cells</th>\n",
       "      <th>color_hex_triplet</th>\n",
       "    </tr>\n",
       "  </thead>\n",
       "  <tbody>\n",
       "    <tr>\n",
       "      <th>0</th>\n",
       "      <td>CS20230722_CLUS_0001</td>\n",
       "      <td>CCN20230722_CLUS</td>\n",
       "      <td>128</td>\n",
       "      <td>0001 CLA-EPd-CTX Car3 Glut_1</td>\n",
       "      <td>cluster</td>\n",
       "      <td>4262</td>\n",
       "      <td>#00664E</td>\n",
       "    </tr>\n",
       "    <tr>\n",
       "      <th>1</th>\n",
       "      <td>CS20230722_CLUS_0002</td>\n",
       "      <td>CCN20230722_CLUS</td>\n",
       "      <td>129</td>\n",
       "      <td>0002 CLA-EPd-CTX Car3 Glut_1</td>\n",
       "      <td>cluster</td>\n",
       "      <td>3222</td>\n",
       "      <td>#5C79CC</td>\n",
       "    </tr>\n",
       "    <tr>\n",
       "      <th>2</th>\n",
       "      <td>CS20230722_CLUS_0003</td>\n",
       "      <td>CCN20230722_CLUS</td>\n",
       "      <td>130</td>\n",
       "      <td>0003 CLA-EPd-CTX Car3 Glut_1</td>\n",
       "      <td>cluster</td>\n",
       "      <td>12216</td>\n",
       "      <td>#86FF4D</td>\n",
       "    </tr>\n",
       "    <tr>\n",
       "      <th>3</th>\n",
       "      <td>CS20230722_CLUS_0004</td>\n",
       "      <td>CCN20230722_CLUS</td>\n",
       "      <td>143</td>\n",
       "      <td>0004 CLA-EPd-CTX Car3 Glut_1</td>\n",
       "      <td>cluster</td>\n",
       "      <td>9334</td>\n",
       "      <td>#CC563D</td>\n",
       "    </tr>\n",
       "    <tr>\n",
       "      <th>4</th>\n",
       "      <td>CS20230722_CLUS_0005</td>\n",
       "      <td>CCN20230722_CLUS</td>\n",
       "      <td>131</td>\n",
       "      <td>0005 CLA-EPd-CTX Car3 Glut_2</td>\n",
       "      <td>cluster</td>\n",
       "      <td>1056</td>\n",
       "      <td>#E7FF26</td>\n",
       "    </tr>\n",
       "  </tbody>\n",
       "</table>\n",
       "</div>"
      ],
      "text/plain": [
       "  cluster_annotation_term_label cluster_annotation_term_set_label  \\\n",
       "0          CS20230722_CLUS_0001                  CCN20230722_CLUS   \n",
       "1          CS20230722_CLUS_0002                  CCN20230722_CLUS   \n",
       "2          CS20230722_CLUS_0003                  CCN20230722_CLUS   \n",
       "3          CS20230722_CLUS_0004                  CCN20230722_CLUS   \n",
       "4          CS20230722_CLUS_0005                  CCN20230722_CLUS   \n",
       "\n",
       "   cluster_alias  cluster_annotation_term_name  \\\n",
       "0            128  0001 CLA-EPd-CTX Car3 Glut_1   \n",
       "1            129  0002 CLA-EPd-CTX Car3 Glut_1   \n",
       "2            130  0003 CLA-EPd-CTX Car3 Glut_1   \n",
       "3            143  0004 CLA-EPd-CTX Car3 Glut_1   \n",
       "4            131  0005 CLA-EPd-CTX Car3 Glut_2   \n",
       "\n",
       "  cluster_annotation_term_set_name  number_of_cells color_hex_triplet  \n",
       "0                          cluster             4262           #00664E  \n",
       "1                          cluster             3222           #5C79CC  \n",
       "2                          cluster            12216           #86FF4D  \n",
       "3                          cluster             9334           #CC563D  \n",
       "4                          cluster             1056           #E7FF26  "
      ]
     },
     "execution_count": 18,
     "metadata": {},
     "output_type": "execute_result"
    }
   ],
   "source": [
    "membership = abc_cache.get_metadata_dataframe(directory='WMB-taxonomy', file_name='cluster_to_cluster_annotation_membership')\n",
    "membership.head(5)"
   ]
  },
  {
   "cell_type": "code",
   "execution_count": 19,
   "metadata": {},
   "outputs": [
    {
     "data": {
      "text/html": [
       "<div>\n",
       "<style scoped>\n",
       "    .dataframe tbody tr th:only-of-type {\n",
       "        vertical-align: middle;\n",
       "    }\n",
       "\n",
       "    .dataframe tbody tr th {\n",
       "        vertical-align: top;\n",
       "    }\n",
       "\n",
       "    .dataframe thead th {\n",
       "        text-align: right;\n",
       "    }\n",
       "</style>\n",
       "<table border=\"1\" class=\"dataframe\">\n",
       "  <thead>\n",
       "    <tr style=\"text-align: right;\">\n",
       "      <th></th>\n",
       "      <th>number_of_clusters</th>\n",
       "    </tr>\n",
       "    <tr>\n",
       "      <th>cluster_annotation_term_label</th>\n",
       "      <th></th>\n",
       "    </tr>\n",
       "  </thead>\n",
       "  <tbody>\n",
       "    <tr>\n",
       "      <th>CS20230722_CLAS_01</th>\n",
       "      <td>402</td>\n",
       "    </tr>\n",
       "    <tr>\n",
       "      <th>CS20230722_CLAS_02</th>\n",
       "      <td>83</td>\n",
       "    </tr>\n",
       "    <tr>\n",
       "      <th>CS20230722_CLAS_03</th>\n",
       "      <td>16</td>\n",
       "    </tr>\n",
       "    <tr>\n",
       "      <th>CS20230722_CLAS_04</th>\n",
       "      <td>16</td>\n",
       "    </tr>\n",
       "    <tr>\n",
       "      <th>CS20230722_CLAS_05</th>\n",
       "      <td>105</td>\n",
       "    </tr>\n",
       "  </tbody>\n",
       "</table>\n",
       "</div>"
      ],
      "text/plain": [
       "                               number_of_clusters\n",
       "cluster_annotation_term_label                    \n",
       "CS20230722_CLAS_01                            402\n",
       "CS20230722_CLAS_02                             83\n",
       "CS20230722_CLAS_03                             16\n",
       "CS20230722_CLAS_04                             16\n",
       "CS20230722_CLAS_05                            105"
      ]
     },
     "execution_count": 19,
     "metadata": {},
     "output_type": "execute_result"
    }
   ],
   "source": [
    "# Count the number of clusters associated with each cluster annotation term\n",
    "term_cluster_count = membership.groupby(['cluster_annotation_term_label'])[['cluster_alias']].count()\n",
    "term_cluster_count.columns = ['number_of_clusters']\n",
    "term_cluster_count.head(5)"
   ]
  },
  {
   "cell_type": "code",
   "execution_count": 20,
   "metadata": {},
   "outputs": [
    {
     "data": {
      "text/html": [
       "<div>\n",
       "<style scoped>\n",
       "    .dataframe tbody tr th:only-of-type {\n",
       "        vertical-align: middle;\n",
       "    }\n",
       "\n",
       "    .dataframe tbody tr th {\n",
       "        vertical-align: top;\n",
       "    }\n",
       "\n",
       "    .dataframe thead th {\n",
       "        text-align: right;\n",
       "    }\n",
       "</style>\n",
       "<table border=\"1\" class=\"dataframe\">\n",
       "  <thead>\n",
       "    <tr style=\"text-align: right;\">\n",
       "      <th></th>\n",
       "      <th>number_of_cells</th>\n",
       "    </tr>\n",
       "    <tr>\n",
       "      <th>cluster_annotation_term_label</th>\n",
       "      <th></th>\n",
       "    </tr>\n",
       "  </thead>\n",
       "  <tbody>\n",
       "    <tr>\n",
       "      <th>CS20230722_CLAS_01</th>\n",
       "      <td>1095484</td>\n",
       "    </tr>\n",
       "    <tr>\n",
       "      <th>CS20230722_CLAS_02</th>\n",
       "      <td>310198</td>\n",
       "    </tr>\n",
       "    <tr>\n",
       "      <th>CS20230722_CLAS_03</th>\n",
       "      <td>4767</td>\n",
       "    </tr>\n",
       "    <tr>\n",
       "      <th>CS20230722_CLAS_04</th>\n",
       "      <td>84352</td>\n",
       "    </tr>\n",
       "    <tr>\n",
       "      <th>CS20230722_CLAS_05</th>\n",
       "      <td>107502</td>\n",
       "    </tr>\n",
       "  </tbody>\n",
       "</table>\n",
       "</div>"
      ],
      "text/plain": [
       "                               number_of_cells\n",
       "cluster_annotation_term_label                 \n",
       "CS20230722_CLAS_01                     1095484\n",
       "CS20230722_CLAS_02                      310198\n",
       "CS20230722_CLAS_03                        4767\n",
       "CS20230722_CLAS_04                       84352\n",
       "CS20230722_CLAS_05                      107502"
      ]
     },
     "execution_count": 20,
     "metadata": {},
     "output_type": "execute_result"
    }
   ],
   "source": [
    "# Sum up the number of cells associated with each cluster annotation term\n",
    "term_cell_count = membership.groupby(['cluster_annotation_term_label'])[['number_of_cells']].sum()\n",
    "term_cell_count.columns = ['number_of_cells']\n",
    "term_cell_count.head(5)"
   ]
  },
  {
   "cell_type": "code",
   "execution_count": 21,
   "metadata": {},
   "outputs": [
    {
     "data": {
      "text/html": [
       "<div>\n",
       "<style scoped>\n",
       "    .dataframe tbody tr th:only-of-type {\n",
       "        vertical-align: middle;\n",
       "    }\n",
       "\n",
       "    .dataframe tbody tr th {\n",
       "        vertical-align: top;\n",
       "    }\n",
       "\n",
       "    .dataframe thead th {\n",
       "        text-align: right;\n",
       "    }\n",
       "</style>\n",
       "<table border=\"1\" class=\"dataframe\">\n",
       "  <thead>\n",
       "    <tr style=\"text-align: right;\">\n",
       "      <th></th>\n",
       "      <th>label</th>\n",
       "      <th>name</th>\n",
       "      <th>cluster_annotation_term_set_label</th>\n",
       "      <th>parent_term_label</th>\n",
       "      <th>parent_term_set_label</th>\n",
       "      <th>term_set_order</th>\n",
       "      <th>term_order</th>\n",
       "      <th>cluster_annotation_term_set_name</th>\n",
       "      <th>color_hex_triplet</th>\n",
       "    </tr>\n",
       "  </thead>\n",
       "  <tbody>\n",
       "    <tr>\n",
       "      <th>0</th>\n",
       "      <td>CS20230722_NEUR_Glut</td>\n",
       "      <td>Glut</td>\n",
       "      <td>CCN20230722_NEUR</td>\n",
       "      <td></td>\n",
       "      <td></td>\n",
       "      <td>0</td>\n",
       "      <td>0</td>\n",
       "      <td>neurotransmitter</td>\n",
       "      <td>#2B93DF</td>\n",
       "    </tr>\n",
       "    <tr>\n",
       "      <th>1</th>\n",
       "      <td>CS20230722_NEUR_NA</td>\n",
       "      <td>NA</td>\n",
       "      <td>CCN20230722_NEUR</td>\n",
       "      <td></td>\n",
       "      <td></td>\n",
       "      <td>0</td>\n",
       "      <td>1</td>\n",
       "      <td>neurotransmitter</td>\n",
       "      <td>#666666</td>\n",
       "    </tr>\n",
       "    <tr>\n",
       "      <th>2</th>\n",
       "      <td>CS20230722_NEUR_GABA</td>\n",
       "      <td>GABA</td>\n",
       "      <td>CCN20230722_NEUR</td>\n",
       "      <td></td>\n",
       "      <td></td>\n",
       "      <td>0</td>\n",
       "      <td>2</td>\n",
       "      <td>neurotransmitter</td>\n",
       "      <td>#FF3358</td>\n",
       "    </tr>\n",
       "    <tr>\n",
       "      <th>3</th>\n",
       "      <td>CS20230722_NEUR_Dopa</td>\n",
       "      <td>Dopa</td>\n",
       "      <td>CCN20230722_NEUR</td>\n",
       "      <td></td>\n",
       "      <td></td>\n",
       "      <td>0</td>\n",
       "      <td>3</td>\n",
       "      <td>neurotransmitter</td>\n",
       "      <td>#fcf04b</td>\n",
       "    </tr>\n",
       "    <tr>\n",
       "      <th>4</th>\n",
       "      <td>CS20230722_NEUR_Glut-GABA</td>\n",
       "      <td>Glut-GABA</td>\n",
       "      <td>CCN20230722_NEUR</td>\n",
       "      <td></td>\n",
       "      <td></td>\n",
       "      <td>0</td>\n",
       "      <td>4</td>\n",
       "      <td>neurotransmitter</td>\n",
       "      <td>#0a9964</td>\n",
       "    </tr>\n",
       "  </tbody>\n",
       "</table>\n",
       "</div>"
      ],
      "text/plain": [
       "                       label       name cluster_annotation_term_set_label  \\\n",
       "0       CS20230722_NEUR_Glut       Glut                  CCN20230722_NEUR   \n",
       "1         CS20230722_NEUR_NA         NA                  CCN20230722_NEUR   \n",
       "2       CS20230722_NEUR_GABA       GABA                  CCN20230722_NEUR   \n",
       "3       CS20230722_NEUR_Dopa       Dopa                  CCN20230722_NEUR   \n",
       "4  CS20230722_NEUR_Glut-GABA  Glut-GABA                  CCN20230722_NEUR   \n",
       "\n",
       "  parent_term_label parent_term_set_label  term_set_order  term_order  \\\n",
       "0                                                       0           0   \n",
       "1                                                       0           1   \n",
       "2                                                       0           2   \n",
       "3                                                       0           3   \n",
       "4                                                       0           4   \n",
       "\n",
       "  cluster_annotation_term_set_name color_hex_triplet  \n",
       "0                 neurotransmitter           #2B93DF  \n",
       "1                 neurotransmitter           #666666  \n",
       "2                 neurotransmitter           #FF3358  \n",
       "3                 neurotransmitter           #fcf04b  \n",
       "4                 neurotransmitter           #0a9964  "
      ]
     },
     "execution_count": 21,
     "metadata": {},
     "output_type": "execute_result"
    }
   ],
   "source": [
    "term = abc_cache.get_metadata_dataframe(directory='WMB-taxonomy', file_name='cluster_annotation_term', keep_default_na=False)\n",
    "term.head(5)"
   ]
  },
  {
   "cell_type": "code",
   "execution_count": 22,
   "metadata": {},
   "outputs": [
    {
     "data": {
      "text/html": [
       "<div>\n",
       "<style scoped>\n",
       "    .dataframe tbody tr th:only-of-type {\n",
       "        vertical-align: middle;\n",
       "    }\n",
       "\n",
       "    .dataframe tbody tr th {\n",
       "        vertical-align: top;\n",
       "    }\n",
       "\n",
       "    .dataframe thead th {\n",
       "        text-align: right;\n",
       "    }\n",
       "</style>\n",
       "<table border=\"1\" class=\"dataframe\">\n",
       "  <thead>\n",
       "    <tr style=\"text-align: right;\">\n",
       "      <th></th>\n",
       "      <th>label</th>\n",
       "    </tr>\n",
       "    <tr>\n",
       "      <th>cluster_annotation_term_set_name</th>\n",
       "      <th></th>\n",
       "    </tr>\n",
       "  </thead>\n",
       "  <tbody>\n",
       "    <tr>\n",
       "      <th>class</th>\n",
       "      <td>34</td>\n",
       "    </tr>\n",
       "    <tr>\n",
       "      <th>cluster</th>\n",
       "      <td>5322</td>\n",
       "    </tr>\n",
       "    <tr>\n",
       "      <th>neurotransmitter</th>\n",
       "      <td>10</td>\n",
       "    </tr>\n",
       "    <tr>\n",
       "      <th>subclass</th>\n",
       "      <td>338</td>\n",
       "    </tr>\n",
       "    <tr>\n",
       "      <th>supertype</th>\n",
       "      <td>1201</td>\n",
       "    </tr>\n",
       "  </tbody>\n",
       "</table>\n",
       "</div>"
      ],
      "text/plain": [
       "                                  label\n",
       "cluster_annotation_term_set_name       \n",
       "class                                34\n",
       "cluster                            5322\n",
       "neurotransmitter                     10\n",
       "subclass                            338\n",
       "supertype                          1201"
      ]
     },
     "execution_count": 22,
     "metadata": {},
     "output_type": "execute_result"
    }
   ],
   "source": [
    "term[['label','cluster_annotation_term_set_name']].groupby('cluster_annotation_term_set_name').count()"
   ]
  },
  {
   "cell_type": "code",
   "execution_count": 23,
   "metadata": {},
   "outputs": [
    {
     "data": {
      "text/html": [
       "<div>\n",
       "<style scoped>\n",
       "    .dataframe tbody tr th:only-of-type {\n",
       "        vertical-align: middle;\n",
       "    }\n",
       "\n",
       "    .dataframe tbody tr th {\n",
       "        vertical-align: top;\n",
       "    }\n",
       "\n",
       "    .dataframe thead th {\n",
       "        text-align: right;\n",
       "    }\n",
       "</style>\n",
       "<table border=\"1\" class=\"dataframe\">\n",
       "  <thead>\n",
       "    <tr style=\"text-align: right;\">\n",
       "      <th></th>\n",
       "      <th>name</th>\n",
       "      <th>cluster_annotation_term_set_name</th>\n",
       "      <th>number_of_clusters</th>\n",
       "      <th>number_of_cells</th>\n",
       "    </tr>\n",
       "    <tr>\n",
       "      <th>label</th>\n",
       "      <th></th>\n",
       "      <th></th>\n",
       "      <th></th>\n",
       "      <th></th>\n",
       "    </tr>\n",
       "  </thead>\n",
       "  <tbody>\n",
       "    <tr>\n",
       "      <th>CS20230722_NEUR_Glut</th>\n",
       "      <td>Glut</td>\n",
       "      <td>neurotransmitter</td>\n",
       "      <td>2561</td>\n",
       "      <td>2054137</td>\n",
       "    </tr>\n",
       "    <tr>\n",
       "      <th>CS20230722_NEUR_NA</th>\n",
       "      <td>NA</td>\n",
       "      <td>neurotransmitter</td>\n",
       "      <td>127</td>\n",
       "      <td>1089152</td>\n",
       "    </tr>\n",
       "    <tr>\n",
       "      <th>CS20230722_NEUR_GABA</th>\n",
       "      <td>GABA</td>\n",
       "      <td>neurotransmitter</td>\n",
       "      <td>1991</td>\n",
       "      <td>834601</td>\n",
       "    </tr>\n",
       "    <tr>\n",
       "      <th>CS20230722_NEUR_Dopa</th>\n",
       "      <td>Dopa</td>\n",
       "      <td>neurotransmitter</td>\n",
       "      <td>67</td>\n",
       "      <td>9396</td>\n",
       "    </tr>\n",
       "    <tr>\n",
       "      <th>CS20230722_NEUR_Glut-GABA</th>\n",
       "      <td>Glut-GABA</td>\n",
       "      <td>neurotransmitter</td>\n",
       "      <td>62</td>\n",
       "      <td>8989</td>\n",
       "    </tr>\n",
       "  </tbody>\n",
       "</table>\n",
       "</div>"
      ],
      "text/plain": [
       "                                name cluster_annotation_term_set_name  \\\n",
       "label                                                                   \n",
       "CS20230722_NEUR_Glut            Glut                 neurotransmitter   \n",
       "CS20230722_NEUR_NA                NA                 neurotransmitter   \n",
       "CS20230722_NEUR_GABA            GABA                 neurotransmitter   \n",
       "CS20230722_NEUR_Dopa            Dopa                 neurotransmitter   \n",
       "CS20230722_NEUR_Glut-GABA  Glut-GABA                 neurotransmitter   \n",
       "\n",
       "                           number_of_clusters  number_of_cells  \n",
       "label                                                           \n",
       "CS20230722_NEUR_Glut                     2561          2054137  \n",
       "CS20230722_NEUR_NA                        127          1089152  \n",
       "CS20230722_NEUR_GABA                     1991           834601  \n",
       "CS20230722_NEUR_Dopa                       67             9396  \n",
       "CS20230722_NEUR_Glut-GABA                  62             8989  "
      ]
     },
     "execution_count": 23,
     "metadata": {},
     "output_type": "execute_result"
    }
   ],
   "source": [
    "# Join counts with the term dataframe\n",
    "term_by_label = term.set_index('label')\n",
    "term_with_counts = term_by_label.join(term_cluster_count)\n",
    "term_with_counts = term_with_counts.join(term_cell_count)\n",
    "term_with_counts[['name', 'cluster_annotation_term_set_name', 'number_of_clusters', 'number_of_cells']].head(5)\n"
   ]
  },
  {
   "cell_type": "code",
   "execution_count": 24,
   "metadata": {},
   "outputs": [],
   "source": [
    "# Visualise clusters\n",
    "def bar_plot_by_level_and_type(df, level, fig_width = 8.5, fig_height = 4):\n",
    "    \n",
    "    fig, ax = plt.subplots(1, 2)\n",
    "    fig.set_size_inches(fig_width, fig_height)\n",
    "    \n",
    "    for idx, ctype in enumerate(['clusters', 'cells']):\n",
    "\n",
    "        pred = (df['cluster_annotation_term_set_name'] == level )\n",
    "        names = df[pred]['name']\n",
    "        counts = df[pred]['number_of_%s' % ctype]\n",
    "        colors = df[pred]['color_hex_triplet']\n",
    "        \n",
    "        ax[idx].barh(names, counts, color=colors)\n",
    "        ax[idx].set_title('Number of %s by %s' % (ctype,level)),\n",
    "        ax[idx].set_xscale('log')\n",
    "        \n",
    "        if idx > 0 :\n",
    "            ax[idx].set_yticklabels([])\n",
    "\n",
    "    plt.show()"
   ]
  },
  {
   "cell_type": "code",
   "execution_count": 25,
   "metadata": {},
   "outputs": [
    {
     "data": {
      "image/png": "[encoded data removed]",
      "text/plain": [
       "<Figure size 850x400 with 2 Axes>"
      ]
     },
     "metadata": {},
     "output_type": "display_data"
    }
   ],
   "source": [
    "df = term_with_counts\n",
    "level = 'neurotransmitter'\n",
    "pred = (df['cluster_annotation_term_set_name'] == level )\n",
    "\n",
    "bar_plot_by_level_and_type(term_with_counts, \"neurotransmitter\")"
   ]
  },
  {
   "cell_type": "code",
   "execution_count": 26,
   "metadata": {},
   "outputs": [
    {
     "data": {
      "image/png": "[encoded data removed]",
      "text/plain": [
       "<Figure size 850x600 with 2 Axes>"
      ]
     },
     "metadata": {},
     "output_type": "display_data"
    }
   ],
   "source": [
    "# Class level cluster and cell counts\n",
    "bar_plot_by_level_and_type(term_with_counts, 'class', 8.5, 6)"
   ]
  },
  {
   "cell_type": "markdown",
   "metadata": {},
   "source": [
    "# Prepare Data"
   ]
  },
  {
   "cell_type": "code",
   "execution_count": 41,
   "metadata": {},
   "outputs": [
    {
     "name": "stdout",
     "output_type": "stream",
     "text": [
      "WMB-10Xv3 data files:\n",
      "[PosixPath('/home/jantine/Data/AllenBrain/abc_atlas/expression_matrices/WMB-10Xv3/20230630/WMB-10Xv3-CB-log2.h5ad'), PosixPath('/home/jantine/Data/AllenBrain/abc_atlas/expression_matrices/WMB-10Xv3/20230630/WMB-10Xv3-CB-raw.h5ad'), PosixPath('/home/jantine/Data/AllenBrain/abc_atlas/expression_matrices/WMB-10Xv3/20230630/WMB-10Xv3-CTXsp-log2.h5ad'), PosixPath('/home/jantine/Data/AllenBrain/abc_atlas/expression_matrices/WMB-10Xv3/20230630/WMB-10Xv3-CTXsp-raw.h5ad'), PosixPath('/home/jantine/Data/AllenBrain/abc_atlas/expression_matrices/WMB-10Xv3/20230630/WMB-10Xv3-HPF-log2.h5ad'), PosixPath('/home/jantine/Data/AllenBrain/abc_atlas/expression_matrices/WMB-10Xv3/20230630/WMB-10Xv3-HPF-raw.h5ad'), PosixPath('/home/jantine/Data/AllenBrain/abc_atlas/expression_matrices/WMB-10Xv3/20230630/WMB-10Xv3-HY-log2.h5ad'), PosixPath('/home/jantine/Data/AllenBrain/abc_atlas/expression_matrices/WMB-10Xv3/20230630/WMB-10Xv3-HY-raw.h5ad'), PosixPath('/home/jantine/Data/AllenBrain/abc_atlas/expression_matrices/WMB-10Xv3/20230630/WMB-10Xv3-Isocortex-1-log2.h5ad'), PosixPath('/home/jantine/Data/AllenBrain/abc_atlas/expression_matrices/WMB-10Xv3/20230630/WMB-10Xv3-Isocortex-1-raw.h5ad'), PosixPath('/home/jantine/Data/AllenBrain/abc_atlas/expression_matrices/WMB-10Xv3/20230630/WMB-10Xv3-Isocortex-2-log2.h5ad'), PosixPath('/home/jantine/Data/AllenBrain/abc_atlas/expression_matrices/WMB-10Xv3/20230630/WMB-10Xv3-Isocortex-2-raw.h5ad'), PosixPath('/home/jantine/Data/AllenBrain/abc_atlas/expression_matrices/WMB-10Xv3/20230630/WMB-10Xv3-MB-log2.h5ad'), PosixPath('/home/jantine/Data/AllenBrain/abc_atlas/expression_matrices/WMB-10Xv3/20230630/WMB-10Xv3-MB-raw.h5ad'), PosixPath('/home/jantine/Data/AllenBrain/abc_atlas/expression_matrices/WMB-10Xv3/20230630/WMB-10Xv3-MY-log2.h5ad'), PosixPath('/home/jantine/Data/AllenBrain/abc_atlas/expression_matrices/WMB-10Xv3/20230630/WMB-10Xv3-MY-raw.h5ad'), PosixPath('/home/jantine/Data/AllenBrain/abc_atlas/expression_matrices/WMB-10Xv3/20230630/WMB-10Xv3-OLF-log2.h5ad'), PosixPath('/home/jantine/Data/AllenBrain/abc_atlas/expression_matrices/WMB-10Xv3/20230630/WMB-10Xv3-OLF-raw.h5ad'), PosixPath('/home/jantine/Data/AllenBrain/abc_atlas/expression_matrices/WMB-10Xv3/20230630/WMB-10Xv3-P-log2.h5ad'), PosixPath('/home/jantine/Data/AllenBrain/abc_atlas/expression_matrices/WMB-10Xv3/20230630/WMB-10Xv3-P-raw.h5ad'), PosixPath('/home/jantine/Data/AllenBrain/abc_atlas/expression_matrices/WMB-10Xv3/20230630/WMB-10Xv3-PAL-log2.h5ad'), PosixPath('/home/jantine/Data/AllenBrain/abc_atlas/expression_matrices/WMB-10Xv3/20230630/WMB-10Xv3-PAL-raw.h5ad'), PosixPath('/home/jantine/Data/AllenBrain/abc_atlas/expression_matrices/WMB-10Xv3/20230630/WMB-10Xv3-STR-log2.h5ad'), PosixPath('/home/jantine/Data/AllenBrain/abc_atlas/expression_matrices/WMB-10Xv3/20230630/WMB-10Xv3-STR-raw.h5ad'), PosixPath('/home/jantine/Data/AllenBrain/abc_atlas/expression_matrices/WMB-10Xv3/20230630/WMB-10Xv3-TH-log2.h5ad'), PosixPath('/home/jantine/Data/AllenBrain/abc_atlas/expression_matrices/WMB-10Xv3/20230630/WMB-10Xv3-TH-raw.h5ad')]\n"
     ]
    },
    {
     "name": "stderr",
     "output_type": "stream",
     "text": [
      "/home/jantine/miniconda3/envs/scvi_project/lib/python3.11/site-packages/abc_atlas_access/abc_atlas_cache/abc_project_cache.py:385: LargeDataSizeWarning: WMB-10Xv3 contains a significant amount of data.Continue this download only if you are sure you have enough space on your system.\n",
      "\n",
      "\tTotal directory size = 176.41 GB\n",
      "\n",
      "\n",
      "  warnings.warn(\n"
     ]
    }
   ],
   "source": [
    "# First, let's check what data files are available in the WMB-10Xv3 directory\n",
    "try:\n",
    "    wmb_files = abc_cache.get_directory_data('WMB-10Xv3')\n",
    "    print(\"WMB-10Xv3 data files:\")\n",
    "    print(wmb_files)\n",
    "except Exception as e:\n",
    "    print(f\"Error accessing WMB-10Xv3: {e}\")"
   ]
  },
  {
   "cell_type": "code",
   "execution_count": 42,
   "metadata": {},
   "outputs": [
    {
     "name": "stdout",
     "output_type": "stream",
     "text": [
      "Loading data from: /home/jantine/Data/AllenBrain/abc_atlas/expression_matrices/WMB-10Xv3/20230630/WMB-10Xv3-CB-log2.h5ad\n",
      "AnnData shape: (182026, 32285)\n",
      "AnnData observations: ['cell_barcode', 'library_label', 'anatomical_division_label']\n"
     ]
    }
   ],
   "source": [
    "# Try to load the main WMB-10Xv3 data\n",
    "try:\n",
    "    # Check if there's an h5ad file in the main directory\n",
    "    wmb_data_paths = abc_cache.get_directory_data('WMB-10Xv3')\n",
    "    \n",
    "    if wmb_data_paths:\n",
    "        # Look for h5ad files\n",
    "        h5ad_paths = [path for path in wmb_data_paths if str(path).endswith('.h5ad')]\n",
    "        \n",
    "        if h5ad_paths:\n",
    "            adata_path = h5ad_paths[0]\n",
    "            print(f\"Loading data from: {adata_path}\")\n",
    "            adata = sc.read_h5ad(adata_path)\n",
    "            print(f\"AnnData shape: {adata.shape}\")\n",
    "            print(f\"AnnData observations: {adata.obs.columns.tolist()}\")\n",
    "            \n",
    "            # Check if there's already a cluster column in the data\n",
    "            cluster_col = None\n",
    "            for col in adata.obs.columns:\n",
    "                if 'cluster' in col.lower():\n",
    "                    cluster_col = col\n",
    "                    print(f\"Found cluster column: {cluster_col}\")\n",
    "                    break\n",
    "        else:\n",
    "            print(\"No h5ad files found in WMB-10Xv3\")\n",
    "    else:\n",
    "        print(\"No data files found in WMB-10Xv3\")\n",
    "except Exception as e:\n",
    "    print(f\"Error loading WMB-10Xv3 data: {e}\")"
   ]
  },
  {
   "cell_type": "code",
   "execution_count": 43,
   "metadata": {},
   "outputs": [
    {
     "name": "stdout",
     "output_type": "stream",
     "text": [
      "\n",
      "Performing basic preprocessing...\n"
     ]
    },
    {
     "name": "stderr",
     "output_type": "stream",
     "text": [
      "/home/jantine/miniconda3/envs/scvi_project/lib/python3.11/site-packages/scanpy/preprocessing/_normalization.py:216: UserWarning: Received a view of an AnnData. Making a copy.\n",
      "  view_to_actual(adata)\n"
     ]
    },
    {
     "name": "stdout",
     "output_type": "stream",
     "text": [
      "\n",
      "Setting up scVI with batch_key: library_label, labels_key: None\n"
     ]
    },
    {
     "ename": "ValueError",
     "evalue": "Please run `adata = adata.copy()`",
     "output_type": "error",
     "traceback": [
      "\u001b[31m---------------------------------------------------------------------------\u001b[39m",
      "\u001b[31mValueError\u001b[39m                                Traceback (most recent call last)",
      "\u001b[36mCell\u001b[39m\u001b[36m \u001b[39m\u001b[32mIn[43]\u001b[39m\u001b[32m, line 36\u001b[39m\n\u001b[32m     33\u001b[39m     adata_hvg = adata\n\u001b[32m     35\u001b[39m \u001b[38;5;66;03m# Setup AnnData for scVI\u001b[39;00m\n\u001b[32m---> \u001b[39m\u001b[32m36\u001b[39m \u001b[43mscvi\u001b[49m\u001b[43m.\u001b[49m\u001b[43mmodel\u001b[49m\u001b[43m.\u001b[49m\u001b[43mSCVI\u001b[49m\u001b[43m.\u001b[49m\u001b[43msetup_anndata\u001b[49m\u001b[43m(\u001b[49m\n\u001b[32m     37\u001b[39m \u001b[43m    \u001b[49m\u001b[43madata_hvg\u001b[49m\u001b[43m,\u001b[49m\n\u001b[32m     38\u001b[39m \u001b[43m    \u001b[49m\u001b[43mbatch_key\u001b[49m\u001b[43m=\u001b[49m\u001b[43mbatch_key\u001b[49m\u001b[43m,\u001b[49m\n\u001b[32m     39\u001b[39m \u001b[43m    \u001b[49m\u001b[43mlabels_key\u001b[49m\u001b[43m=\u001b[49m\u001b[43mlabels_key\u001b[49m\n\u001b[32m     40\u001b[39m \u001b[43m\u001b[49m\u001b[43m)\u001b[49m\n\u001b[32m     42\u001b[39m \u001b[38;5;66;03m# Create and train the model\u001b[39;00m\n\u001b[32m     43\u001b[39m \u001b[38;5;28mprint\u001b[39m(\u001b[33m\"\u001b[39m\u001b[33mTraining scVI model...\u001b[39m\u001b[33m\"\u001b[39m)\n",
      "\u001b[36mFile \u001b[39m\u001b[32m~/miniconda3/envs/scvi_project/lib/python3.11/site-packages/scvi/model/_scvi.py:223\u001b[39m, in \u001b[36mSCVI.setup_anndata\u001b[39m\u001b[34m(cls, adata, layer, batch_key, labels_key, size_factor_key, categorical_covariate_keys, continuous_covariate_keys, **kwargs)\u001b[39m\n\u001b[32m    221\u001b[39m     anndata_fields += \u001b[38;5;28mcls\u001b[39m._get_fields_for_adata_minification(adata_minify_type)\n\u001b[32m    222\u001b[39m adata_manager = AnnDataManager(fields=anndata_fields, setup_method_args=setup_method_args)\n\u001b[32m--> \u001b[39m\u001b[32m223\u001b[39m \u001b[43madata_manager\u001b[49m\u001b[43m.\u001b[49m\u001b[43mregister_fields\u001b[49m\u001b[43m(\u001b[49m\u001b[43madata\u001b[49m\u001b[43m,\u001b[49m\u001b[43m \u001b[49m\u001b[43m*\u001b[49m\u001b[43m*\u001b[49m\u001b[43mkwargs\u001b[49m\u001b[43m)\u001b[49m\n\u001b[32m    224\u001b[39m \u001b[38;5;28mcls\u001b[39m.register_manager(adata_manager)\n",
      "\u001b[36mFile \u001b[39m\u001b[32m~/miniconda3/envs/scvi_project/lib/python3.11/site-packages/scvi/data/_manager.py:182\u001b[39m, in \u001b[36mAnnDataManager.register_fields\u001b[39m\u001b[34m(self, adata, source_registry, **transfer_kwargs)\u001b[39m\n\u001b[32m    176\u001b[39m \u001b[38;5;28;01mif\u001b[39;00m source_registry \u001b[38;5;129;01mis\u001b[39;00m \u001b[38;5;28;01mNone\u001b[39;00m \u001b[38;5;129;01mand\u001b[39;00m transfer_kwargs:\n\u001b[32m    177\u001b[39m     \u001b[38;5;28;01mraise\u001b[39;00m \u001b[38;5;167;01mTypeError\u001b[39;00m(\n\u001b[32m    178\u001b[39m         \u001b[33mf\u001b[39m\u001b[33m\"\u001b[39m\u001b[33mregister_fields() got unexpected keyword arguments \u001b[39m\u001b[38;5;132;01m{\u001b[39;00mtransfer_kwargs\u001b[38;5;132;01m}\u001b[39;00m\u001b[33m passed \u001b[39m\u001b[33m\"\u001b[39m\n\u001b[32m    179\u001b[39m         \u001b[33m\"\u001b[39m\u001b[33mwithout a source_registry.\u001b[39m\u001b[33m\"\u001b[39m\n\u001b[32m    180\u001b[39m     )\n\u001b[32m--> \u001b[39m\u001b[32m182\u001b[39m \u001b[38;5;28;43mself\u001b[39;49m\u001b[43m.\u001b[49m\u001b[43m_validate_anndata_object\u001b[49m\u001b[43m(\u001b[49m\u001b[43madata\u001b[49m\u001b[43m)\u001b[49m\n\u001b[32m    184\u001b[39m \u001b[38;5;28;01mfor\u001b[39;00m field \u001b[38;5;129;01min\u001b[39;00m \u001b[38;5;28mself\u001b[39m.fields:\n\u001b[32m    185\u001b[39m     \u001b[38;5;28mself\u001b[39m._add_field(\n\u001b[32m    186\u001b[39m         field=field,\n\u001b[32m    187\u001b[39m         adata=adata,\n\u001b[32m    188\u001b[39m         source_registry=source_registry,\n\u001b[32m    189\u001b[39m         **transfer_kwargs,\n\u001b[32m    190\u001b[39m     )\n",
      "\u001b[36mFile \u001b[39m\u001b[32m~/miniconda3/envs/scvi_project/lib/python3.11/site-packages/scvi/data/_manager.py:115\u001b[39m, in \u001b[36mAnnDataManager._validate_anndata_object\u001b[39m\u001b[34m(self, adata)\u001b[39m\n\u001b[32m    113\u001b[39m \u001b[38;5;250m\u001b[39m\u001b[33;03m\"\"\"For a given AnnData object, runs general scvi-tools compatibility checks.\"\"\"\u001b[39;00m\n\u001b[32m    114\u001b[39m \u001b[38;5;28;01mif\u001b[39;00m \u001b[38;5;28mself\u001b[39m.validation_checks.check_if_view:\n\u001b[32m--> \u001b[39m\u001b[32m115\u001b[39m     \u001b[43m_check_if_view\u001b[49m\u001b[43m(\u001b[49m\u001b[43madata\u001b[49m\u001b[43m,\u001b[49m\u001b[43m \u001b[49m\u001b[43mcopy_if_view\u001b[49m\u001b[43m=\u001b[49m\u001b[38;5;28;43;01mFalse\u001b[39;49;00m\u001b[43m)\u001b[49m\n\u001b[32m    117\u001b[39m \u001b[38;5;28;01mif\u001b[39;00m \u001b[38;5;28misinstance\u001b[39m(adata, MuData) \u001b[38;5;129;01mand\u001b[39;00m \u001b[38;5;28mself\u001b[39m.validation_checks.check_fully_paired_mudata:\n\u001b[32m    118\u001b[39m     _check_mudata_fully_paired(adata)\n",
      "\u001b[36mFile \u001b[39m\u001b[32m~/miniconda3/envs/scvi_project/lib/python3.11/site-packages/scvi/data/_utils.py:284\u001b[39m, in \u001b[36m_check_if_view\u001b[39m\u001b[34m(adata, copy_if_view)\u001b[39m\n\u001b[32m    282\u001b[39m         _assign_adata_uuid(adata, overwrite=\u001b[38;5;28;01mTrue\u001b[39;00m)\n\u001b[32m    283\u001b[39m     \u001b[38;5;28;01melse\u001b[39;00m:\n\u001b[32m--> \u001b[39m\u001b[32m284\u001b[39m         \u001b[38;5;28;01mraise\u001b[39;00m \u001b[38;5;167;01mValueError\u001b[39;00m(\u001b[33m\"\u001b[39m\u001b[33mPlease run `adata = adata.copy()`\u001b[39m\u001b[33m\"\u001b[39m)\n\u001b[32m    285\u001b[39m \u001b[38;5;28;01melif\u001b[39;00m \u001b[38;5;28misinstance\u001b[39m(adata, MuData):\n\u001b[32m    286\u001b[39m     \u001b[38;5;28;01mfor\u001b[39;00m mod_key \u001b[38;5;129;01min\u001b[39;00m adata.mod.keys():\n",
      "\u001b[31mValueError\u001b[39m: Please run `adata = adata.copy()`"
     ]
    }
   ],
   "source": [
    "# If we successfully loaded the data, proceed with scVI analysis\n",
    "if 'adata' in locals():\n",
    "    # Basic preprocessing if needed\n",
    "    if 'highly_variable' not in adata.var:\n",
    "        print(\"\\nPerforming basic preprocessing...\")\n",
    "        # Basic quality control\n",
    "        sc.pp.filter_cells(adata, min_genes=200)\n",
    "        sc.pp.filter_genes(adata, min_cells=3)\n",
    "        \n",
    "        # Calculate quality metrics\n",
    "        adata.var['mt'] = adata.var_names.str.startswith('mt-')\n",
    "        sc.pp.calculate_qc_metrics(adata, qc_vars=['mt'], inplace=True)\n",
    "        \n",
    "        # Filter cells based on QC metrics\n",
    "        adata = adata[adata.obs.n_genes_by_counts < 5000, :]\n",
    "        adata = adata[adata.obs.pct_counts_mt < 20, :]\n",
    "        \n",
    "        # Normalize and find highly variable genes\n",
    "        sc.pp.normalize_total(adata, target_sum=1e4)\n",
    "        sc.pp.log1p(adata)\n",
    "        sc.pp.highly_variable_genes(adata, n_top_genes=2000)\n",
    "    \n",
    "    # Set up the model\n",
    "    batch_key = 'library_label' if 'library_label' in adata.obs else None\n",
    "    labels_key = cluster_col if cluster_col else None\n",
    "    \n",
    "    print(f\"\\nSetting up scVI with batch_key: {batch_key}, labels_key: {labels_key}\")\n",
    "    \n",
    "    # Filter to highly variable genes if available\n",
    "    if 'highly_variable' in adata.var:\n",
    "        adata_hvg = adata[:, adata.var.highly_variable]\n",
    "    else:\n",
    "        adata_hvg = adata\n",
    "    \n",
    "    # Setup AnnData for scVI\n",
    "    scvi.model.SCVI.setup_anndata(\n",
    "        adata_hvg,\n",
    "        batch_key=batch_key,\n",
    "        labels_key=labels_key\n",
    "    )\n",
    "    \n",
    "    # Create and train the model\n",
    "    print(\"Training scVI model...\")\n",
    "    model = scvi.model.SCVI(adata_hvg)\n",
    "    model.train(max_epochs=400, early_stopping=True)\n",
    "    \n",
    "    # Save the trained model\n",
    "    model.save(\"scvi_model_allen_wmb\")\n",
    "    \n",
    "    print(\"Model training complete!\")\n",
    "    \n",
    "    # Get latent representation\n",
    "    print(\"Getting latent representation...\")\n",
    "    latent = model.get_latent_representation()\n",
    "    adata_hvg.obsm['X_scVI'] = latent\n",
    "    \n",
    "    # Run UMAP on the latent representation\n",
    "    print(\"Computing UMAP...\")\n",
    "    sc.pp.neighbors(adata_hvg, use_rep='X_scVI')\n",
    "    sc.tl.umap(adata_hvg)\n",
    "    \n",
    "    # Visualize results\n",
    "    print(\"Visualizing results...\")\n",
    "    fig, ax = plt.subplots(1, 2, figsize=(12, 5))\n",
    "    \n",
    "    if batch_key:\n",
    "        sc.pl.umap(adata_hvg, color=batch_key, ax=ax[0], show=False, title=f\"Batches ({batch_key})\")\n",
    "    else:\n",
    "        ax[0].set_title(\"No batch information available\")\n",
    "        \n",
    "    if labels_key:\n",
    "        sc.pl.umap(adata_hvg, color=labels_key, ax=ax[1], show=False, title=f\"Clusters ({labels_key})\")\n",
    "    else:\n",
    "        if 'anatomical_division_label' in adata_hvg.obs:\n",
    "            sc.pl.umap(adata_hvg, color='anatomical_division_label', ax=ax[1], show=False, \n",
    "                      title=\"Anatomical division\")\n",
    "        else:\n",
    "            # If no labels, try to cluster the data\n",
    "            print(\"No labels found, performing Leiden clustering...\")\n",
    "            sc.tl.leiden(adata_hvg, resolution=0.8)\n",
    "            sc.pl.umap(adata_hvg, color='leiden', ax=ax[1], show=False, title=\"Leiden clusters\")\n",
    "            \n",
    "    plt.tight_layout()\n",
    "    plt.show()\n",
    "else:\n",
    "    # If we couldn't load the data directly, let's try a different approach\n",
    "    print(\"\\nAttempting to access data through abc_cache API...\")\n",
    "    \n",
    "    # Let's list the available directories to find the correct path\n",
    "    print(\"Available directories:\")\n",
    "    for directory in abc_cache.list_directories:\n",
    "        if 'WMB-10Xv3' in directory:\n",
    "            print(f\" - {directory}\")\n",
    "    \n",
    "    # This should help us understand the correct directory structure\n",
    "    print(\"\\nPlease verify the correct directory path for the WMB-10Xv3 data.\")"
   ]
  },
  {
   "cell_type": "code",
   "execution_count": 44,
   "metadata": {},
   "outputs": [
    {
     "name": "stdout",
     "output_type": "stream",
     "text": [
      "\n",
      "Directories containing WMB-10Xv3:\n",
      " - WMB-10Xv3\n",
      "\n",
      "Files in WMB-10Xv3:\n",
      "[PosixPath('/home/jantine/Data/AllenBrain/abc_atlas/expression_matrices/WMB-10Xv3/20230630/WMB-10Xv3-CB-log2.h5ad'), PosixPath('/home/jantine/Data/AllenBrain/abc_atlas/expression_matrices/WMB-10Xv3/20230630/WMB-10Xv3-CB-raw.h5ad'), PosixPath('/home/jantine/Data/AllenBrain/abc_atlas/expression_matrices/WMB-10Xv3/20230630/WMB-10Xv3-CTXsp-log2.h5ad'), PosixPath('/home/jantine/Data/AllenBrain/abc_atlas/expression_matrices/WMB-10Xv3/20230630/WMB-10Xv3-CTXsp-raw.h5ad'), PosixPath('/home/jantine/Data/AllenBrain/abc_atlas/expression_matrices/WMB-10Xv3/20230630/WMB-10Xv3-HPF-log2.h5ad'), PosixPath('/home/jantine/Data/AllenBrain/abc_atlas/expression_matrices/WMB-10Xv3/20230630/WMB-10Xv3-HPF-raw.h5ad'), PosixPath('/home/jantine/Data/AllenBrain/abc_atlas/expression_matrices/WMB-10Xv3/20230630/WMB-10Xv3-HY-log2.h5ad'), PosixPath('/home/jantine/Data/AllenBrain/abc_atlas/expression_matrices/WMB-10Xv3/20230630/WMB-10Xv3-HY-raw.h5ad'), PosixPath('/home/jantine/Data/AllenBrain/abc_atlas/expression_matrices/WMB-10Xv3/20230630/WMB-10Xv3-Isocortex-1-log2.h5ad'), PosixPath('/home/jantine/Data/AllenBrain/abc_atlas/expression_matrices/WMB-10Xv3/20230630/WMB-10Xv3-Isocortex-1-raw.h5ad'), PosixPath('/home/jantine/Data/AllenBrain/abc_atlas/expression_matrices/WMB-10Xv3/20230630/WMB-10Xv3-Isocortex-2-log2.h5ad'), PosixPath('/home/jantine/Data/AllenBrain/abc_atlas/expression_matrices/WMB-10Xv3/20230630/WMB-10Xv3-Isocortex-2-raw.h5ad'), PosixPath('/home/jantine/Data/AllenBrain/abc_atlas/expression_matrices/WMB-10Xv3/20230630/WMB-10Xv3-MB-log2.h5ad'), PosixPath('/home/jantine/Data/AllenBrain/abc_atlas/expression_matrices/WMB-10Xv3/20230630/WMB-10Xv3-MB-raw.h5ad'), PosixPath('/home/jantine/Data/AllenBrain/abc_atlas/expression_matrices/WMB-10Xv3/20230630/WMB-10Xv3-MY-log2.h5ad'), PosixPath('/home/jantine/Data/AllenBrain/abc_atlas/expression_matrices/WMB-10Xv3/20230630/WMB-10Xv3-MY-raw.h5ad'), PosixPath('/home/jantine/Data/AllenBrain/abc_atlas/expression_matrices/WMB-10Xv3/20230630/WMB-10Xv3-OLF-log2.h5ad'), PosixPath('/home/jantine/Data/AllenBrain/abc_atlas/expression_matrices/WMB-10Xv3/20230630/WMB-10Xv3-OLF-raw.h5ad'), PosixPath('/home/jantine/Data/AllenBrain/abc_atlas/expression_matrices/WMB-10Xv3/20230630/WMB-10Xv3-P-log2.h5ad'), PosixPath('/home/jantine/Data/AllenBrain/abc_atlas/expression_matrices/WMB-10Xv3/20230630/WMB-10Xv3-P-raw.h5ad'), PosixPath('/home/jantine/Data/AllenBrain/abc_atlas/expression_matrices/WMB-10Xv3/20230630/WMB-10Xv3-PAL-log2.h5ad'), PosixPath('/home/jantine/Data/AllenBrain/abc_atlas/expression_matrices/WMB-10Xv3/20230630/WMB-10Xv3-PAL-raw.h5ad'), PosixPath('/home/jantine/Data/AllenBrain/abc_atlas/expression_matrices/WMB-10Xv3/20230630/WMB-10Xv3-STR-log2.h5ad'), PosixPath('/home/jantine/Data/AllenBrain/abc_atlas/expression_matrices/WMB-10Xv3/20230630/WMB-10Xv3-STR-raw.h5ad'), PosixPath('/home/jantine/Data/AllenBrain/abc_atlas/expression_matrices/WMB-10Xv3/20230630/WMB-10Xv3-TH-log2.h5ad'), PosixPath('/home/jantine/Data/AllenBrain/abc_atlas/expression_matrices/WMB-10Xv3/20230630/WMB-10Xv3-TH-raw.h5ad')]\n"
     ]
    },
    {
     "name": "stderr",
     "output_type": "stream",
     "text": [
      "/home/jantine/miniconda3/envs/scvi_project/lib/python3.11/site-packages/abc_atlas_access/abc_atlas_cache/abc_project_cache.py:385: LargeDataSizeWarning: WMB-10Xv3 contains a significant amount of data.Continue this download only if you are sure you have enough space on your system.\n",
      "\n",
      "\tTotal directory size = 176.41 GB\n",
      "\n",
      "\n",
      "  warnings.warn(\n"
     ]
    }
   ],
   "source": [
    "# List directories with WMB-10Xv3 in the name\n",
    "print(\"\\nDirectories containing WMB-10Xv3:\")\n",
    "wmb_directories = [d for d in abc_cache.list_directories if 'WMB-10Xv3' in d]\n",
    "for directory in wmb_directories:\n",
    "    print(f\" - {directory}\")\n",
    "\n",
    "# Try to get information about the first WMB-10Xv3 directory\n",
    "if wmb_directories:\n",
    "    first_dir = wmb_directories[0]\n",
    "    try:\n",
    "        files = abc_cache.get_directory_data(first_dir)\n",
    "        print(f\"\\nFiles in {first_dir}:\")\n",
    "        print(files)\n",
    "    except Exception as e:\n",
    "        print(f\"Error accessing {first_dir}: {e}\")"
   ]
  },
  {
   "cell_type": "code",
   "execution_count": null,
   "metadata": {},
   "outputs": [],
   "source": []
  },
  {
   "cell_type": "code",
   "execution_count": null,
   "metadata": {},
   "outputs": [],
   "source": [
    "# Basic quality checks\n",
    "sc.pp.filter_cells(adata, min_genes=200)\n",
    "sc.pp.filter_genes(adata, min_cells=3)\n",
    "\n",
    "# Calculate quality metrics\n",
    "adata.var[\"mt\"] = adata.var_names.str.startswith(\"mt-\")  # Adjust for mouse mitochondrial genes\n",
    "sc.pp.calculate_qc_metrics(adata, qc_vars=[\"mt\"], inplace=True)\n",
    "\n",
    "# Optional: Visualize QC metrics to determine thresholds\n",
    "plt.figure(figsize=(15, 4))\n",
    "plt.subplot(1, 3, 1)\n",
    "sns.histplot(adata.obs.n_genes_by_counts, kde=False)\n",
    "plt.title('Genes per Cell')\n",
    "\n",
    "plt.subplot(1, 3, 2)\n",
    "sns.histplot(adata.obs.total_counts, kde=False)\n",
    "plt.title('UMI Counts per Cell')\n",
    "\n",
    "plt.subplot(1, 3, 3)\n",
    "sns.histplot(adata.obs.pct_counts_mt, kde=False, bins=40)\n",
    "plt.title('% Mitochondrial Genes')\n",
    "plt.tight_layout()\n",
    "plt.show()\n",
    "\n",
    "# Filter based on QC metrics (adjust thresholds after viewing the plots)\n",
    "adata = adata[adata.obs.n_genes_by_counts < 5000, :]\n",
    "adata = adata[adata.obs.pct_counts_mt < 20, :]\n",
    "\n",
    "# Normalize and find highly variable genes\n",
    "sc.pp.normalize_total(adata, target_sum=1e4)\n",
    "sc.pp.log1p(adata)\n",
    "sc.pp.highly_variable_genes(adata, n_top_genes=2000)"
   ]
  }
 ],
 "metadata": {
  "kernelspec": {
   "display_name": "scvi_project",
   "language": "python",
   "name": "python3"
  },
  "language_info": {
   "codemirror_mode": {
    "name": "ipython",
    "version": 3
   },
   "file_extension": ".py",
   "mimetype": "text/x-python",
   "name": "python",
   "nbconvert_exporter": "python",
   "pygments_lexer": "ipython3",
   "version": "3.11.11"
  }
 },
 "nbformat": 4,
 "nbformat_minor": 2
}
